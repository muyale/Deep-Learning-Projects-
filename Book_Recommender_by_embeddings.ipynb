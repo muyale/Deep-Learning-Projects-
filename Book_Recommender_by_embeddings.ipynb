{
 "cells": [
  {
   "cell_type": "code",
   "execution_count": 1,
   "id": "18d10f36",
   "metadata": {},
   "outputs": [],
   "source": [
    "import pandas as pd\n",
    "import numpy as np\n",
    "import seaborn as sns\n",
    "import matplotlib.pyplot as plt\n",
    "from sklearn.preprocessing import MinMaxScaler,StandardScaler,LabelEncoder\n",
    "import torch\n",
    "from torch import nn\n",
    "from torch.nn import functional as F"
   ]
  },
  {
   "cell_type": "code",
   "execution_count": 2,
   "id": "ee927419",
   "metadata": {},
   "outputs": [
    {
     "name": "stderr",
     "output_type": "stream",
     "text": [
      "C:\\Users\\EDGAR MUYALE DAVIES\\AppData\\Local\\Temp\\ipykernel_9200\\3135728177.py:1: DtypeWarning: Columns (3) have mixed types. Specify dtype option on import or set low_memory=False.\n",
      "  books =  pd.read_csv(\"C:\\\\Datasets\\\\books\\\\Books.csv\")\n"
     ]
    }
   ],
   "source": [
    "books =  pd.read_csv(\"C:\\\\Datasets\\\\books\\\\Books.csv\")\n",
    "books = books.head(5000)\n",
    "ratings = pd.read_csv(\"C:\\\\Datasets\\\\books\\\\Ratings.csv\")\n",
    "ratings = ratings.head(5000)"
   ]
  },
  {
   "cell_type": "code",
   "execution_count": 3,
   "id": "3b3a3bc7",
   "metadata": {},
   "outputs": [
    {
     "data": {
      "text/plain": [
       "(5000, 8)"
      ]
     },
     "execution_count": 3,
     "metadata": {},
     "output_type": "execute_result"
    }
   ],
   "source": [
    "books.shape"
   ]
  },
  {
   "cell_type": "code",
   "execution_count": 4,
   "id": "c52e451f",
   "metadata": {},
   "outputs": [
    {
     "data": {
      "text/plain": [
       "(5000, 3)"
      ]
     },
     "execution_count": 4,
     "metadata": {},
     "output_type": "execute_result"
    }
   ],
   "source": [
    "ratings.shape"
   ]
  },
  {
   "cell_type": "code",
   "execution_count": 5,
   "id": "2566044d",
   "metadata": {},
   "outputs": [
    {
     "data": {
      "text/html": [
       "<div>\n",
       "<style scoped>\n",
       "    .dataframe tbody tr th:only-of-type {\n",
       "        vertical-align: middle;\n",
       "    }\n",
       "\n",
       "    .dataframe tbody tr th {\n",
       "        vertical-align: top;\n",
       "    }\n",
       "\n",
       "    .dataframe thead th {\n",
       "        text-align: right;\n",
       "    }\n",
       "</style>\n",
       "<table border=\"1\" class=\"dataframe\">\n",
       "  <thead>\n",
       "    <tr style=\"text-align: right;\">\n",
       "      <th></th>\n",
       "      <th>ISBN</th>\n",
       "      <th>Book-Title</th>\n",
       "      <th>Book-Author</th>\n",
       "      <th>Year-Of-Publication</th>\n",
       "      <th>Publisher</th>\n",
       "      <th>Image-URL-S</th>\n",
       "      <th>Image-URL-M</th>\n",
       "      <th>Image-URL-L</th>\n",
       "    </tr>\n",
       "  </thead>\n",
       "  <tbody>\n",
       "    <tr>\n",
       "      <th>0</th>\n",
       "      <td>195153448</td>\n",
       "      <td>Classical Mythology</td>\n",
       "      <td>Mark P. O. Morford</td>\n",
       "      <td>2002</td>\n",
       "      <td>Oxford University Press</td>\n",
       "      <td>http://images.amazon.com/images/P/0195153448.0...</td>\n",
       "      <td>http://images.amazon.com/images/P/0195153448.0...</td>\n",
       "      <td>http://images.amazon.com/images/P/0195153448.0...</td>\n",
       "    </tr>\n",
       "    <tr>\n",
       "      <th>1</th>\n",
       "      <td>2005018</td>\n",
       "      <td>Clara Callan</td>\n",
       "      <td>Richard Bruce Wright</td>\n",
       "      <td>2001</td>\n",
       "      <td>HarperFlamingo Canada</td>\n",
       "      <td>http://images.amazon.com/images/P/0002005018.0...</td>\n",
       "      <td>http://images.amazon.com/images/P/0002005018.0...</td>\n",
       "      <td>http://images.amazon.com/images/P/0002005018.0...</td>\n",
       "    </tr>\n",
       "    <tr>\n",
       "      <th>2</th>\n",
       "      <td>60973129</td>\n",
       "      <td>Decision in Normandy</td>\n",
       "      <td>Carlo D'Este</td>\n",
       "      <td>1991</td>\n",
       "      <td>HarperPerennial</td>\n",
       "      <td>http://images.amazon.com/images/P/0060973129.0...</td>\n",
       "      <td>http://images.amazon.com/images/P/0060973129.0...</td>\n",
       "      <td>http://images.amazon.com/images/P/0060973129.0...</td>\n",
       "    </tr>\n",
       "    <tr>\n",
       "      <th>3</th>\n",
       "      <td>374157065</td>\n",
       "      <td>Flu: The Story of the Great Influenza Pandemic...</td>\n",
       "      <td>Gina Bari Kolata</td>\n",
       "      <td>1999</td>\n",
       "      <td>Farrar Straus Giroux</td>\n",
       "      <td>http://images.amazon.com/images/P/0374157065.0...</td>\n",
       "      <td>http://images.amazon.com/images/P/0374157065.0...</td>\n",
       "      <td>http://images.amazon.com/images/P/0374157065.0...</td>\n",
       "    </tr>\n",
       "    <tr>\n",
       "      <th>4</th>\n",
       "      <td>393045218</td>\n",
       "      <td>The Mummies of Urumchi</td>\n",
       "      <td>E. J. W. Barber</td>\n",
       "      <td>1999</td>\n",
       "      <td>W. W. Norton &amp;amp; Company</td>\n",
       "      <td>http://images.amazon.com/images/P/0393045218.0...</td>\n",
       "      <td>http://images.amazon.com/images/P/0393045218.0...</td>\n",
       "      <td>http://images.amazon.com/images/P/0393045218.0...</td>\n",
       "    </tr>\n",
       "  </tbody>\n",
       "</table>\n",
       "</div>"
      ],
      "text/plain": [
       "        ISBN                                         Book-Title  \\\n",
       "0  195153448                                Classical Mythology   \n",
       "1    2005018                                       Clara Callan   \n",
       "2   60973129                               Decision in Normandy   \n",
       "3  374157065  Flu: The Story of the Great Influenza Pandemic...   \n",
       "4  393045218                             The Mummies of Urumchi   \n",
       "\n",
       "            Book-Author Year-Of-Publication                   Publisher  \\\n",
       "0    Mark P. O. Morford                2002     Oxford University Press   \n",
       "1  Richard Bruce Wright                2001       HarperFlamingo Canada   \n",
       "2          Carlo D'Este                1991             HarperPerennial   \n",
       "3      Gina Bari Kolata                1999        Farrar Straus Giroux   \n",
       "4       E. J. W. Barber                1999  W. W. Norton &amp; Company   \n",
       "\n",
       "                                         Image-URL-S  \\\n",
       "0  http://images.amazon.com/images/P/0195153448.0...   \n",
       "1  http://images.amazon.com/images/P/0002005018.0...   \n",
       "2  http://images.amazon.com/images/P/0060973129.0...   \n",
       "3  http://images.amazon.com/images/P/0374157065.0...   \n",
       "4  http://images.amazon.com/images/P/0393045218.0...   \n",
       "\n",
       "                                         Image-URL-M  \\\n",
       "0  http://images.amazon.com/images/P/0195153448.0...   \n",
       "1  http://images.amazon.com/images/P/0002005018.0...   \n",
       "2  http://images.amazon.com/images/P/0060973129.0...   \n",
       "3  http://images.amazon.com/images/P/0374157065.0...   \n",
       "4  http://images.amazon.com/images/P/0393045218.0...   \n",
       "\n",
       "                                         Image-URL-L  \n",
       "0  http://images.amazon.com/images/P/0195153448.0...  \n",
       "1  http://images.amazon.com/images/P/0002005018.0...  \n",
       "2  http://images.amazon.com/images/P/0060973129.0...  \n",
       "3  http://images.amazon.com/images/P/0374157065.0...  \n",
       "4  http://images.amazon.com/images/P/0393045218.0...  "
      ]
     },
     "execution_count": 5,
     "metadata": {},
     "output_type": "execute_result"
    }
   ],
   "source": [
    "books.head()"
   ]
  },
  {
   "cell_type": "code",
   "execution_count": 6,
   "id": "a853b4f8",
   "metadata": {},
   "outputs": [
    {
     "data": {
      "text/html": [
       "<div>\n",
       "<style scoped>\n",
       "    .dataframe tbody tr th:only-of-type {\n",
       "        vertical-align: middle;\n",
       "    }\n",
       "\n",
       "    .dataframe tbody tr th {\n",
       "        vertical-align: top;\n",
       "    }\n",
       "\n",
       "    .dataframe thead th {\n",
       "        text-align: right;\n",
       "    }\n",
       "</style>\n",
       "<table border=\"1\" class=\"dataframe\">\n",
       "  <thead>\n",
       "    <tr style=\"text-align: right;\">\n",
       "      <th></th>\n",
       "      <th>User-ID</th>\n",
       "      <th>ISBN</th>\n",
       "      <th>Book-Rating</th>\n",
       "    </tr>\n",
       "  </thead>\n",
       "  <tbody>\n",
       "    <tr>\n",
       "      <th>0</th>\n",
       "      <td>276725</td>\n",
       "      <td>034545104X</td>\n",
       "      <td>0</td>\n",
       "    </tr>\n",
       "    <tr>\n",
       "      <th>1</th>\n",
       "      <td>276726</td>\n",
       "      <td>0155061224</td>\n",
       "      <td>5</td>\n",
       "    </tr>\n",
       "    <tr>\n",
       "      <th>2</th>\n",
       "      <td>276727</td>\n",
       "      <td>0446520802</td>\n",
       "      <td>0</td>\n",
       "    </tr>\n",
       "    <tr>\n",
       "      <th>3</th>\n",
       "      <td>276729</td>\n",
       "      <td>052165615X</td>\n",
       "      <td>3</td>\n",
       "    </tr>\n",
       "    <tr>\n",
       "      <th>4</th>\n",
       "      <td>276729</td>\n",
       "      <td>0521795028</td>\n",
       "      <td>6</td>\n",
       "    </tr>\n",
       "  </tbody>\n",
       "</table>\n",
       "</div>"
      ],
      "text/plain": [
       "   User-ID        ISBN  Book-Rating\n",
       "0   276725  034545104X            0\n",
       "1   276726  0155061224            5\n",
       "2   276727  0446520802            0\n",
       "3   276729  052165615X            3\n",
       "4   276729  0521795028            6"
      ]
     },
     "execution_count": 6,
     "metadata": {},
     "output_type": "execute_result"
    }
   ],
   "source": [
    "ratings.head()"
   ]
  },
  {
   "cell_type": "code",
   "execution_count": 7,
   "id": "6d968164",
   "metadata": {},
   "outputs": [],
   "source": [
    "books.drop(['Image-URL-S','Image-URL-M','Image-URL-L'],axis=1,inplace=True)"
   ]
  },
  {
   "cell_type": "code",
   "execution_count": 8,
   "id": "7d10c0ce",
   "metadata": {},
   "outputs": [
    {
     "data": {
      "text/html": [
       "<div>\n",
       "<style scoped>\n",
       "    .dataframe tbody tr th:only-of-type {\n",
       "        vertical-align: middle;\n",
       "    }\n",
       "\n",
       "    .dataframe tbody tr th {\n",
       "        vertical-align: top;\n",
       "    }\n",
       "\n",
       "    .dataframe thead th {\n",
       "        text-align: right;\n",
       "    }\n",
       "</style>\n",
       "<table border=\"1\" class=\"dataframe\">\n",
       "  <thead>\n",
       "    <tr style=\"text-align: right;\">\n",
       "      <th></th>\n",
       "      <th>ISBN</th>\n",
       "      <th>Book-Title</th>\n",
       "      <th>Book-Author</th>\n",
       "      <th>Year-Of-Publication</th>\n",
       "      <th>Publisher</th>\n",
       "    </tr>\n",
       "  </thead>\n",
       "  <tbody>\n",
       "    <tr>\n",
       "      <th>0</th>\n",
       "      <td>195153448</td>\n",
       "      <td>Classical Mythology</td>\n",
       "      <td>Mark P. O. Morford</td>\n",
       "      <td>2002</td>\n",
       "      <td>Oxford University Press</td>\n",
       "    </tr>\n",
       "    <tr>\n",
       "      <th>1</th>\n",
       "      <td>2005018</td>\n",
       "      <td>Clara Callan</td>\n",
       "      <td>Richard Bruce Wright</td>\n",
       "      <td>2001</td>\n",
       "      <td>HarperFlamingo Canada</td>\n",
       "    </tr>\n",
       "    <tr>\n",
       "      <th>2</th>\n",
       "      <td>60973129</td>\n",
       "      <td>Decision in Normandy</td>\n",
       "      <td>Carlo D'Este</td>\n",
       "      <td>1991</td>\n",
       "      <td>HarperPerennial</td>\n",
       "    </tr>\n",
       "    <tr>\n",
       "      <th>3</th>\n",
       "      <td>374157065</td>\n",
       "      <td>Flu: The Story of the Great Influenza Pandemic...</td>\n",
       "      <td>Gina Bari Kolata</td>\n",
       "      <td>1999</td>\n",
       "      <td>Farrar Straus Giroux</td>\n",
       "    </tr>\n",
       "    <tr>\n",
       "      <th>4</th>\n",
       "      <td>393045218</td>\n",
       "      <td>The Mummies of Urumchi</td>\n",
       "      <td>E. J. W. Barber</td>\n",
       "      <td>1999</td>\n",
       "      <td>W. W. Norton &amp;amp; Company</td>\n",
       "    </tr>\n",
       "  </tbody>\n",
       "</table>\n",
       "</div>"
      ],
      "text/plain": [
       "        ISBN                                         Book-Title  \\\n",
       "0  195153448                                Classical Mythology   \n",
       "1    2005018                                       Clara Callan   \n",
       "2   60973129                               Decision in Normandy   \n",
       "3  374157065  Flu: The Story of the Great Influenza Pandemic...   \n",
       "4  393045218                             The Mummies of Urumchi   \n",
       "\n",
       "            Book-Author Year-Of-Publication                   Publisher  \n",
       "0    Mark P. O. Morford                2002     Oxford University Press  \n",
       "1  Richard Bruce Wright                2001       HarperFlamingo Canada  \n",
       "2          Carlo D'Este                1991             HarperPerennial  \n",
       "3      Gina Bari Kolata                1999        Farrar Straus Giroux  \n",
       "4       E. J. W. Barber                1999  W. W. Norton &amp; Company  "
      ]
     },
     "execution_count": 8,
     "metadata": {},
     "output_type": "execute_result"
    }
   ],
   "source": [
    "books.head()"
   ]
  },
  {
   "cell_type": "code",
   "execution_count": 9,
   "id": "2fcf8c46",
   "metadata": {},
   "outputs": [
    {
     "data": {
      "text/plain": [
       "ISBN                   5000\n",
       "Book-Title             4835\n",
       "Book-Author            3182\n",
       "Year-Of-Publication      59\n",
       "Publisher              1086\n",
       "dtype: int64"
      ]
     },
     "execution_count": 9,
     "metadata": {},
     "output_type": "execute_result"
    }
   ],
   "source": [
    "books.nunique()"
   ]
  },
  {
   "cell_type": "code",
   "execution_count": 10,
   "id": "0d6fc288",
   "metadata": {},
   "outputs": [
    {
     "data": {
      "text/plain": [
       "ISBN                   0\n",
       "Book-Title             0\n",
       "Book-Author            0\n",
       "Year-Of-Publication    0\n",
       "Publisher              0\n",
       "dtype: int64"
      ]
     },
     "execution_count": 10,
     "metadata": {},
     "output_type": "execute_result"
    }
   ],
   "source": [
    "books.eq(\"Unknown\").sum()"
   ]
  },
  {
   "cell_type": "code",
   "execution_count": 11,
   "id": "0a4a88e2",
   "metadata": {},
   "outputs": [],
   "source": [
    "# Dropping null values as they will impact the perfomance of our model\n",
    "books['Book-Title'].fillna(\"NULL\",inplace=True)\n",
    "books['Book-Author'].fillna(\"NULL\",inplace=True)\n",
    "books.Publisher.fillna(\"NULL\",inplace=True)"
   ]
  },
  {
   "cell_type": "code",
   "execution_count": 12,
   "id": "b8146b00",
   "metadata": {},
   "outputs": [
    {
     "data": {
      "text/plain": [
       "ISBN                   0\n",
       "Book-Title             0\n",
       "Book-Author            0\n",
       "Year-Of-Publication    0\n",
       "Publisher              0\n",
       "dtype: int64"
      ]
     },
     "execution_count": 12,
     "metadata": {},
     "output_type": "execute_result"
    }
   ],
   "source": [
    "books.isnull().sum()"
   ]
  },
  {
   "cell_type": "code",
   "execution_count": 13,
   "id": "a4b3ecec",
   "metadata": {},
   "outputs": [
    {
     "data": {
      "text/plain": [
       "5000"
      ]
     },
     "execution_count": 13,
     "metadata": {},
     "output_type": "execute_result"
    }
   ],
   "source": [
    "books.ISBN.nunique()"
   ]
  },
  {
   "cell_type": "code",
   "execution_count": 14,
   "id": "9cc7f60b",
   "metadata": {},
   "outputs": [
    {
     "data": {
      "text/plain": [
       "4688"
      ]
     },
     "execution_count": 14,
     "metadata": {},
     "output_type": "execute_result"
    }
   ],
   "source": [
    "ratings.ISBN.nunique()"
   ]
  },
  {
   "cell_type": "code",
   "execution_count": 15,
   "id": "81792b01",
   "metadata": {},
   "outputs": [],
   "source": [
    "bad_books = [x for x in ratings.ISBN.unique() if x not in books.ISBN.unique()]\n",
    "badIndecies = ratings [ ratings.ISBN.isin(bad_books)].index\n",
    "ratings.drop(badIndecies,inplace=True)"
   ]
  },
  {
   "cell_type": "markdown",
   "id": "b4886638",
   "metadata": {},
   "source": [
    "# Preprocessing"
   ]
  },
  {
   "cell_type": "code",
   "execution_count": 16,
   "id": "d328786a",
   "metadata": {},
   "outputs": [],
   "source": [
    "def normalise_text (text):\n",
    "    text = text.lower() # lowercase\n",
    "    text = text.replace(r\"\\#\",\"\") # replaces hashtags\n",
    "    text = text.replace(r\"http\\S+\",\"URL\")  # remove URL addresses\n",
    "    text = text.replace(r\"@\",\"\")\n",
    "    text = text.replace(r\"[^A-Z .,a-z0-9()!?\\'\\`\\\"]\", \" \")\n",
    "    text = text.replace(\"\\s{2,}\", \" \")\n",
    "    return text"
   ]
  },
  {
   "cell_type": "code",
   "execution_count": 17,
   "id": "8de636b2",
   "metadata": {},
   "outputs": [
    {
     "data": {
      "text/html": [
       "<div>\n",
       "<style scoped>\n",
       "    .dataframe tbody tr th:only-of-type {\n",
       "        vertical-align: middle;\n",
       "    }\n",
       "\n",
       "    .dataframe tbody tr th {\n",
       "        vertical-align: top;\n",
       "    }\n",
       "\n",
       "    .dataframe thead th {\n",
       "        text-align: right;\n",
       "    }\n",
       "</style>\n",
       "<table border=\"1\" class=\"dataframe\">\n",
       "  <thead>\n",
       "    <tr style=\"text-align: right;\">\n",
       "      <th></th>\n",
       "      <th>ISBN</th>\n",
       "      <th>Book-Title</th>\n",
       "      <th>Book-Author</th>\n",
       "      <th>Year-Of-Publication</th>\n",
       "      <th>Publisher</th>\n",
       "    </tr>\n",
       "  </thead>\n",
       "  <tbody>\n",
       "    <tr>\n",
       "      <th>0</th>\n",
       "      <td>195153448</td>\n",
       "      <td>Classical Mythology</td>\n",
       "      <td>Mark P. O. Morford</td>\n",
       "      <td>2002</td>\n",
       "      <td>Oxford University Press</td>\n",
       "    </tr>\n",
       "    <tr>\n",
       "      <th>1</th>\n",
       "      <td>2005018</td>\n",
       "      <td>Clara Callan</td>\n",
       "      <td>Richard Bruce Wright</td>\n",
       "      <td>2001</td>\n",
       "      <td>HarperFlamingo Canada</td>\n",
       "    </tr>\n",
       "    <tr>\n",
       "      <th>2</th>\n",
       "      <td>60973129</td>\n",
       "      <td>Decision in Normandy</td>\n",
       "      <td>Carlo D'Este</td>\n",
       "      <td>1991</td>\n",
       "      <td>HarperPerennial</td>\n",
       "    </tr>\n",
       "    <tr>\n",
       "      <th>3</th>\n",
       "      <td>374157065</td>\n",
       "      <td>Flu: The Story of the Great Influenza Pandemic...</td>\n",
       "      <td>Gina Bari Kolata</td>\n",
       "      <td>1999</td>\n",
       "      <td>Farrar Straus Giroux</td>\n",
       "    </tr>\n",
       "    <tr>\n",
       "      <th>4</th>\n",
       "      <td>393045218</td>\n",
       "      <td>The Mummies of Urumchi</td>\n",
       "      <td>E. J. W. Barber</td>\n",
       "      <td>1999</td>\n",
       "      <td>W. W. Norton &amp;amp; Company</td>\n",
       "    </tr>\n",
       "  </tbody>\n",
       "</table>\n",
       "</div>"
      ],
      "text/plain": [
       "        ISBN                                         Book-Title  \\\n",
       "0  195153448                                Classical Mythology   \n",
       "1    2005018                                       Clara Callan   \n",
       "2   60973129                               Decision in Normandy   \n",
       "3  374157065  Flu: The Story of the Great Influenza Pandemic...   \n",
       "4  393045218                             The Mummies of Urumchi   \n",
       "\n",
       "            Book-Author Year-Of-Publication                   Publisher  \n",
       "0    Mark P. O. Morford                2002     Oxford University Press  \n",
       "1  Richard Bruce Wright                2001       HarperFlamingo Canada  \n",
       "2          Carlo D'Este                1991             HarperPerennial  \n",
       "3      Gina Bari Kolata                1999        Farrar Straus Giroux  \n",
       "4       E. J. W. Barber                1999  W. W. Norton &amp; Company  "
      ]
     },
     "execution_count": 17,
     "metadata": {},
     "output_type": "execute_result"
    }
   ],
   "source": [
    "books.head()"
   ]
  },
  {
   "cell_type": "code",
   "execution_count": 18,
   "id": "a4707237",
   "metadata": {},
   "outputs": [],
   "source": [
    "books['Book-Title'] = books['Book-Title'].apply(normalise_text)\n",
    "books['Book-Author'] = books['Book-Author'].apply(normalise_text)\n",
    "books['Publisher'] = books['Publisher'].apply(normalise_text)"
   ]
  },
  {
   "cell_type": "code",
   "execution_count": 19,
   "id": "cc47b778",
   "metadata": {},
   "outputs": [],
   "source": [
    "def get_important_features(df):\n",
    "    important_features = []\n",
    "    for i in range (df.shape[0]):\n",
    "        important_features.append(df['Book-Title'][i]+df['Book-Author'][i]+df['Publisher'][i])\n",
    "    return important_features"
   ]
  },
  {
   "cell_type": "code",
   "execution_count": 20,
   "id": "be6e032e",
   "metadata": {},
   "outputs": [],
   "source": [
    "books['important'] = get_important_features(books)"
   ]
  },
  {
   "cell_type": "code",
   "execution_count": 21,
   "id": "b94ae30a",
   "metadata": {},
   "outputs": [],
   "source": [
    "new_df = books"
   ]
  },
  {
   "cell_type": "code",
   "execution_count": 22,
   "id": "682f6c5c",
   "metadata": {},
   "outputs": [],
   "source": [
    "base = books.copy()"
   ]
  },
  {
   "cell_type": "code",
   "execution_count": 23,
   "id": "d7c625d8",
   "metadata": {},
   "outputs": [],
   "source": [
    "base['Book-Title'] = base['Book-Title'].apply(lambda x: \" \".join(x.split(\" \")).split(\", \")) \n",
    "base ['Book-Author'] = base ['Book-Author'].apply(lambda x: \" \".join(x.split(\" \")).split(\", \")) "
   ]
  },
  {
   "cell_type": "code",
   "execution_count": 24,
   "id": "b8be42e1",
   "metadata": {},
   "outputs": [
    {
     "data": {
      "text/html": [
       "<div>\n",
       "<style scoped>\n",
       "    .dataframe tbody tr th:only-of-type {\n",
       "        vertical-align: middle;\n",
       "    }\n",
       "\n",
       "    .dataframe tbody tr th {\n",
       "        vertical-align: top;\n",
       "    }\n",
       "\n",
       "    .dataframe thead th {\n",
       "        text-align: right;\n",
       "    }\n",
       "</style>\n",
       "<table border=\"1\" class=\"dataframe\">\n",
       "  <thead>\n",
       "    <tr style=\"text-align: right;\">\n",
       "      <th></th>\n",
       "      <th>ISBN</th>\n",
       "      <th>Book-Title</th>\n",
       "      <th>Book-Author</th>\n",
       "      <th>Year-Of-Publication</th>\n",
       "      <th>Publisher</th>\n",
       "      <th>important</th>\n",
       "    </tr>\n",
       "  </thead>\n",
       "  <tbody>\n",
       "    <tr>\n",
       "      <th>0</th>\n",
       "      <td>195153448</td>\n",
       "      <td>[classical mythology]</td>\n",
       "      <td>[mark p. o. morford]</td>\n",
       "      <td>2002</td>\n",
       "      <td>oxford university press</td>\n",
       "      <td>classical mythologymark p. o. morfordoxford un...</td>\n",
       "    </tr>\n",
       "    <tr>\n",
       "      <th>1</th>\n",
       "      <td>2005018</td>\n",
       "      <td>[clara callan]</td>\n",
       "      <td>[richard bruce wright]</td>\n",
       "      <td>2001</td>\n",
       "      <td>harperflamingo canada</td>\n",
       "      <td>clara callanrichard bruce wrightharperflamingo...</td>\n",
       "    </tr>\n",
       "    <tr>\n",
       "      <th>2</th>\n",
       "      <td>60973129</td>\n",
       "      <td>[decision in normandy]</td>\n",
       "      <td>[carlo d'este]</td>\n",
       "      <td>1991</td>\n",
       "      <td>harperperennial</td>\n",
       "      <td>decision in normandycarlo d'esteharperperennial</td>\n",
       "    </tr>\n",
       "    <tr>\n",
       "      <th>3</th>\n",
       "      <td>374157065</td>\n",
       "      <td>[flu: the story of the great influenza pandemi...</td>\n",
       "      <td>[gina bari kolata]</td>\n",
       "      <td>1999</td>\n",
       "      <td>farrar straus giroux</td>\n",
       "      <td>flu: the story of the great influenza pandemic...</td>\n",
       "    </tr>\n",
       "    <tr>\n",
       "      <th>4</th>\n",
       "      <td>393045218</td>\n",
       "      <td>[the mummies of urumchi]</td>\n",
       "      <td>[e. j. w. barber]</td>\n",
       "      <td>1999</td>\n",
       "      <td>w. w. norton &amp;amp; company</td>\n",
       "      <td>the mummies of urumchie. j. w. barberw. w. nor...</td>\n",
       "    </tr>\n",
       "  </tbody>\n",
       "</table>\n",
       "</div>"
      ],
      "text/plain": [
       "        ISBN                                         Book-Title  \\\n",
       "0  195153448                              [classical mythology]   \n",
       "1    2005018                                     [clara callan]   \n",
       "2   60973129                             [decision in normandy]   \n",
       "3  374157065  [flu: the story of the great influenza pandemi...   \n",
       "4  393045218                           [the mummies of urumchi]   \n",
       "\n",
       "              Book-Author Year-Of-Publication                   Publisher  \\\n",
       "0    [mark p. o. morford]                2002     oxford university press   \n",
       "1  [richard bruce wright]                2001       harperflamingo canada   \n",
       "2          [carlo d'este]                1991             harperperennial   \n",
       "3      [gina bari kolata]                1999        farrar straus giroux   \n",
       "4       [e. j. w. barber]                1999  w. w. norton &amp; company   \n",
       "\n",
       "                                           important  \n",
       "0  classical mythologymark p. o. morfordoxford un...  \n",
       "1  clara callanrichard bruce wrightharperflamingo...  \n",
       "2    decision in normandycarlo d'esteharperperennial  \n",
       "3  flu: the story of the great influenza pandemic...  \n",
       "4  the mummies of urumchie. j. w. barberw. w. nor...  "
      ]
     },
     "execution_count": 24,
     "metadata": {},
     "output_type": "execute_result"
    }
   ],
   "source": [
    "base.head()"
   ]
  },
  {
   "cell_type": "code",
   "execution_count": 25,
   "id": "07a787f6",
   "metadata": {},
   "outputs": [
    {
     "name": "stdout",
     "output_type": "stream",
     "text": [
      "The total number of unique in ISBN is 5000\n",
      "The total number of unique in Book-Title is 4824\n",
      "The total number of unique in Book-Author is 3065\n",
      "The total number of unique in Year-Of-Publication is 59\n",
      "The total number of unique in Publisher is 1080\n",
      "The total number of unique in important is 4971\n"
     ]
    }
   ],
   "source": [
    "for column in books.columns:\n",
    "    print(f\"The total number of unique in {column} is {books[column].nunique()}\")"
   ]
  },
  {
   "cell_type": "code",
   "execution_count": 26,
   "id": "75acd57b",
   "metadata": {},
   "outputs": [],
   "source": [
    "cat_features = ['Book-Title','Book-Author','Year-Of-Publication','Publisher']"
   ]
  },
  {
   "cell_type": "code",
   "execution_count": 27,
   "id": "8e545c38",
   "metadata": {},
   "outputs": [],
   "source": [
    "label_encoder = {}\n",
    "for features in cat_features:\n",
    "    label_encoder = LabelEncoder()\n",
    "    books[features] = label_encoder.fit_transform(books[features])"
   ]
  },
  {
   "cell_type": "code",
   "execution_count": 28,
   "id": "8f903702",
   "metadata": {},
   "outputs": [
    {
     "data": {
      "text/html": [
       "<div>\n",
       "<style scoped>\n",
       "    .dataframe tbody tr th:only-of-type {\n",
       "        vertical-align: middle;\n",
       "    }\n",
       "\n",
       "    .dataframe tbody tr th {\n",
       "        vertical-align: top;\n",
       "    }\n",
       "\n",
       "    .dataframe thead th {\n",
       "        text-align: right;\n",
       "    }\n",
       "</style>\n",
       "<table border=\"1\" class=\"dataframe\">\n",
       "  <thead>\n",
       "    <tr style=\"text-align: right;\">\n",
       "      <th></th>\n",
       "      <th>ISBN</th>\n",
       "      <th>Book-Title</th>\n",
       "      <th>Book-Author</th>\n",
       "      <th>Year-Of-Publication</th>\n",
       "      <th>Publisher</th>\n",
       "      <th>important</th>\n",
       "    </tr>\n",
       "  </thead>\n",
       "  <tbody>\n",
       "    <tr>\n",
       "      <th>0</th>\n",
       "      <td>195153448</td>\n",
       "      <td>679</td>\n",
       "      <td>1937</td>\n",
       "      <td>55</td>\n",
       "      <td>678</td>\n",
       "      <td>classical mythologymark p. o. morfordoxford un...</td>\n",
       "    </tr>\n",
       "    <tr>\n",
       "      <th>1</th>\n",
       "      <td>2005018</td>\n",
       "      <td>677</td>\n",
       "      <td>2419</td>\n",
       "      <td>54</td>\n",
       "      <td>421</td>\n",
       "      <td>clara callanrichard bruce wrightharperflamingo...</td>\n",
       "    </tr>\n",
       "    <tr>\n",
       "      <th>2</th>\n",
       "      <td>60973129</td>\n",
       "      <td>892</td>\n",
       "      <td>392</td>\n",
       "      <td>44</td>\n",
       "      <td>422</td>\n",
       "      <td>decision in normandycarlo d'esteharperperennial</td>\n",
       "    </tr>\n",
       "    <tr>\n",
       "      <th>3</th>\n",
       "      <td>374157065</td>\n",
       "      <td>1325</td>\n",
       "      <td>1044</td>\n",
       "      <td>52</td>\n",
       "      <td>320</td>\n",
       "      <td>flu: the story of the great influenza pandemic...</td>\n",
       "    </tr>\n",
       "    <tr>\n",
       "      <th>4</th>\n",
       "      <td>393045218</td>\n",
       "      <td>3976</td>\n",
       "      <td>785</td>\n",
       "      <td>52</td>\n",
       "      <td>1029</td>\n",
       "      <td>the mummies of urumchie. j. w. barberw. w. nor...</td>\n",
       "    </tr>\n",
       "  </tbody>\n",
       "</table>\n",
       "</div>"
      ],
      "text/plain": [
       "        ISBN  Book-Title  Book-Author  Year-Of-Publication  Publisher  \\\n",
       "0  195153448         679         1937                   55        678   \n",
       "1    2005018         677         2419                   54        421   \n",
       "2   60973129         892          392                   44        422   \n",
       "3  374157065        1325         1044                   52        320   \n",
       "4  393045218        3976          785                   52       1029   \n",
       "\n",
       "                                           important  \n",
       "0  classical mythologymark p. o. morfordoxford un...  \n",
       "1  clara callanrichard bruce wrightharperflamingo...  \n",
       "2    decision in normandycarlo d'esteharperperennial  \n",
       "3  flu: the story of the great influenza pandemic...  \n",
       "4  the mummies of urumchie. j. w. barberw. w. nor...  "
      ]
     },
     "execution_count": 28,
     "metadata": {},
     "output_type": "execute_result"
    }
   ],
   "source": [
    "books.head()"
   ]
  },
  {
   "cell_type": "code",
   "execution_count": 29,
   "id": "81c17a5d",
   "metadata": {},
   "outputs": [],
   "source": [
    "X= books[cat_features].values"
   ]
  },
  {
   "cell_type": "code",
   "execution_count": 30,
   "id": "9eb1c708",
   "metadata": {},
   "outputs": [],
   "source": [
    "scaler = MinMaxScaler()"
   ]
  },
  {
   "cell_type": "code",
   "execution_count": 31,
   "id": "445ba852",
   "metadata": {},
   "outputs": [],
   "source": [
    "raw_data = scaler.fit_transform(X)"
   ]
  },
  {
   "cell_type": "code",
   "execution_count": 32,
   "id": "21d177bb",
   "metadata": {},
   "outputs": [
    {
     "data": {
      "text/plain": [
       "array([[0.14078374, 0.63218016, 0.94827586, 0.62835959],\n",
       "       [0.14036906, 0.78949086, 0.93103448, 0.39017609],\n",
       "       [0.18494713, 0.12793734, 0.75862069, 0.39110287],\n",
       "       ...,\n",
       "       [0.01990462, 0.43896867, 0.67241379, 0.81093605],\n",
       "       [0.0978644 , 0.91481723, 0.96551724, 0.43466172],\n",
       "       [0.28799502, 0.81527415, 0.93103448, 0.8897127 ]])"
      ]
     },
     "execution_count": 32,
     "metadata": {},
     "output_type": "execute_result"
    }
   ],
   "source": [
    "raw_data"
   ]
  },
  {
   "cell_type": "code",
   "execution_count": 33,
   "id": "165e0b33",
   "metadata": {},
   "outputs": [
    {
     "data": {
      "text/plain": [
       "(5000, 4)"
      ]
     },
     "execution_count": 33,
     "metadata": {},
     "output_type": "execute_result"
    }
   ],
   "source": [
    "raw_data.shape"
   ]
  },
  {
   "cell_type": "markdown",
   "id": "7868ff50",
   "metadata": {},
   "source": [
    "# PRINCIPAL COMPONENT ANALYSIS"
   ]
  },
  {
   "cell_type": "code",
   "execution_count": 34,
   "id": "f9ea1354",
   "metadata": {},
   "outputs": [],
   "source": [
    "from sklearn.decomposition import PCA"
   ]
  },
  {
   "cell_type": "code",
   "execution_count": 35,
   "id": "8f8ac4d7",
   "metadata": {},
   "outputs": [
    {
     "data": {
      "text/html": [
       "<div>\n",
       "<style scoped>\n",
       "    .dataframe tbody tr th:only-of-type {\n",
       "        vertical-align: middle;\n",
       "    }\n",
       "\n",
       "    .dataframe tbody tr th {\n",
       "        vertical-align: top;\n",
       "    }\n",
       "\n",
       "    .dataframe thead th {\n",
       "        text-align: right;\n",
       "    }\n",
       "</style>\n",
       "<table border=\"1\" class=\"dataframe\">\n",
       "  <thead>\n",
       "    <tr style=\"text-align: right;\">\n",
       "      <th></th>\n",
       "      <th>count</th>\n",
       "      <th>mean</th>\n",
       "      <th>std</th>\n",
       "      <th>min</th>\n",
       "      <th>25%</th>\n",
       "      <th>50%</th>\n",
       "      <th>75%</th>\n",
       "      <th>max</th>\n",
       "    </tr>\n",
       "  </thead>\n",
       "  <tbody>\n",
       "    <tr>\n",
       "      <th>col1</th>\n",
       "      <td>5000.0</td>\n",
       "      <td>-1.038725e-16</td>\n",
       "      <td>0.305047</td>\n",
       "      <td>-0.646947</td>\n",
       "      <td>-0.267711</td>\n",
       "      <td>0.010472</td>\n",
       "      <td>0.259904</td>\n",
       "      <td>0.688803</td>\n",
       "    </tr>\n",
       "    <tr>\n",
       "      <th>col2</th>\n",
       "      <td>5000.0</td>\n",
       "      <td>1.703637e-17</td>\n",
       "      <td>0.288380</td>\n",
       "      <td>-0.761577</td>\n",
       "      <td>-0.215500</td>\n",
       "      <td>0.001266</td>\n",
       "      <td>0.210928</td>\n",
       "      <td>0.777916</td>\n",
       "    </tr>\n",
       "    <tr>\n",
       "      <th>col3</th>\n",
       "      <td>5000.0</td>\n",
       "      <td>3.365086e-17</td>\n",
       "      <td>0.287272</td>\n",
       "      <td>-0.707354</td>\n",
       "      <td>-0.210020</td>\n",
       "      <td>-0.001946</td>\n",
       "      <td>0.207659</td>\n",
       "      <td>0.748324</td>\n",
       "    </tr>\n",
       "  </tbody>\n",
       "</table>\n",
       "</div>"
      ],
      "text/plain": [
       "       count          mean       std       min       25%       50%       75%  \\\n",
       "col1  5000.0 -1.038725e-16  0.305047 -0.646947 -0.267711  0.010472  0.259904   \n",
       "col2  5000.0  1.703637e-17  0.288380 -0.761577 -0.215500  0.001266  0.210928   \n",
       "col3  5000.0  3.365086e-17  0.287272 -0.707354 -0.210020 -0.001946  0.207659   \n",
       "\n",
       "           max  \n",
       "col1  0.688803  \n",
       "col2  0.777916  \n",
       "col3  0.748324  "
      ]
     },
     "execution_count": 35,
     "metadata": {},
     "output_type": "execute_result"
    }
   ],
   "source": [
    "pca = PCA(n_components=3)\n",
    "pca.fit(raw_data)\n",
    "PCA_ds = pd.DataFrame(pca.transform(raw_data), columns=([\"col1\",\"col2\", \"col3\"]))\n",
    "PCA_ds.describe().T"
   ]
  },
  {
   "cell_type": "code",
   "execution_count": 36,
   "id": "2401150f",
   "metadata": {},
   "outputs": [
    {
     "data": {
      "image/png": "[encoded data removed]",
      "text/plain": [
       "<Figure size 1000x800 with 1 Axes>"
      ]
     },
     "metadata": {},
     "output_type": "display_data"
    }
   ],
   "source": [
    "x =PCA_ds[\"col1\"]\n",
    "y =PCA_ds[\"col2\"]\n",
    "z =PCA_ds[\"col3\"]\n",
    "#To plot\n",
    "fig = plt.figure(figsize=(10,8))\n",
    "ax = fig.add_subplot(111, projection=\"3d\")\n",
    "ax.scatter(x,y,z, c=\"maroon\", marker=\"o\" )\n",
    "ax.set_title(\"A 3D Projection Of Data In The Reduced Dimension\")\n",
    "plt.show()"
   ]
  },
  {
   "cell_type": "markdown",
   "id": "41d35609",
   "metadata": {},
   "source": [
    "# COSINE SIMILARITY THAT  RETURNS : ISBN"
   ]
  },
  {
   "cell_type": "code",
   "execution_count": 37,
   "id": "a797fbd2",
   "metadata": {},
   "outputs": [],
   "source": [
    "from sklearn.feature_extraction.text import TfidfVectorizer\n",
    "from sklearn.metrics.pairwise import cosine_similarity\n",
    "tfidf = TfidfVectorizer()\n",
    "relevant = tfidf.fit_transform(books[cat_features])\n",
    "c_similar = cosine_similarity(relevant)\n",
    "\n",
    "indices = pd.Series(books.index, index=books['ISBN'])\n",
    "\n",
    "\n",
    "def get_recommendations(title):\n",
    "    idx = indices[title]\n",
    "    sim_scores = list(enumerate(c_similar[idx]))\n",
    "    sim_scores = sorted(sim_scores, key=lambda x: x[1], reverse=True)\n",
    "    sim_scores = sim_scores[1:10]\n",
    "    book_indices = [i[0] for i in sim_scores]\n",
    "    print('The following books might interest you')\n",
    "\n",
    "    return books['ISBN'].iloc[book_indices]"
   ]
  },
  {
   "cell_type": "code",
   "execution_count": 38,
   "id": "4e7a6812",
   "metadata": {},
   "outputs": [
    {
     "name": "stdout",
     "output_type": "stream",
     "text": [
      "The following books might interest you\n"
     ]
    },
    {
     "data": {
      "text/plain": [
       "0    195153448\n",
       "2     60973129\n",
       "3    374157065\n",
       "Name: ISBN, dtype: object"
      ]
     },
     "execution_count": 38,
     "metadata": {},
     "output_type": "execute_result"
    }
   ],
   "source": [
    "get_recommendations('2005018')"
   ]
  },
  {
   "cell_type": "markdown",
   "id": "da3ef390",
   "metadata": {},
   "source": [
    "# DEEP LEARNING AND LEARNED EMBEDDINGS"
   ]
  },
  {
   "cell_type": "code",
   "execution_count": 39,
   "id": "d9207482",
   "metadata": {},
   "outputs": [],
   "source": [
    "def get_important_features(df):\n",
    "    important_features = []\n",
    "    for i in range (df.shape[0]):\n",
    "        important_features.append(df['Book-Title'][i]+df['Book-Author'][i]+df['Publisher'][i])\n",
    "    return important_features"
   ]
  },
  {
   "cell_type": "code",
   "execution_count": 40,
   "id": "29b5bc4e",
   "metadata": {},
   "outputs": [
    {
     "data": {
      "text/html": [
       "<div>\n",
       "<style scoped>\n",
       "    .dataframe tbody tr th:only-of-type {\n",
       "        vertical-align: middle;\n",
       "    }\n",
       "\n",
       "    .dataframe tbody tr th {\n",
       "        vertical-align: top;\n",
       "    }\n",
       "\n",
       "    .dataframe thead th {\n",
       "        text-align: right;\n",
       "    }\n",
       "</style>\n",
       "<table border=\"1\" class=\"dataframe\">\n",
       "  <thead>\n",
       "    <tr style=\"text-align: right;\">\n",
       "      <th></th>\n",
       "      <th>ISBN</th>\n",
       "      <th>Book-Title</th>\n",
       "      <th>Book-Author</th>\n",
       "      <th>Year-Of-Publication</th>\n",
       "      <th>Publisher</th>\n",
       "      <th>important</th>\n",
       "    </tr>\n",
       "  </thead>\n",
       "  <tbody>\n",
       "    <tr>\n",
       "      <th>0</th>\n",
       "      <td>195153448</td>\n",
       "      <td>679</td>\n",
       "      <td>1937</td>\n",
       "      <td>55</td>\n",
       "      <td>678</td>\n",
       "      <td>classical mythologymark p. o. morfordoxford un...</td>\n",
       "    </tr>\n",
       "    <tr>\n",
       "      <th>1</th>\n",
       "      <td>2005018</td>\n",
       "      <td>677</td>\n",
       "      <td>2419</td>\n",
       "      <td>54</td>\n",
       "      <td>421</td>\n",
       "      <td>clara callanrichard bruce wrightharperflamingo...</td>\n",
       "    </tr>\n",
       "    <tr>\n",
       "      <th>2</th>\n",
       "      <td>60973129</td>\n",
       "      <td>892</td>\n",
       "      <td>392</td>\n",
       "      <td>44</td>\n",
       "      <td>422</td>\n",
       "      <td>decision in normandycarlo d'esteharperperennial</td>\n",
       "    </tr>\n",
       "    <tr>\n",
       "      <th>3</th>\n",
       "      <td>374157065</td>\n",
       "      <td>1325</td>\n",
       "      <td>1044</td>\n",
       "      <td>52</td>\n",
       "      <td>320</td>\n",
       "      <td>flu: the story of the great influenza pandemic...</td>\n",
       "    </tr>\n",
       "    <tr>\n",
       "      <th>4</th>\n",
       "      <td>393045218</td>\n",
       "      <td>3976</td>\n",
       "      <td>785</td>\n",
       "      <td>52</td>\n",
       "      <td>1029</td>\n",
       "      <td>the mummies of urumchie. j. w. barberw. w. nor...</td>\n",
       "    </tr>\n",
       "    <tr>\n",
       "      <th>...</th>\n",
       "      <td>...</td>\n",
       "      <td>...</td>\n",
       "      <td>...</td>\n",
       "      <td>...</td>\n",
       "      <td>...</td>\n",
       "      <td>...</td>\n",
       "    </tr>\n",
       "    <tr>\n",
       "      <th>4995</th>\n",
       "      <td>61043508</td>\n",
       "      <td>3216</td>\n",
       "      <td>757</td>\n",
       "      <td>48</td>\n",
       "      <td>427</td>\n",
       "      <td>strong poisondorothy l. sayersharpertorch</td>\n",
       "    </tr>\n",
       "    <tr>\n",
       "      <th>4996</th>\n",
       "      <td>811828964</td>\n",
       "      <td>3381</td>\n",
       "      <td>378</td>\n",
       "      <td>53</td>\n",
       "      <td>171</td>\n",
       "      <td>the bad girl's guide to getting what you wantc...</td>\n",
       "    </tr>\n",
       "    <tr>\n",
       "      <th>4997</th>\n",
       "      <td>671624342</td>\n",
       "      <td>96</td>\n",
       "      <td>1345</td>\n",
       "      <td>39</td>\n",
       "      <td>875</td>\n",
       "      <td>a matter of honorjeffrey archersimon &amp;amp; sch...</td>\n",
       "    </tr>\n",
       "    <tr>\n",
       "      <th>4998</th>\n",
       "      <td>786890169</td>\n",
       "      <td>472</td>\n",
       "      <td>2803</td>\n",
       "      <td>56</td>\n",
       "      <td>469</td>\n",
       "      <td>black watert. jefferson parkerhyperion</td>\n",
       "    </tr>\n",
       "    <tr>\n",
       "      <th>4999</th>\n",
       "      <td>074322535X</td>\n",
       "      <td>1389</td>\n",
       "      <td>2498</td>\n",
       "      <td>54</td>\n",
       "      <td>960</td>\n",
       "      <td>gap creek: the story of a marriagerobert morga...</td>\n",
       "    </tr>\n",
       "  </tbody>\n",
       "</table>\n",
       "<p>5000 rows × 6 columns</p>\n",
       "</div>"
      ],
      "text/plain": [
       "            ISBN  Book-Title  Book-Author  Year-Of-Publication  Publisher  \\\n",
       "0      195153448         679         1937                   55        678   \n",
       "1        2005018         677         2419                   54        421   \n",
       "2       60973129         892          392                   44        422   \n",
       "3      374157065        1325         1044                   52        320   \n",
       "4      393045218        3976          785                   52       1029   \n",
       "...          ...         ...          ...                  ...        ...   \n",
       "4995    61043508        3216          757                   48        427   \n",
       "4996   811828964        3381          378                   53        171   \n",
       "4997   671624342          96         1345                   39        875   \n",
       "4998   786890169         472         2803                   56        469   \n",
       "4999  074322535X        1389         2498                   54        960   \n",
       "\n",
       "                                              important  \n",
       "0     classical mythologymark p. o. morfordoxford un...  \n",
       "1     clara callanrichard bruce wrightharperflamingo...  \n",
       "2       decision in normandycarlo d'esteharperperennial  \n",
       "3     flu: the story of the great influenza pandemic...  \n",
       "4     the mummies of urumchie. j. w. barberw. w. nor...  \n",
       "...                                                 ...  \n",
       "4995          strong poisondorothy l. sayersharpertorch  \n",
       "4996  the bad girl's guide to getting what you wantc...  \n",
       "4997  a matter of honorjeffrey archersimon &amp; sch...  \n",
       "4998             black watert. jefferson parkerhyperion  \n",
       "4999  gap creek: the story of a marriagerobert morga...  \n",
       "\n",
       "[5000 rows x 6 columns]"
      ]
     },
     "execution_count": 40,
     "metadata": {},
     "output_type": "execute_result"
    }
   ],
   "source": [
    "new_df"
   ]
  },
  {
   "cell_type": "code",
   "execution_count": 42,
   "id": "5082e839",
   "metadata": {},
   "outputs": [],
   "source": [
    "label_encoder = LabelEncoder()\n",
    "new_df['important'] = label_encoder.fit_transform(new_df['important']).reshape(-1,1)"
   ]
  },
  {
   "cell_type": "code",
   "execution_count": 43,
   "id": "37fc96f0",
   "metadata": {},
   "outputs": [
    {
     "data": {
      "text/html": [
       "<div>\n",
       "<style scoped>\n",
       "    .dataframe tbody tr th:only-of-type {\n",
       "        vertical-align: middle;\n",
       "    }\n",
       "\n",
       "    .dataframe tbody tr th {\n",
       "        vertical-align: top;\n",
       "    }\n",
       "\n",
       "    .dataframe thead th {\n",
       "        text-align: right;\n",
       "    }\n",
       "</style>\n",
       "<table border=\"1\" class=\"dataframe\">\n",
       "  <thead>\n",
       "    <tr style=\"text-align: right;\">\n",
       "      <th></th>\n",
       "      <th>ISBN</th>\n",
       "      <th>Book-Title</th>\n",
       "      <th>Book-Author</th>\n",
       "      <th>Year-Of-Publication</th>\n",
       "      <th>Publisher</th>\n",
       "      <th>important</th>\n",
       "    </tr>\n",
       "  </thead>\n",
       "  <tbody>\n",
       "    <tr>\n",
       "      <th>0</th>\n",
       "      <td>195153448</td>\n",
       "      <td>679</td>\n",
       "      <td>1937</td>\n",
       "      <td>55</td>\n",
       "      <td>678</td>\n",
       "      <td>696</td>\n",
       "    </tr>\n",
       "    <tr>\n",
       "      <th>1</th>\n",
       "      <td>2005018</td>\n",
       "      <td>677</td>\n",
       "      <td>2419</td>\n",
       "      <td>54</td>\n",
       "      <td>421</td>\n",
       "      <td>694</td>\n",
       "    </tr>\n",
       "    <tr>\n",
       "      <th>2</th>\n",
       "      <td>60973129</td>\n",
       "      <td>892</td>\n",
       "      <td>392</td>\n",
       "      <td>44</td>\n",
       "      <td>422</td>\n",
       "      <td>911</td>\n",
       "    </tr>\n",
       "    <tr>\n",
       "      <th>3</th>\n",
       "      <td>374157065</td>\n",
       "      <td>1325</td>\n",
       "      <td>1044</td>\n",
       "      <td>52</td>\n",
       "      <td>320</td>\n",
       "      <td>1358</td>\n",
       "    </tr>\n",
       "    <tr>\n",
       "      <th>4</th>\n",
       "      <td>393045218</td>\n",
       "      <td>3976</td>\n",
       "      <td>785</td>\n",
       "      <td>52</td>\n",
       "      <td>1029</td>\n",
       "      <td>4095</td>\n",
       "    </tr>\n",
       "  </tbody>\n",
       "</table>\n",
       "</div>"
      ],
      "text/plain": [
       "        ISBN  Book-Title  Book-Author  Year-Of-Publication  Publisher  \\\n",
       "0  195153448         679         1937                   55        678   \n",
       "1    2005018         677         2419                   54        421   \n",
       "2   60973129         892          392                   44        422   \n",
       "3  374157065        1325         1044                   52        320   \n",
       "4  393045218        3976          785                   52       1029   \n",
       "\n",
       "   important  \n",
       "0        696  \n",
       "1        694  \n",
       "2        911  \n",
       "3       1358  \n",
       "4       4095  "
      ]
     },
     "execution_count": 43,
     "metadata": {},
     "output_type": "execute_result"
    }
   ],
   "source": [
    "new_df.head()"
   ]
  },
  {
   "cell_type": "code",
   "execution_count": 45,
   "id": "8532644a",
   "metadata": {},
   "outputs": [
    {
     "data": {
      "text/plain": [
       "(5000,)"
      ]
     },
     "execution_count": 45,
     "metadata": {},
     "output_type": "execute_result"
    }
   ],
   "source": [
    "new_df.important.shape"
   ]
  },
  {
   "cell_type": "code",
   "execution_count": 46,
   "id": "434aede4",
   "metadata": {},
   "outputs": [],
   "source": [
    "class Recommender(nn.Module):\n",
    "    def __init__(self):\n",
    "        super(Recommender,self).__init__()\n",
    "        self.author = nn.Embedding(4000,100)\n",
    "        self.title = nn.Embedding(4000,100)\n",
    "        self.linear_1 = nn.Linear(5000,10000)\n",
    "        self.linear_2 = nn.Linear(10000,5000)\n",
    "        self.linear_3 = nn.Linear(5000,1)\n",
    "    def forward(self,x:torch.tensor):\n",
    "        author = x[:,0].long()\n",
    "        title = x[:,1].long()\n",
    "        other_features = x[:,2:]\n",
    "        author_vectors = self.author(author)\n",
    "        title_vector = self.title(title)\n",
    "        layer1 = torch.cat((author,title,other_features),1)\n",
    "        layer2 = F.relu(self.linear_1(layer1))\n",
    "        layer3 = F.relu(self.linear_2(layer2))\n",
    "        out = torch.sigmoid(self.linear_3(layer3))\n",
    "        return out"
   ]
  },
  {
   "cell_type": "code",
   "execution_count": 47,
   "id": "02be984b",
   "metadata": {},
   "outputs": [],
   "source": [
    "model = Recommender()"
   ]
  },
  {
   "cell_type": "code",
   "execution_count": 53,
   "id": "117790c0",
   "metadata": {},
   "outputs": [
    {
     "data": {
      "text/plain": [
       "Recommender(\n",
       "  (author): Embedding(4000, 100)\n",
       "  (title): Embedding(4000, 100)\n",
       "  (linear_1): Linear(in_features=5000, out_features=10000, bias=True)\n",
       "  (linear_2): Linear(in_features=10000, out_features=5000, bias=True)\n",
       "  (linear_3): Linear(in_features=5000, out_features=1, bias=True)\n",
       ")"
      ]
     },
     "execution_count": 53,
     "metadata": {},
     "output_type": "execute_result"
    }
   ],
   "source": [
    "model"
   ]
  },
  {
   "cell_type": "code",
   "execution_count": 54,
   "id": "fbb515d1",
   "metadata": {},
   "outputs": [
    {
     "data": {
      "text/plain": [
       "Index(['ISBN', 'Book-Title', 'Book-Author', 'Year-Of-Publication', 'Publisher',\n",
       "       'important'],\n",
       "      dtype='object')"
      ]
     },
     "execution_count": 54,
     "metadata": {},
     "output_type": "execute_result"
    }
   ],
   "source": [
    "new_df.columns"
   ]
  },
  {
   "cell_type": "code",
   "execution_count": 58,
   "id": "96f8b00d",
   "metadata": {},
   "outputs": [],
   "source": [
    "X = new_df.drop(['ISBN'],axis=1).values"
   ]
  },
  {
   "cell_type": "code",
   "execution_count": 62,
   "id": "b2dc3e5f",
   "metadata": {},
   "outputs": [],
   "source": [
    "X = torch.from_numpy(X).type(torch.Tensor)"
   ]
  },
  {
   "cell_type": "code",
   "execution_count": null,
   "id": "b734e55d",
   "metadata": {},
   "outputs": [],
   "source": []
  }
 ],
 "metadata": {
  "kernelspec": {
   "display_name": "Python 3 (ipykernel)",
   "language": "python",
   "name": "python3"
  },
  "language_info": {
   "codemirror_mode": {
    "name": "ipython",
    "version": 3
   },
   "file_extension": ".py",
   "mimetype": "text/x-python",
   "name": "python",
   "nbconvert_exporter": "python",
   "pygments_lexer": "ipython3",
   "version": "3.9.13"
  }
 },
 "nbformat": 4,
 "nbformat_minor": 5
}
