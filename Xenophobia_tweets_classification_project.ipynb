{
 "cells": [
  {
   "cell_type": "code",
   "execution_count": 125,
   "id": "03b714a9",
   "metadata": {},
   "outputs": [],
   "source": [
    "import pandas as pd\n",
    "import numpy as np\n",
    "import seaborn as sns\n",
    "import matplotlib.pyplot as plt\n"
   ]
  },
  {
   "cell_type": "code",
   "execution_count": 126,
   "id": "a6994bff",
   "metadata": {},
   "outputs": [],
   "source": [
    "df = pd.read_csv(\"C:\\\\Datasets\\\\Xenophobic_tweets\\\\SA_XenoDataset_2017-2022.csv\")"
   ]
  },
  {
   "cell_type": "code",
   "execution_count": 127,
   "id": "1671922a",
   "metadata": {},
   "outputs": [
    {
     "data": {
      "text/html": [
       "<div>\n",
       "<style scoped>\n",
       "    .dataframe tbody tr th:only-of-type {\n",
       "        vertical-align: middle;\n",
       "    }\n",
       "\n",
       "    .dataframe tbody tr th {\n",
       "        vertical-align: top;\n",
       "    }\n",
       "\n",
       "    .dataframe thead th {\n",
       "        text-align: right;\n",
       "    }\n",
       "</style>\n",
       "<table border=\"1\" class=\"dataframe\">\n",
       "  <thead>\n",
       "    <tr style=\"text-align: right;\">\n",
       "      <th></th>\n",
       "      <th>Unnamed: 0</th>\n",
       "      <th>DateCreated</th>\n",
       "      <th>TimeCreated</th>\n",
       "      <th>CleanedTweet</th>\n",
       "      <th>Sentiment</th>\n",
       "      <th>Likes</th>\n",
       "      <th>No of replies</th>\n",
       "      <th>Language</th>\n",
       "      <th>Retweets</th>\n",
       "      <th>User Location</th>\n",
       "      <th>Tweet Origin</th>\n",
       "      <th>Coordinates</th>\n",
       "      <th>District</th>\n",
       "      <th>Province</th>\n",
       "      <th>Number of Attacks</th>\n",
       "    </tr>\n",
       "  </thead>\n",
       "  <tbody>\n",
       "    <tr>\n",
       "      <th>0</th>\n",
       "      <td>0</td>\n",
       "      <td>2022-07-18</td>\n",
       "      <td>20:57:33</td>\n",
       "      <td>Where are the foreigners? We were told maRus...</td>\n",
       "      <td>Negative</td>\n",
       "      <td>6</td>\n",
       "      <td>0</td>\n",
       "      <td>en</td>\n",
       "      <td>1</td>\n",
       "      <td>Centurion, South Africa</td>\n",
       "      <td>Centurion</td>\n",
       "      <td>longitude=28.0010585, latitude=-25.9448996</td>\n",
       "      <td>Rural</td>\n",
       "      <td>Gauteng</td>\n",
       "      <td>0</td>\n",
       "    </tr>\n",
       "    <tr>\n",
       "      <th>1</th>\n",
       "      <td>1</td>\n",
       "      <td>2022-07-18</td>\n",
       "      <td>20:15:58</td>\n",
       "      <td>We invite all those who have lost loved ones t...</td>\n",
       "      <td>Negative</td>\n",
       "      <td>3</td>\n",
       "      <td>2</td>\n",
       "      <td>en</td>\n",
       "      <td>0</td>\n",
       "      <td>Johannesburg, South Africa</td>\n",
       "      <td>Johannesburg</td>\n",
       "      <td>longitude=27.7518557, latitude=-26.5126489</td>\n",
       "      <td>Urban</td>\n",
       "      <td>Gauteng</td>\n",
       "      <td>0</td>\n",
       "    </tr>\n",
       "    <tr>\n",
       "      <th>2</th>\n",
       "      <td>2</td>\n",
       "      <td>2022-07-18</td>\n",
       "      <td>20:03:16</td>\n",
       "      <td>After battling with HIV/AIDS for years, South ...</td>\n",
       "      <td>Negative</td>\n",
       "      <td>79</td>\n",
       "      <td>2</td>\n",
       "      <td>en</td>\n",
       "      <td>18</td>\n",
       "      <td>Planet Earth</td>\n",
       "      <td>Pretoria</td>\n",
       "      <td>longitude=27.9483035, latitude=-25.9157727</td>\n",
       "      <td>Urban</td>\n",
       "      <td>Gauteng</td>\n",
       "      <td>0</td>\n",
       "    </tr>\n",
       "    <tr>\n",
       "      <th>3</th>\n",
       "      <td>3</td>\n",
       "      <td>2022-07-18</td>\n",
       "      <td>15:03:18</td>\n",
       "      <td>Nani impela seniyamthemba UCele nama phoyisa....</td>\n",
       "      <td>Negative</td>\n",
       "      <td>0</td>\n",
       "      <td>0</td>\n",
       "      <td>en</td>\n",
       "      <td>0</td>\n",
       "      <td>South Africa Nkandla e Hlwane</td>\n",
       "      <td>Johannesburg</td>\n",
       "      <td>longitude=27.7518557, latitude=-26.5126489</td>\n",
       "      <td>Rural</td>\n",
       "      <td>Gauteng</td>\n",
       "      <td>0</td>\n",
       "    </tr>\n",
       "    <tr>\n",
       "      <th>4</th>\n",
       "      <td>4</td>\n",
       "      <td>2022-07-18</td>\n",
       "      <td>14:41:14</td>\n",
       "      <td>Give Nhlanhla his flowers for release himse...</td>\n",
       "      <td>Negative</td>\n",
       "      <td>0</td>\n",
       "      <td>1</td>\n",
       "      <td>en</td>\n",
       "      <td>0</td>\n",
       "      <td>Jozi</td>\n",
       "      <td>Johannesburg</td>\n",
       "      <td>longitude=27.7518557, latitude=-26.5126489</td>\n",
       "      <td>Rural</td>\n",
       "      <td>Gauteng</td>\n",
       "      <td>0</td>\n",
       "    </tr>\n",
       "  </tbody>\n",
       "</table>\n",
       "</div>"
      ],
      "text/plain": [
       "   Unnamed: 0 DateCreated TimeCreated  \\\n",
       "0           0  2022-07-18    20:57:33   \n",
       "1           1  2022-07-18    20:15:58   \n",
       "2           2  2022-07-18    20:03:16   \n",
       "3           3  2022-07-18    15:03:18   \n",
       "4           4  2022-07-18    14:41:14   \n",
       "\n",
       "                                        CleanedTweet Sentiment Likes  \\\n",
       "0    Where are the foreigners? We were told maRus...  Negative     6   \n",
       "1  We invite all those who have lost loved ones t...  Negative     3   \n",
       "2  After battling with HIV/AIDS for years, South ...  Negative    79   \n",
       "3   Nani impela seniyamthemba UCele nama phoyisa....  Negative     0   \n",
       "4     Give Nhlanhla his flowers for release himse...  Negative     0   \n",
       "\n",
       "   No of replies Language  Retweets                  User Location  \\\n",
       "0              0       en         1        Centurion, South Africa   \n",
       "1              2       en         0     Johannesburg, South Africa   \n",
       "2              2       en        18                   Planet Earth   \n",
       "3              0       en         0  South Africa Nkandla e Hlwane   \n",
       "4              1       en         0                           Jozi   \n",
       "\n",
       "   Tweet Origin                                 Coordinates District Province  \\\n",
       "0     Centurion  longitude=28.0010585, latitude=-25.9448996    Rural  Gauteng   \n",
       "1  Johannesburg  longitude=27.7518557, latitude=-26.5126489    Urban  Gauteng   \n",
       "2      Pretoria  longitude=27.9483035, latitude=-25.9157727    Urban  Gauteng   \n",
       "3  Johannesburg  longitude=27.7518557, latitude=-26.5126489    Rural  Gauteng   \n",
       "4  Johannesburg  longitude=27.7518557, latitude=-26.5126489    Rural  Gauteng   \n",
       "\n",
       "  Number of Attacks  \n",
       "0                 0  \n",
       "1                 0  \n",
       "2                 0  \n",
       "3                 0  \n",
       "4                 0  "
      ]
     },
     "execution_count": 127,
     "metadata": {},
     "output_type": "execute_result"
    }
   ],
   "source": [
    "df.head()"
   ]
  },
  {
   "cell_type": "code",
   "execution_count": 128,
   "id": "ce505a3c",
   "metadata": {},
   "outputs": [],
   "source": [
    "df.drop(df.columns[:1],axis=1,inplace=True)"
   ]
  },
  {
   "cell_type": "code",
   "execution_count": 129,
   "id": "424faafc",
   "metadata": {},
   "outputs": [
    {
     "data": {
      "text/plain": [
       "Index(['DateCreated', 'TimeCreated', 'CleanedTweet', 'Sentiment', 'Likes',\n",
       "       'No of replies', 'Language', 'Retweets', 'User Location',\n",
       "       'Tweet Origin', 'Coordinates', 'District', 'Province',\n",
       "       'Number of Attacks'],\n",
       "      dtype='object')"
      ]
     },
     "execution_count": 129,
     "metadata": {},
     "output_type": "execute_result"
    }
   ],
   "source": [
    "df.columns"
   ]
  },
  {
   "cell_type": "code",
   "execution_count": 130,
   "id": "ee905481",
   "metadata": {},
   "outputs": [
    {
     "data": {
      "text/plain": [
       "0    2022-07-18\n",
       "1    2022-07-18\n",
       "2    2022-07-18\n",
       "3    2022-07-18\n",
       "4    2022-07-18\n",
       "Name: DateCreated, dtype: object"
      ]
     },
     "execution_count": 130,
     "metadata": {},
     "output_type": "execute_result"
    }
   ],
   "source": [
    "df.DateCreated.head()"
   ]
  },
  {
   "cell_type": "code",
   "execution_count": 131,
   "id": "a1124162",
   "metadata": {},
   "outputs": [
    {
     "data": {
      "text/plain": [
       "15907    2017-01-09\n",
       "15908    2017-01-06\n",
       "15909    2017-01-06\n",
       "15910    2017-01-05\n",
       "15911    2017-01-02\n",
       "Name: DateCreated, dtype: object"
      ]
     },
     "execution_count": 131,
     "metadata": {},
     "output_type": "execute_result"
    }
   ],
   "source": [
    "df.DateCreated.tail()\n",
    "#The tweets have been collected for a period of 5 years"
   ]
  },
  {
   "cell_type": "code",
   "execution_count": 132,
   "id": "52071200",
   "metadata": {},
   "outputs": [
    {
     "data": {
      "text/plain": [
       "15:19:41    4\n",
       "10:21:37    4\n",
       "09:28:45    4\n",
       "09:18:29    4\n",
       "08:56:05    4\n",
       "06:10:56    4\n",
       "08:59:05    4\n",
       "11:48:38    4\n",
       "19:56:42    3\n",
       "16:22:39    3\n",
       "Name: TimeCreated, dtype: int64"
      ]
     },
     "execution_count": 132,
     "metadata": {},
     "output_type": "execute_result"
    }
   ],
   "source": [
    "df.TimeCreated.value_counts().head(10)"
   ]
  },
  {
   "cell_type": "code",
   "execution_count": 133,
   "id": "59ee282b",
   "metadata": {},
   "outputs": [
    {
     "data": {
      "text/plain": [
       "DateCreated          0\n",
       "TimeCreated          0\n",
       "CleanedTweet         4\n",
       "Sentiment            0\n",
       "Likes                0\n",
       "No of replies        0\n",
       "Language             0\n",
       "Retweets             0\n",
       "User Location        0\n",
       "Tweet Origin         0\n",
       "Coordinates          3\n",
       "District             0\n",
       "Province             0\n",
       "Number of Attacks    0\n",
       "dtype: int64"
      ]
     },
     "execution_count": 133,
     "metadata": {},
     "output_type": "execute_result"
    }
   ],
   "source": [
    "df.isnull().sum()"
   ]
  },
  {
   "cell_type": "code",
   "execution_count": 134,
   "id": "ed2ae11c",
   "metadata": {},
   "outputs": [],
   "source": [
    "df['CleanedTweet'] = df['CleanedTweet'].fillna('Missing')"
   ]
  },
  {
   "cell_type": "code",
   "execution_count": 135,
   "id": "6e01f9a4",
   "metadata": {},
   "outputs": [],
   "source": [
    "# Length of tweets>\n",
    "df['tweet_len'] = df['CleanedTweet'].apply(len)"
   ]
  },
  {
   "cell_type": "code",
   "execution_count": 136,
   "id": "65efe61a",
   "metadata": {},
   "outputs": [
    {
     "data": {
      "text/plain": [
       "count    15912.000000\n",
       "mean       163.067873\n",
       "std         84.391469\n",
       "min          1.000000\n",
       "25%         90.000000\n",
       "50%        159.000000\n",
       "75%        248.000000\n",
       "max        329.000000\n",
       "Name: tweet_len, dtype: float64"
      ]
     },
     "execution_count": 136,
     "metadata": {},
     "output_type": "execute_result"
    }
   ],
   "source": [
    "df['tweet_len'].describe()"
   ]
  },
  {
   "cell_type": "code",
   "execution_count": 137,
   "id": "9707537e",
   "metadata": {},
   "outputs": [
    {
     "data": {
      "image/png": "[encoded data removed]",
      "text/plain": [
       "<Figure size 640x480 with 1 Axes>"
      ]
     },
     "metadata": {},
     "output_type": "display_data"
    }
   ],
   "source": [
    "sns.histplot(x='tweet_len',data=df)\n",
    "plt.title(\"How Length of tweet varies\")\n",
    "plt.show()"
   ]
  },
  {
   "cell_type": "code",
   "execution_count": 138,
   "id": "aede5b6c",
   "metadata": {},
   "outputs": [
    {
     "data": {
      "text/html": [
       "<div>\n",
       "<style scoped>\n",
       "    .dataframe tbody tr th:only-of-type {\n",
       "        vertical-align: middle;\n",
       "    }\n",
       "\n",
       "    .dataframe tbody tr th {\n",
       "        vertical-align: top;\n",
       "    }\n",
       "\n",
       "    .dataframe thead th {\n",
       "        text-align: right;\n",
       "    }\n",
       "</style>\n",
       "<table border=\"1\" class=\"dataframe\">\n",
       "  <thead>\n",
       "    <tr style=\"text-align: right;\">\n",
       "      <th></th>\n",
       "      <th>DateCreated</th>\n",
       "      <th>TimeCreated</th>\n",
       "      <th>CleanedTweet</th>\n",
       "      <th>Sentiment</th>\n",
       "      <th>Likes</th>\n",
       "      <th>No of replies</th>\n",
       "      <th>Language</th>\n",
       "      <th>Retweets</th>\n",
       "      <th>User Location</th>\n",
       "      <th>Tweet Origin</th>\n",
       "      <th>Coordinates</th>\n",
       "      <th>District</th>\n",
       "      <th>Province</th>\n",
       "      <th>Number of Attacks</th>\n",
       "      <th>tweet_len</th>\n",
       "    </tr>\n",
       "  </thead>\n",
       "  <tbody>\n",
       "    <tr>\n",
       "      <th>0</th>\n",
       "      <td>2022-07-18</td>\n",
       "      <td>20:57:33</td>\n",
       "      <td>Where are the foreigners? We were told maRus...</td>\n",
       "      <td>Negative</td>\n",
       "      <td>6</td>\n",
       "      <td>0</td>\n",
       "      <td>en</td>\n",
       "      <td>1</td>\n",
       "      <td>Centurion, South Africa</td>\n",
       "      <td>Centurion</td>\n",
       "      <td>longitude=28.0010585, latitude=-25.9448996</td>\n",
       "      <td>Rural</td>\n",
       "      <td>Gauteng</td>\n",
       "      <td>0</td>\n",
       "      <td>104</td>\n",
       "    </tr>\n",
       "    <tr>\n",
       "      <th>1</th>\n",
       "      <td>2022-07-18</td>\n",
       "      <td>20:15:58</td>\n",
       "      <td>We invite all those who have lost loved ones t...</td>\n",
       "      <td>Negative</td>\n",
       "      <td>3</td>\n",
       "      <td>2</td>\n",
       "      <td>en</td>\n",
       "      <td>0</td>\n",
       "      <td>Johannesburg, South Africa</td>\n",
       "      <td>Johannesburg</td>\n",
       "      <td>longitude=27.7518557, latitude=-26.5126489</td>\n",
       "      <td>Urban</td>\n",
       "      <td>Gauteng</td>\n",
       "      <td>0</td>\n",
       "      <td>228</td>\n",
       "    </tr>\n",
       "    <tr>\n",
       "      <th>2</th>\n",
       "      <td>2022-07-18</td>\n",
       "      <td>20:03:16</td>\n",
       "      <td>After battling with HIV/AIDS for years, South ...</td>\n",
       "      <td>Negative</td>\n",
       "      <td>79</td>\n",
       "      <td>2</td>\n",
       "      <td>en</td>\n",
       "      <td>18</td>\n",
       "      <td>Planet Earth</td>\n",
       "      <td>Pretoria</td>\n",
       "      <td>longitude=27.9483035, latitude=-25.9157727</td>\n",
       "      <td>Urban</td>\n",
       "      <td>Gauteng</td>\n",
       "      <td>0</td>\n",
       "      <td>180</td>\n",
       "    </tr>\n",
       "    <tr>\n",
       "      <th>3</th>\n",
       "      <td>2022-07-18</td>\n",
       "      <td>15:03:18</td>\n",
       "      <td>Nani impela seniyamthemba UCele nama phoyisa....</td>\n",
       "      <td>Negative</td>\n",
       "      <td>0</td>\n",
       "      <td>0</td>\n",
       "      <td>en</td>\n",
       "      <td>0</td>\n",
       "      <td>South Africa Nkandla e Hlwane</td>\n",
       "      <td>Johannesburg</td>\n",
       "      <td>longitude=27.7518557, latitude=-26.5126489</td>\n",
       "      <td>Rural</td>\n",
       "      <td>Gauteng</td>\n",
       "      <td>0</td>\n",
       "      <td>207</td>\n",
       "    </tr>\n",
       "    <tr>\n",
       "      <th>4</th>\n",
       "      <td>2022-07-18</td>\n",
       "      <td>14:41:14</td>\n",
       "      <td>Give Nhlanhla his flowers for release himse...</td>\n",
       "      <td>Negative</td>\n",
       "      <td>0</td>\n",
       "      <td>1</td>\n",
       "      <td>en</td>\n",
       "      <td>0</td>\n",
       "      <td>Jozi</td>\n",
       "      <td>Johannesburg</td>\n",
       "      <td>longitude=27.7518557, latitude=-26.5126489</td>\n",
       "      <td>Rural</td>\n",
       "      <td>Gauteng</td>\n",
       "      <td>0</td>\n",
       "      <td>165</td>\n",
       "    </tr>\n",
       "  </tbody>\n",
       "</table>\n",
       "</div>"
      ],
      "text/plain": [
       "  DateCreated TimeCreated                                       CleanedTweet  \\\n",
       "0  2022-07-18    20:57:33    Where are the foreigners? We were told maRus...   \n",
       "1  2022-07-18    20:15:58  We invite all those who have lost loved ones t...   \n",
       "2  2022-07-18    20:03:16  After battling with HIV/AIDS for years, South ...   \n",
       "3  2022-07-18    15:03:18   Nani impela seniyamthemba UCele nama phoyisa....   \n",
       "4  2022-07-18    14:41:14     Give Nhlanhla his flowers for release himse...   \n",
       "\n",
       "  Sentiment Likes  No of replies Language  Retweets  \\\n",
       "0  Negative     6              0       en         1   \n",
       "1  Negative     3              2       en         0   \n",
       "2  Negative    79              2       en        18   \n",
       "3  Negative     0              0       en         0   \n",
       "4  Negative     0              1       en         0   \n",
       "\n",
       "                   User Location  Tweet Origin  \\\n",
       "0        Centurion, South Africa     Centurion   \n",
       "1     Johannesburg, South Africa  Johannesburg   \n",
       "2                   Planet Earth      Pretoria   \n",
       "3  South Africa Nkandla e Hlwane  Johannesburg   \n",
       "4                           Jozi  Johannesburg   \n",
       "\n",
       "                                  Coordinates District Province  \\\n",
       "0  longitude=28.0010585, latitude=-25.9448996    Rural  Gauteng   \n",
       "1  longitude=27.7518557, latitude=-26.5126489    Urban  Gauteng   \n",
       "2  longitude=27.9483035, latitude=-25.9157727    Urban  Gauteng   \n",
       "3  longitude=27.7518557, latitude=-26.5126489    Rural  Gauteng   \n",
       "4  longitude=27.7518557, latitude=-26.5126489    Rural  Gauteng   \n",
       "\n",
       "  Number of Attacks  tweet_len  \n",
       "0                 0        104  \n",
       "1                 0        228  \n",
       "2                 0        180  \n",
       "3                 0        207  \n",
       "4                 0        165  "
      ]
     },
     "execution_count": 138,
     "metadata": {},
     "output_type": "execute_result"
    }
   ],
   "source": [
    "df.head()"
   ]
  },
  {
   "cell_type": "markdown",
   "id": "e7fc888a",
   "metadata": {},
   "source": [
    "#  TWEET RELATIONSHIPS\n",
    "\n",
    "Here I try to model the relationship between tweets and likes and try to geo locate hate sentiments"
   ]
  },
  {
   "cell_type": "code",
   "execution_count": 139,
   "id": "0618986b",
   "metadata": {},
   "outputs": [
    {
     "data": {
      "text/plain": [
       "Negative      6320\n",
       "Neutral       3099\n",
       "negative      2623\n",
       "Positive      1544\n",
       "neutral       1051\n",
       "positive       707\n",
       "Neautral       130\n",
       "POSITIVE        73\n",
       "Positve         53\n",
       "Negative        48\n",
       "NEGATIVE        39\n",
       "NEUTRAL         32\n",
       "Nan             30\n",
       "Positive        25\n",
       "NAN             22\n",
       "Neutral         11\n",
       "neuatral         8\n",
       "neutral          5\n",
       " Negative        4\n",
       "negstive         3\n",
       "negative'        3\n",
       "Negattive        3\n",
       "Nregative        3\n",
       "Postive          3\n",
       "Neagtive         2\n",
       "Negatve          2\n",
       "negatoive        2\n",
       " negative        2\n",
       "Negtaive         2\n",
       "Posiitive        2\n",
       "  Positive       2\n",
       "Neeutral         2\n",
       "neagtive         2\n",
       "negative         2\n",
       "urban            2\n",
       " Neutral         2\n",
       "negatiive        2\n",
       "psoitive         2\n",
       "Nun              2\n",
       "NAn              2\n",
       "Name: Sentiment, dtype: int64"
      ]
     },
     "execution_count": 139,
     "metadata": {},
     "output_type": "execute_result"
    }
   ],
   "source": [
    "# First ,analysis of negative vs positive sentiments\n",
    "df['Sentiment'].value_counts().head(40)\n",
    "# A majority of the sentiments are positive"
   ]
  },
  {
   "cell_type": "code",
   "execution_count": 140,
   "id": "f46aafa3",
   "metadata": {},
   "outputs": [
    {
     "data": {
      "text/html": [
       "<div>\n",
       "<style scoped>\n",
       "    .dataframe tbody tr th:only-of-type {\n",
       "        vertical-align: middle;\n",
       "    }\n",
       "\n",
       "    .dataframe tbody tr th {\n",
       "        vertical-align: top;\n",
       "    }\n",
       "\n",
       "    .dataframe thead th {\n",
       "        text-align: right;\n",
       "    }\n",
       "</style>\n",
       "<table border=\"1\" class=\"dataframe\">\n",
       "  <thead>\n",
       "    <tr style=\"text-align: right;\">\n",
       "      <th></th>\n",
       "      <th>DateCreated</th>\n",
       "      <th>TimeCreated</th>\n",
       "      <th>CleanedTweet</th>\n",
       "      <th>Sentiment</th>\n",
       "      <th>Likes</th>\n",
       "      <th>No of replies</th>\n",
       "      <th>Language</th>\n",
       "      <th>Retweets</th>\n",
       "      <th>User Location</th>\n",
       "      <th>Tweet Origin</th>\n",
       "      <th>Coordinates</th>\n",
       "      <th>District</th>\n",
       "      <th>Province</th>\n",
       "      <th>Number of Attacks</th>\n",
       "      <th>tweet_len</th>\n",
       "    </tr>\n",
       "  </thead>\n",
       "  <tbody>\n",
       "    <tr>\n",
       "      <th>0</th>\n",
       "      <td>2022-07-18</td>\n",
       "      <td>20:57:33</td>\n",
       "      <td>Where are the foreigners? We were told maRus...</td>\n",
       "      <td>Negative</td>\n",
       "      <td>6</td>\n",
       "      <td>0</td>\n",
       "      <td>en</td>\n",
       "      <td>1</td>\n",
       "      <td>Centurion, South Africa</td>\n",
       "      <td>Centurion</td>\n",
       "      <td>longitude=28.0010585, latitude=-25.9448996</td>\n",
       "      <td>Rural</td>\n",
       "      <td>Gauteng</td>\n",
       "      <td>0</td>\n",
       "      <td>104</td>\n",
       "    </tr>\n",
       "    <tr>\n",
       "      <th>1</th>\n",
       "      <td>2022-07-18</td>\n",
       "      <td>20:15:58</td>\n",
       "      <td>We invite all those who have lost loved ones t...</td>\n",
       "      <td>Negative</td>\n",
       "      <td>3</td>\n",
       "      <td>2</td>\n",
       "      <td>en</td>\n",
       "      <td>0</td>\n",
       "      <td>Johannesburg, South Africa</td>\n",
       "      <td>Johannesburg</td>\n",
       "      <td>longitude=27.7518557, latitude=-26.5126489</td>\n",
       "      <td>Urban</td>\n",
       "      <td>Gauteng</td>\n",
       "      <td>0</td>\n",
       "      <td>228</td>\n",
       "    </tr>\n",
       "    <tr>\n",
       "      <th>2</th>\n",
       "      <td>2022-07-18</td>\n",
       "      <td>20:03:16</td>\n",
       "      <td>After battling with HIV/AIDS for years, South ...</td>\n",
       "      <td>Negative</td>\n",
       "      <td>79</td>\n",
       "      <td>2</td>\n",
       "      <td>en</td>\n",
       "      <td>18</td>\n",
       "      <td>Planet Earth</td>\n",
       "      <td>Pretoria</td>\n",
       "      <td>longitude=27.9483035, latitude=-25.9157727</td>\n",
       "      <td>Urban</td>\n",
       "      <td>Gauteng</td>\n",
       "      <td>0</td>\n",
       "      <td>180</td>\n",
       "    </tr>\n",
       "    <tr>\n",
       "      <th>3</th>\n",
       "      <td>2022-07-18</td>\n",
       "      <td>15:03:18</td>\n",
       "      <td>Nani impela seniyamthemba UCele nama phoyisa....</td>\n",
       "      <td>Negative</td>\n",
       "      <td>0</td>\n",
       "      <td>0</td>\n",
       "      <td>en</td>\n",
       "      <td>0</td>\n",
       "      <td>South Africa Nkandla e Hlwane</td>\n",
       "      <td>Johannesburg</td>\n",
       "      <td>longitude=27.7518557, latitude=-26.5126489</td>\n",
       "      <td>Rural</td>\n",
       "      <td>Gauteng</td>\n",
       "      <td>0</td>\n",
       "      <td>207</td>\n",
       "    </tr>\n",
       "    <tr>\n",
       "      <th>4</th>\n",
       "      <td>2022-07-18</td>\n",
       "      <td>14:41:14</td>\n",
       "      <td>Give Nhlanhla his flowers for release himse...</td>\n",
       "      <td>Negative</td>\n",
       "      <td>0</td>\n",
       "      <td>1</td>\n",
       "      <td>en</td>\n",
       "      <td>0</td>\n",
       "      <td>Jozi</td>\n",
       "      <td>Johannesburg</td>\n",
       "      <td>longitude=27.7518557, latitude=-26.5126489</td>\n",
       "      <td>Rural</td>\n",
       "      <td>Gauteng</td>\n",
       "      <td>0</td>\n",
       "      <td>165</td>\n",
       "    </tr>\n",
       "  </tbody>\n",
       "</table>\n",
       "</div>"
      ],
      "text/plain": [
       "  DateCreated TimeCreated                                       CleanedTweet  \\\n",
       "0  2022-07-18    20:57:33    Where are the foreigners? We were told maRus...   \n",
       "1  2022-07-18    20:15:58  We invite all those who have lost loved ones t...   \n",
       "2  2022-07-18    20:03:16  After battling with HIV/AIDS for years, South ...   \n",
       "3  2022-07-18    15:03:18   Nani impela seniyamthemba UCele nama phoyisa....   \n",
       "4  2022-07-18    14:41:14     Give Nhlanhla his flowers for release himse...   \n",
       "\n",
       "  Sentiment Likes  No of replies Language  Retweets  \\\n",
       "0  Negative     6              0       en         1   \n",
       "1  Negative     3              2       en         0   \n",
       "2  Negative    79              2       en        18   \n",
       "3  Negative     0              0       en         0   \n",
       "4  Negative     0              1       en         0   \n",
       "\n",
       "                   User Location  Tweet Origin  \\\n",
       "0        Centurion, South Africa     Centurion   \n",
       "1     Johannesburg, South Africa  Johannesburg   \n",
       "2                   Planet Earth      Pretoria   \n",
       "3  South Africa Nkandla e Hlwane  Johannesburg   \n",
       "4                           Jozi  Johannesburg   \n",
       "\n",
       "                                  Coordinates District Province  \\\n",
       "0  longitude=28.0010585, latitude=-25.9448996    Rural  Gauteng   \n",
       "1  longitude=27.7518557, latitude=-26.5126489    Urban  Gauteng   \n",
       "2  longitude=27.9483035, latitude=-25.9157727    Urban  Gauteng   \n",
       "3  longitude=27.7518557, latitude=-26.5126489    Rural  Gauteng   \n",
       "4  longitude=27.7518557, latitude=-26.5126489    Rural  Gauteng   \n",
       "\n",
       "  Number of Attacks  tweet_len  \n",
       "0                 0        104  \n",
       "1                 0        228  \n",
       "2                 0        180  \n",
       "3                 0        207  \n",
       "4                 0        165  "
      ]
     },
     "execution_count": 140,
     "metadata": {},
     "output_type": "execute_result"
    }
   ],
   "source": [
    "df.head()"
   ]
  },
  {
   "cell_type": "code",
   "execution_count": 141,
   "id": "2379ebe9",
   "metadata": {},
   "outputs": [
    {
     "data": {
      "text/plain": [
       "32"
      ]
     },
     "execution_count": 141,
     "metadata": {},
     "output_type": "execute_result"
    }
   ],
   "source": [
    "df.Language.nunique()\n",
    "# The tweets were written in a total of 32 languages"
   ]
  },
  {
   "cell_type": "code",
   "execution_count": 142,
   "id": "6d250c92",
   "metadata": {},
   "outputs": [
    {
     "data": {
      "text/plain": [
       "Johannesburg        2729\n",
       "Pretoria            2173\n",
       "Boksburg            1115\n",
       "Sandton              915\n",
       "Randburg             873\n",
       "Soweto               862\n",
       "Midrand              743\n",
       "Durban               713\n",
       "Roodepoort           624\n",
       "Kempton Park         537\n",
       "Centurion            530\n",
       "Germiston            478\n",
       "Tembisa              314\n",
       "Brakpan              257\n",
       "Saulsville           188\n",
       "Diepkloof            188\n",
       "Vosloorus            140\n",
       "Akasia               127\n",
       "Pietermaritzburg     126\n",
       "Clayville            121\n",
       "Name: Tweet Origin, dtype: int64"
      ]
     },
     "execution_count": 142,
     "metadata": {},
     "output_type": "execute_result"
    }
   ],
   "source": [
    "df['Tweet Origin'].value_counts().head(20)\n",
    "# A lot of the tweets were made in Johannesburg"
   ]
  },
  {
   "cell_type": "code",
   "execution_count": 143,
   "id": "f874bf8a",
   "metadata": {},
   "outputs": [
    {
     "data": {
      "text/plain": [
       "Johannesburg, South Africa     1841\n",
       "South Africa                   1707\n",
       "Boksburg, South Africa         1498\n",
       "Soweto, South Africa            701\n",
       "Pretoria, South Africa          663\n",
       "Johannesburg                    419\n",
       "Republic of South Africa        386\n",
       "Durban, South Africa            325\n",
       "Sandton, South Africa           257\n",
       "Bulawayo - Johannesburg         184\n",
       "Pretoria                        159\n",
       "Centurion, South Africa         148\n",
       "Midrand, South Africa           138\n",
       "Durban, North beach             124\n",
       "Pretoria East, South Africa     121\n",
       "Johannesburg,South Africa       111\n",
       "Sowe2                           106\n",
       "Worldwide                        97\n",
       "Pretoria, GaMatlala, SA          95\n",
       "Alberton, South Africa           93\n",
       "Name: User Location, dtype: int64"
      ]
     },
     "execution_count": 143,
     "metadata": {},
     "output_type": "execute_result"
    }
   ],
   "source": [
    "df['User Location'].value_counts().head(20)\n",
    "# As was the case with the tweet origin , a lot of the users were from Johannesburg"
   ]
  },
  {
   "cell_type": "code",
   "execution_count": 144,
   "id": "2a655b92",
   "metadata": {},
   "outputs": [
    {
     "data": {
      "text/plain": [
       "<AxesSubplot:xlabel='Likes', ylabel='Count'>"
      ]
     },
     "execution_count": 144,
     "metadata": {},
     "output_type": "execute_result"
    },
    {
     "data": {
      "image/png": "[encoded data removed]",
      "text/plain": [
       "<Figure size 2000x800 with 1 Axes>"
      ]
     },
     "metadata": {},
     "output_type": "display_data"
    }
   ],
   "source": [
    "# How are the likes distributed in our case ?\n",
    "x=df[df['Sentiment']=='Negative']['Likes']\n",
    "plt.figure(figsize=(20,8))\n",
    "sns.histplot(x)"
   ]
  },
  {
   "cell_type": "code",
   "execution_count": 145,
   "id": "d79fbb9f",
   "metadata": {},
   "outputs": [],
   "source": [
    "corr = df.corr()"
   ]
  },
  {
   "cell_type": "code",
   "execution_count": 146,
   "id": "81a243e0",
   "metadata": {},
   "outputs": [
    {
     "data": {
      "text/html": [
       "<div>\n",
       "<style scoped>\n",
       "    .dataframe tbody tr th:only-of-type {\n",
       "        vertical-align: middle;\n",
       "    }\n",
       "\n",
       "    .dataframe tbody tr th {\n",
       "        vertical-align: top;\n",
       "    }\n",
       "\n",
       "    .dataframe thead th {\n",
       "        text-align: right;\n",
       "    }\n",
       "</style>\n",
       "<table border=\"1\" class=\"dataframe\">\n",
       "  <thead>\n",
       "    <tr style=\"text-align: right;\">\n",
       "      <th></th>\n",
       "      <th>No of replies</th>\n",
       "      <th>Retweets</th>\n",
       "      <th>tweet_len</th>\n",
       "    </tr>\n",
       "  </thead>\n",
       "  <tbody>\n",
       "    <tr>\n",
       "      <th>No of replies</th>\n",
       "      <td>1.000000</td>\n",
       "      <td>0.814057</td>\n",
       "      <td>0.057435</td>\n",
       "    </tr>\n",
       "    <tr>\n",
       "      <th>Retweets</th>\n",
       "      <td>0.814057</td>\n",
       "      <td>1.000000</td>\n",
       "      <td>0.057759</td>\n",
       "    </tr>\n",
       "    <tr>\n",
       "      <th>tweet_len</th>\n",
       "      <td>0.057435</td>\n",
       "      <td>0.057759</td>\n",
       "      <td>1.000000</td>\n",
       "    </tr>\n",
       "  </tbody>\n",
       "</table>\n",
       "</div>"
      ],
      "text/plain": [
       "               No of replies  Retweets  tweet_len\n",
       "No of replies       1.000000  0.814057   0.057435\n",
       "Retweets            0.814057  1.000000   0.057759\n",
       "tweet_len           0.057435  0.057759   1.000000"
      ]
     },
     "execution_count": 146,
     "metadata": {},
     "output_type": "execute_result"
    }
   ],
   "source": [
    "corr"
   ]
  },
  {
   "cell_type": "code",
   "execution_count": 147,
   "id": "b4451f34",
   "metadata": {},
   "outputs": [
    {
     "data": {
      "text/plain": [
       "DateCreated          object\n",
       "TimeCreated          object\n",
       "CleanedTweet         object\n",
       "Sentiment            object\n",
       "Likes                object\n",
       "No of replies         int64\n",
       "Language             object\n",
       "Retweets              int64\n",
       "User Location        object\n",
       "Tweet Origin         object\n",
       "Coordinates          object\n",
       "District             object\n",
       "Province             object\n",
       "Number of Attacks    object\n",
       "tweet_len             int64\n",
       "dtype: object"
      ]
     },
     "execution_count": 147,
     "metadata": {},
     "output_type": "execute_result"
    }
   ],
   "source": [
    "df.dtypes"
   ]
  },
  {
   "cell_type": "code",
   "execution_count": 148,
   "id": "de537090",
   "metadata": {},
   "outputs": [
    {
     "data": {
      "text/html": [
       "<div>\n",
       "<style scoped>\n",
       "    .dataframe tbody tr th:only-of-type {\n",
       "        vertical-align: middle;\n",
       "    }\n",
       "\n",
       "    .dataframe tbody tr th {\n",
       "        vertical-align: top;\n",
       "    }\n",
       "\n",
       "    .dataframe thead th {\n",
       "        text-align: right;\n",
       "    }\n",
       "</style>\n",
       "<table border=\"1\" class=\"dataframe\">\n",
       "  <thead>\n",
       "    <tr style=\"text-align: right;\">\n",
       "      <th></th>\n",
       "      <th>DateCreated</th>\n",
       "      <th>TimeCreated</th>\n",
       "      <th>CleanedTweet</th>\n",
       "      <th>Sentiment</th>\n",
       "      <th>Likes</th>\n",
       "      <th>No of replies</th>\n",
       "      <th>Language</th>\n",
       "      <th>Retweets</th>\n",
       "      <th>User Location</th>\n",
       "      <th>Tweet Origin</th>\n",
       "      <th>Coordinates</th>\n",
       "      <th>District</th>\n",
       "      <th>Province</th>\n",
       "      <th>Number of Attacks</th>\n",
       "      <th>tweet_len</th>\n",
       "    </tr>\n",
       "  </thead>\n",
       "  <tbody>\n",
       "    <tr>\n",
       "      <th>0</th>\n",
       "      <td>2022-07-18</td>\n",
       "      <td>20:57:33</td>\n",
       "      <td>Where are the foreigners? We were told maRus...</td>\n",
       "      <td>Negative</td>\n",
       "      <td>6</td>\n",
       "      <td>0</td>\n",
       "      <td>en</td>\n",
       "      <td>1</td>\n",
       "      <td>Centurion, South Africa</td>\n",
       "      <td>Centurion</td>\n",
       "      <td>longitude=28.0010585, latitude=-25.9448996</td>\n",
       "      <td>Rural</td>\n",
       "      <td>Gauteng</td>\n",
       "      <td>0</td>\n",
       "      <td>104</td>\n",
       "    </tr>\n",
       "    <tr>\n",
       "      <th>1</th>\n",
       "      <td>2022-07-18</td>\n",
       "      <td>20:15:58</td>\n",
       "      <td>We invite all those who have lost loved ones t...</td>\n",
       "      <td>Negative</td>\n",
       "      <td>3</td>\n",
       "      <td>2</td>\n",
       "      <td>en</td>\n",
       "      <td>0</td>\n",
       "      <td>Johannesburg, South Africa</td>\n",
       "      <td>Johannesburg</td>\n",
       "      <td>longitude=27.7518557, latitude=-26.5126489</td>\n",
       "      <td>Urban</td>\n",
       "      <td>Gauteng</td>\n",
       "      <td>0</td>\n",
       "      <td>228</td>\n",
       "    </tr>\n",
       "    <tr>\n",
       "      <th>2</th>\n",
       "      <td>2022-07-18</td>\n",
       "      <td>20:03:16</td>\n",
       "      <td>After battling with HIV/AIDS for years, South ...</td>\n",
       "      <td>Negative</td>\n",
       "      <td>79</td>\n",
       "      <td>2</td>\n",
       "      <td>en</td>\n",
       "      <td>18</td>\n",
       "      <td>Planet Earth</td>\n",
       "      <td>Pretoria</td>\n",
       "      <td>longitude=27.9483035, latitude=-25.9157727</td>\n",
       "      <td>Urban</td>\n",
       "      <td>Gauteng</td>\n",
       "      <td>0</td>\n",
       "      <td>180</td>\n",
       "    </tr>\n",
       "    <tr>\n",
       "      <th>3</th>\n",
       "      <td>2022-07-18</td>\n",
       "      <td>15:03:18</td>\n",
       "      <td>Nani impela seniyamthemba UCele nama phoyisa....</td>\n",
       "      <td>Negative</td>\n",
       "      <td>0</td>\n",
       "      <td>0</td>\n",
       "      <td>en</td>\n",
       "      <td>0</td>\n",
       "      <td>South Africa Nkandla e Hlwane</td>\n",
       "      <td>Johannesburg</td>\n",
       "      <td>longitude=27.7518557, latitude=-26.5126489</td>\n",
       "      <td>Rural</td>\n",
       "      <td>Gauteng</td>\n",
       "      <td>0</td>\n",
       "      <td>207</td>\n",
       "    </tr>\n",
       "    <tr>\n",
       "      <th>4</th>\n",
       "      <td>2022-07-18</td>\n",
       "      <td>14:41:14</td>\n",
       "      <td>Give Nhlanhla his flowers for release himse...</td>\n",
       "      <td>Negative</td>\n",
       "      <td>0</td>\n",
       "      <td>1</td>\n",
       "      <td>en</td>\n",
       "      <td>0</td>\n",
       "      <td>Jozi</td>\n",
       "      <td>Johannesburg</td>\n",
       "      <td>longitude=27.7518557, latitude=-26.5126489</td>\n",
       "      <td>Rural</td>\n",
       "      <td>Gauteng</td>\n",
       "      <td>0</td>\n",
       "      <td>165</td>\n",
       "    </tr>\n",
       "  </tbody>\n",
       "</table>\n",
       "</div>"
      ],
      "text/plain": [
       "  DateCreated TimeCreated                                       CleanedTweet  \\\n",
       "0  2022-07-18    20:57:33    Where are the foreigners? We were told maRus...   \n",
       "1  2022-07-18    20:15:58  We invite all those who have lost loved ones t...   \n",
       "2  2022-07-18    20:03:16  After battling with HIV/AIDS for years, South ...   \n",
       "3  2022-07-18    15:03:18   Nani impela seniyamthemba UCele nama phoyisa....   \n",
       "4  2022-07-18    14:41:14     Give Nhlanhla his flowers for release himse...   \n",
       "\n",
       "  Sentiment Likes  No of replies Language  Retweets  \\\n",
       "0  Negative     6              0       en         1   \n",
       "1  Negative     3              2       en         0   \n",
       "2  Negative    79              2       en        18   \n",
       "3  Negative     0              0       en         0   \n",
       "4  Negative     0              1       en         0   \n",
       "\n",
       "                   User Location  Tweet Origin  \\\n",
       "0        Centurion, South Africa     Centurion   \n",
       "1     Johannesburg, South Africa  Johannesburg   \n",
       "2                   Planet Earth      Pretoria   \n",
       "3  South Africa Nkandla e Hlwane  Johannesburg   \n",
       "4                           Jozi  Johannesburg   \n",
       "\n",
       "                                  Coordinates District Province  \\\n",
       "0  longitude=28.0010585, latitude=-25.9448996    Rural  Gauteng   \n",
       "1  longitude=27.7518557, latitude=-26.5126489    Urban  Gauteng   \n",
       "2  longitude=27.9483035, latitude=-25.9157727    Urban  Gauteng   \n",
       "3  longitude=27.7518557, latitude=-26.5126489    Rural  Gauteng   \n",
       "4  longitude=27.7518557, latitude=-26.5126489    Rural  Gauteng   \n",
       "\n",
       "  Number of Attacks  tweet_len  \n",
       "0                 0        104  \n",
       "1                 0        228  \n",
       "2                 0        180  \n",
       "3                 0        207  \n",
       "4                 0        165  "
      ]
     },
     "execution_count": 148,
     "metadata": {},
     "output_type": "execute_result"
    }
   ],
   "source": [
    "df.head()"
   ]
  },
  {
   "cell_type": "code",
   "execution_count": 149,
   "id": "ecf84ed4",
   "metadata": {},
   "outputs": [
    {
     "data": {
      "text/plain": [
       "<AxesSubplot:xlabel='District', ylabel='count'>"
      ]
     },
     "execution_count": 149,
     "metadata": {},
     "output_type": "execute_result"
    },
    {
     "data": {
      "image/png": "[encoded data removed]",
      "text/plain": [
       "<Figure size 2000x800 with 1 Axes>"
      ]
     },
     "metadata": {},
     "output_type": "display_data"
    }
   ],
   "source": [
    "plt.figure(figsize=(20,8))\n",
    "sns.countplot(x=df['District'])\n",
    "# Majority of the tweets came from urban districs such as Pretoria and Johannesburg"
   ]
  },
  {
   "cell_type": "code",
   "execution_count": 150,
   "id": "71846b33",
   "metadata": {},
   "outputs": [
    {
     "data": {
      "text/plain": [
       "0     15548\n",
       "1       268\n",
       "2        53\n",
       "20       16\n",
       "5        13\n",
       "Name: Number of Attacks, dtype: int64"
      ]
     },
     "execution_count": 150,
     "metadata": {},
     "output_type": "execute_result"
    }
   ],
   "source": [
    "df['Number of Attacks'].value_counts().head()"
   ]
  },
  {
   "cell_type": "code",
   "execution_count": 151,
   "id": "082fd149",
   "metadata": {},
   "outputs": [
    {
     "data": {
      "image/png": "[encoded data removed]",
      "text/plain": [
       "<Figure size 2000x800 with 1 Axes>"
      ]
     },
     "metadata": {},
     "output_type": "display_data"
    }
   ],
   "source": [
    "plt.figure(figsize=(20,8))\n",
    "sns.histplot(x=df['Number of Attacks'])\n",
    "plt.title(\"The Distribution of Xenophobic attacks\")\n",
    "plt.show()"
   ]
  },
  {
   "cell_type": "code",
   "execution_count": 152,
   "id": "0e26d00e",
   "metadata": {},
   "outputs": [
    {
     "data": {
      "text/plain": [
       "<Figure size 2000x800 with 0 Axes>"
      ]
     },
     "metadata": {},
     "output_type": "display_data"
    },
    {
     "data": {
      "image/png": "[encoded data removed]",
      "text/plain": [
       "<Figure size 600x600 with 3 Axes>"
      ]
     },
     "metadata": {},
     "output_type": "display_data"
    }
   ],
   "source": [
    "plt.figure(figsize=(20,8))\n",
    "sns.jointplot(x='Likes',y='Retweets',data=df.head(1000))\n",
    "plt.show()"
   ]
  },
  {
   "cell_type": "code",
   "execution_count": 153,
   "id": "95a39589",
   "metadata": {},
   "outputs": [
    {
     "data": {
      "text/plain": [
       "<Figure size 2000x800 with 0 Axes>"
      ]
     },
     "metadata": {},
     "output_type": "display_data"
    },
    {
     "data": {
      "image/png": "[encoded data removed]",
      "text/plain": [
       "<Figure size 600x600 with 3 Axes>"
      ]
     },
     "metadata": {},
     "output_type": "display_data"
    }
   ],
   "source": [
    "fig=plt.figure(figsize=(20,8))\n",
    "sns.jointplot(y='Number of Attacks',x='Retweets',data=df)\n",
    "plt.show()"
   ]
  },
  {
   "cell_type": "code",
   "execution_count": 154,
   "id": "9edfdf93",
   "metadata": {},
   "outputs": [
    {
     "data": {
      "text/plain": [
       "0     15548\n",
       "1       268\n",
       "2        53\n",
       "20       16\n",
       "5        13\n",
       "3         8\n",
       "6         2\n",
       "o         1\n",
       "4         1\n",
       "7         1\n",
       "          1\n",
       "Name: Number of Attacks, dtype: int64"
      ]
     },
     "execution_count": 154,
     "metadata": {},
     "output_type": "execute_result"
    }
   ],
   "source": [
    "df['Number of Attacks'].value_counts().head(20)"
   ]
  },
  {
   "cell_type": "markdown",
   "id": "35a4aeba",
   "metadata": {},
   "source": [
    "# PREDICTION OF NUMBER OF ATTACKS : USING ML AND DEEP LEARNING"
   ]
  },
  {
   "cell_type": "code",
   "execution_count": 155,
   "id": "b30f120a",
   "metadata": {},
   "outputs": [
    {
     "data": {
      "text/html": [
       "<div>\n",
       "<style scoped>\n",
       "    .dataframe tbody tr th:only-of-type {\n",
       "        vertical-align: middle;\n",
       "    }\n",
       "\n",
       "    .dataframe tbody tr th {\n",
       "        vertical-align: top;\n",
       "    }\n",
       "\n",
       "    .dataframe thead th {\n",
       "        text-align: right;\n",
       "    }\n",
       "</style>\n",
       "<table border=\"1\" class=\"dataframe\">\n",
       "  <thead>\n",
       "    <tr style=\"text-align: right;\">\n",
       "      <th></th>\n",
       "      <th>DateCreated</th>\n",
       "      <th>TimeCreated</th>\n",
       "      <th>CleanedTweet</th>\n",
       "      <th>Sentiment</th>\n",
       "      <th>Likes</th>\n",
       "      <th>No of replies</th>\n",
       "      <th>Language</th>\n",
       "      <th>Retweets</th>\n",
       "      <th>User Location</th>\n",
       "      <th>Tweet Origin</th>\n",
       "      <th>Coordinates</th>\n",
       "      <th>District</th>\n",
       "      <th>Province</th>\n",
       "      <th>Number of Attacks</th>\n",
       "      <th>tweet_len</th>\n",
       "    </tr>\n",
       "  </thead>\n",
       "  <tbody>\n",
       "    <tr>\n",
       "      <th>0</th>\n",
       "      <td>2022-07-18</td>\n",
       "      <td>20:57:33</td>\n",
       "      <td>Where are the foreigners? We were told maRus...</td>\n",
       "      <td>Negative</td>\n",
       "      <td>6</td>\n",
       "      <td>0</td>\n",
       "      <td>en</td>\n",
       "      <td>1</td>\n",
       "      <td>Centurion, South Africa</td>\n",
       "      <td>Centurion</td>\n",
       "      <td>longitude=28.0010585, latitude=-25.9448996</td>\n",
       "      <td>Rural</td>\n",
       "      <td>Gauteng</td>\n",
       "      <td>0</td>\n",
       "      <td>104</td>\n",
       "    </tr>\n",
       "    <tr>\n",
       "      <th>1</th>\n",
       "      <td>2022-07-18</td>\n",
       "      <td>20:15:58</td>\n",
       "      <td>We invite all those who have lost loved ones t...</td>\n",
       "      <td>Negative</td>\n",
       "      <td>3</td>\n",
       "      <td>2</td>\n",
       "      <td>en</td>\n",
       "      <td>0</td>\n",
       "      <td>Johannesburg, South Africa</td>\n",
       "      <td>Johannesburg</td>\n",
       "      <td>longitude=27.7518557, latitude=-26.5126489</td>\n",
       "      <td>Urban</td>\n",
       "      <td>Gauteng</td>\n",
       "      <td>0</td>\n",
       "      <td>228</td>\n",
       "    </tr>\n",
       "    <tr>\n",
       "      <th>2</th>\n",
       "      <td>2022-07-18</td>\n",
       "      <td>20:03:16</td>\n",
       "      <td>After battling with HIV/AIDS for years, South ...</td>\n",
       "      <td>Negative</td>\n",
       "      <td>79</td>\n",
       "      <td>2</td>\n",
       "      <td>en</td>\n",
       "      <td>18</td>\n",
       "      <td>Planet Earth</td>\n",
       "      <td>Pretoria</td>\n",
       "      <td>longitude=27.9483035, latitude=-25.9157727</td>\n",
       "      <td>Urban</td>\n",
       "      <td>Gauteng</td>\n",
       "      <td>0</td>\n",
       "      <td>180</td>\n",
       "    </tr>\n",
       "    <tr>\n",
       "      <th>3</th>\n",
       "      <td>2022-07-18</td>\n",
       "      <td>15:03:18</td>\n",
       "      <td>Nani impela seniyamthemba UCele nama phoyisa....</td>\n",
       "      <td>Negative</td>\n",
       "      <td>0</td>\n",
       "      <td>0</td>\n",
       "      <td>en</td>\n",
       "      <td>0</td>\n",
       "      <td>South Africa Nkandla e Hlwane</td>\n",
       "      <td>Johannesburg</td>\n",
       "      <td>longitude=27.7518557, latitude=-26.5126489</td>\n",
       "      <td>Rural</td>\n",
       "      <td>Gauteng</td>\n",
       "      <td>0</td>\n",
       "      <td>207</td>\n",
       "    </tr>\n",
       "    <tr>\n",
       "      <th>4</th>\n",
       "      <td>2022-07-18</td>\n",
       "      <td>14:41:14</td>\n",
       "      <td>Give Nhlanhla his flowers for release himse...</td>\n",
       "      <td>Negative</td>\n",
       "      <td>0</td>\n",
       "      <td>1</td>\n",
       "      <td>en</td>\n",
       "      <td>0</td>\n",
       "      <td>Jozi</td>\n",
       "      <td>Johannesburg</td>\n",
       "      <td>longitude=27.7518557, latitude=-26.5126489</td>\n",
       "      <td>Rural</td>\n",
       "      <td>Gauteng</td>\n",
       "      <td>0</td>\n",
       "      <td>165</td>\n",
       "    </tr>\n",
       "  </tbody>\n",
       "</table>\n",
       "</div>"
      ],
      "text/plain": [
       "  DateCreated TimeCreated                                       CleanedTweet  \\\n",
       "0  2022-07-18    20:57:33    Where are the foreigners? We were told maRus...   \n",
       "1  2022-07-18    20:15:58  We invite all those who have lost loved ones t...   \n",
       "2  2022-07-18    20:03:16  After battling with HIV/AIDS for years, South ...   \n",
       "3  2022-07-18    15:03:18   Nani impela seniyamthemba UCele nama phoyisa....   \n",
       "4  2022-07-18    14:41:14     Give Nhlanhla his flowers for release himse...   \n",
       "\n",
       "  Sentiment Likes  No of replies Language  Retweets  \\\n",
       "0  Negative     6              0       en         1   \n",
       "1  Negative     3              2       en         0   \n",
       "2  Negative    79              2       en        18   \n",
       "3  Negative     0              0       en         0   \n",
       "4  Negative     0              1       en         0   \n",
       "\n",
       "                   User Location  Tweet Origin  \\\n",
       "0        Centurion, South Africa     Centurion   \n",
       "1     Johannesburg, South Africa  Johannesburg   \n",
       "2                   Planet Earth      Pretoria   \n",
       "3  South Africa Nkandla e Hlwane  Johannesburg   \n",
       "4                           Jozi  Johannesburg   \n",
       "\n",
       "                                  Coordinates District Province  \\\n",
       "0  longitude=28.0010585, latitude=-25.9448996    Rural  Gauteng   \n",
       "1  longitude=27.7518557, latitude=-26.5126489    Urban  Gauteng   \n",
       "2  longitude=27.9483035, latitude=-25.9157727    Urban  Gauteng   \n",
       "3  longitude=27.7518557, latitude=-26.5126489    Rural  Gauteng   \n",
       "4  longitude=27.7518557, latitude=-26.5126489    Rural  Gauteng   \n",
       "\n",
       "  Number of Attacks  tweet_len  \n",
       "0                 0        104  \n",
       "1                 0        228  \n",
       "2                 0        180  \n",
       "3                 0        207  \n",
       "4                 0        165  "
      ]
     },
     "execution_count": 155,
     "metadata": {},
     "output_type": "execute_result"
    }
   ],
   "source": [
    "df.head()"
   ]
  },
  {
   "cell_type": "code",
   "execution_count": 156,
   "id": "3e9f3113",
   "metadata": {},
   "outputs": [],
   "source": [
    "cat_features = ['TimeCreated','Sentiment','Language','User Location','Tweet Origin','Coordinates','District','Province','Number of Attacks'\n",
    "               ,'Likes']"
   ]
  },
  {
   "cell_type": "code",
   "execution_count": 157,
   "id": "1a0b0716",
   "metadata": {},
   "outputs": [],
   "source": [
    "from sklearn.preprocessing import LabelEncoder\n",
    "lbl_encoder = {}\n",
    "\n",
    "for features in cat_features:\n",
    "    lbl_encoder = LabelEncoder()\n",
    "    df[features] = lbl_encoder.fit_transform(df[features])"
   ]
  },
  {
   "cell_type": "code",
   "execution_count": 158,
   "id": "29326ee1",
   "metadata": {},
   "outputs": [],
   "source": [
    "df.drop(['DateCreated'],axis=1,inplace=True)"
   ]
  },
  {
   "cell_type": "code",
   "execution_count": 159,
   "id": "98de6bb4",
   "metadata": {},
   "outputs": [
    {
     "data": {
      "text/html": [
       "<div>\n",
       "<style scoped>\n",
       "    .dataframe tbody tr th:only-of-type {\n",
       "        vertical-align: middle;\n",
       "    }\n",
       "\n",
       "    .dataframe tbody tr th {\n",
       "        vertical-align: top;\n",
       "    }\n",
       "\n",
       "    .dataframe thead th {\n",
       "        text-align: right;\n",
       "    }\n",
       "</style>\n",
       "<table border=\"1\" class=\"dataframe\">\n",
       "  <thead>\n",
       "    <tr style=\"text-align: right;\">\n",
       "      <th></th>\n",
       "      <th>TimeCreated</th>\n",
       "      <th>CleanedTweet</th>\n",
       "      <th>Sentiment</th>\n",
       "      <th>Likes</th>\n",
       "      <th>No of replies</th>\n",
       "      <th>Language</th>\n",
       "      <th>Retweets</th>\n",
       "      <th>User Location</th>\n",
       "      <th>Tweet Origin</th>\n",
       "      <th>Coordinates</th>\n",
       "      <th>District</th>\n",
       "      <th>Province</th>\n",
       "      <th>Number of Attacks</th>\n",
       "      <th>tweet_len</th>\n",
       "    </tr>\n",
       "  </thead>\n",
       "  <tbody>\n",
       "    <tr>\n",
       "      <th>0</th>\n",
       "      <td>13488</td>\n",
       "      <td>Where are the foreigners? We were told maRus...</td>\n",
       "      <td>21</td>\n",
       "      <td>250</td>\n",
       "      <td>0</td>\n",
       "      <td>4</td>\n",
       "      <td>1</td>\n",
       "      <td>233</td>\n",
       "      <td>15</td>\n",
       "      <td>47</td>\n",
       "      <td>6</td>\n",
       "      <td>2</td>\n",
       "      <td>1</td>\n",
       "      <td>104</td>\n",
       "    </tr>\n",
       "    <tr>\n",
       "      <th>1</th>\n",
       "      <td>13062</td>\n",
       "      <td>We invite all those who have lost loved ones t...</td>\n",
       "      <td>21</td>\n",
       "      <td>148</td>\n",
       "      <td>2</td>\n",
       "      <td>4</td>\n",
       "      <td>0</td>\n",
       "      <td>630</td>\n",
       "      <td>43</td>\n",
       "      <td>14</td>\n",
       "      <td>16</td>\n",
       "      <td>2</td>\n",
       "      <td>1</td>\n",
       "      <td>228</td>\n",
       "    </tr>\n",
       "    <tr>\n",
       "      <th>2</th>\n",
       "      <td>12915</td>\n",
       "      <td>After battling with HIV/AIDS for years, South ...</td>\n",
       "      <td>21</td>\n",
       "      <td>285</td>\n",
       "      <td>2</td>\n",
       "      <td>4</td>\n",
       "      <td>18</td>\n",
       "      <td>1034</td>\n",
       "      <td>86</td>\n",
       "      <td>38</td>\n",
       "      <td>16</td>\n",
       "      <td>2</td>\n",
       "      <td>1</td>\n",
       "      <td>180</td>\n",
       "    </tr>\n",
       "    <tr>\n",
       "      <th>3</th>\n",
       "      <td>9118</td>\n",
       "      <td>Nani impela seniyamthemba UCele nama phoyisa....</td>\n",
       "      <td>21</td>\n",
       "      <td>1</td>\n",
       "      <td>0</td>\n",
       "      <td>4</td>\n",
       "      <td>0</td>\n",
       "      <td>1271</td>\n",
       "      <td>43</td>\n",
       "      <td>14</td>\n",
       "      <td>6</td>\n",
       "      <td>2</td>\n",
       "      <td>1</td>\n",
       "      <td>207</td>\n",
       "    </tr>\n",
       "    <tr>\n",
       "      <th>4</th>\n",
       "      <td>8873</td>\n",
       "      <td>Give Nhlanhla his flowers for release himse...</td>\n",
       "      <td>21</td>\n",
       "      <td>1</td>\n",
       "      <td>1</td>\n",
       "      <td>4</td>\n",
       "      <td>0</td>\n",
       "      <td>661</td>\n",
       "      <td>43</td>\n",
       "      <td>14</td>\n",
       "      <td>6</td>\n",
       "      <td>2</td>\n",
       "      <td>1</td>\n",
       "      <td>165</td>\n",
       "    </tr>\n",
       "  </tbody>\n",
       "</table>\n",
       "</div>"
      ],
      "text/plain": [
       "   TimeCreated                                       CleanedTweet  Sentiment  \\\n",
       "0        13488    Where are the foreigners? We were told maRus...         21   \n",
       "1        13062  We invite all those who have lost loved ones t...         21   \n",
       "2        12915  After battling with HIV/AIDS for years, South ...         21   \n",
       "3         9118   Nani impela seniyamthemba UCele nama phoyisa....         21   \n",
       "4         8873     Give Nhlanhla his flowers for release himse...         21   \n",
       "\n",
       "   Likes  No of replies  Language  Retweets  User Location  Tweet Origin  \\\n",
       "0    250              0         4         1            233            15   \n",
       "1    148              2         4         0            630            43   \n",
       "2    285              2         4        18           1034            86   \n",
       "3      1              0         4         0           1271            43   \n",
       "4      1              1         4         0            661            43   \n",
       "\n",
       "   Coordinates  District  Province  Number of Attacks  tweet_len  \n",
       "0           47         6         2                  1        104  \n",
       "1           14        16         2                  1        228  \n",
       "2           38        16         2                  1        180  \n",
       "3           14         6         2                  1        207  \n",
       "4           14         6         2                  1        165  "
      ]
     },
     "execution_count": 159,
     "metadata": {},
     "output_type": "execute_result"
    }
   ],
   "source": [
    "df.head()"
   ]
  },
  {
   "cell_type": "code",
   "execution_count": 160,
   "id": "aba294f9",
   "metadata": {},
   "outputs": [
    {
     "data": {
      "text/plain": [
       "<seaborn.axisgrid.JointGrid at 0x216433b2790>"
      ]
     },
     "execution_count": 160,
     "metadata": {},
     "output_type": "execute_result"
    },
    {
     "data": {
      "image/png": "[encoded data removed]",
      "text/plain": [
       "<Figure size 600x600 with 3 Axes>"
      ]
     },
     "metadata": {},
     "output_type": "display_data"
    }
   ],
   "source": [
    "sns.jointplot(x=df.tweet_len , y=df['No of replies'])"
   ]
  },
  {
   "cell_type": "code",
   "execution_count": 161,
   "id": "2e9cefbf",
   "metadata": {},
   "outputs": [
    {
     "data": {
      "text/html": [
       "<div>\n",
       "<style scoped>\n",
       "    .dataframe tbody tr th:only-of-type {\n",
       "        vertical-align: middle;\n",
       "    }\n",
       "\n",
       "    .dataframe tbody tr th {\n",
       "        vertical-align: top;\n",
       "    }\n",
       "\n",
       "    .dataframe thead th {\n",
       "        text-align: right;\n",
       "    }\n",
       "</style>\n",
       "<table border=\"1\" class=\"dataframe\">\n",
       "  <thead>\n",
       "    <tr style=\"text-align: right;\">\n",
       "      <th></th>\n",
       "      <th>TimeCreated</th>\n",
       "      <th>Sentiment</th>\n",
       "      <th>Likes</th>\n",
       "      <th>No of replies</th>\n",
       "      <th>Language</th>\n",
       "      <th>Retweets</th>\n",
       "      <th>User Location</th>\n",
       "      <th>Tweet Origin</th>\n",
       "      <th>Coordinates</th>\n",
       "      <th>District</th>\n",
       "      <th>Province</th>\n",
       "      <th>Number of Attacks</th>\n",
       "      <th>tweet_len</th>\n",
       "    </tr>\n",
       "  </thead>\n",
       "  <tbody>\n",
       "    <tr>\n",
       "      <th>TimeCreated</th>\n",
       "      <td>1.000000</td>\n",
       "      <td>-0.009290</td>\n",
       "      <td>0.001348</td>\n",
       "      <td>-0.015909</td>\n",
       "      <td>0.014023</td>\n",
       "      <td>-0.021043</td>\n",
       "      <td>-0.018825</td>\n",
       "      <td>0.005228</td>\n",
       "      <td>0.031308</td>\n",
       "      <td>0.010773</td>\n",
       "      <td>-0.002113</td>\n",
       "      <td>-0.025165</td>\n",
       "      <td>-0.044104</td>\n",
       "    </tr>\n",
       "    <tr>\n",
       "      <th>Sentiment</th>\n",
       "      <td>-0.009290</td>\n",
       "      <td>1.000000</td>\n",
       "      <td>-0.014692</td>\n",
       "      <td>0.002578</td>\n",
       "      <td>0.002478</td>\n",
       "      <td>0.003210</td>\n",
       "      <td>-0.022425</td>\n",
       "      <td>0.005107</td>\n",
       "      <td>-0.039104</td>\n",
       "      <td>0.586451</td>\n",
       "      <td>-0.012555</td>\n",
       "      <td>-0.012011</td>\n",
       "      <td>0.029598</td>\n",
       "    </tr>\n",
       "    <tr>\n",
       "      <th>Likes</th>\n",
       "      <td>0.001348</td>\n",
       "      <td>-0.014692</td>\n",
       "      <td>1.000000</td>\n",
       "      <td>0.119521</td>\n",
       "      <td>-0.018742</td>\n",
       "      <td>0.156268</td>\n",
       "      <td>-0.057850</td>\n",
       "      <td>-0.008582</td>\n",
       "      <td>0.016381</td>\n",
       "      <td>-0.010149</td>\n",
       "      <td>-0.006957</td>\n",
       "      <td>0.017574</td>\n",
       "      <td>0.097559</td>\n",
       "    </tr>\n",
       "    <tr>\n",
       "      <th>No of replies</th>\n",
       "      <td>-0.015909</td>\n",
       "      <td>0.002578</td>\n",
       "      <td>0.119521</td>\n",
       "      <td>1.000000</td>\n",
       "      <td>-0.013803</td>\n",
       "      <td>0.814057</td>\n",
       "      <td>0.019988</td>\n",
       "      <td>0.016512</td>\n",
       "      <td>-0.028794</td>\n",
       "      <td>-0.007596</td>\n",
       "      <td>-0.009250</td>\n",
       "      <td>0.002397</td>\n",
       "      <td>0.057435</td>\n",
       "    </tr>\n",
       "    <tr>\n",
       "      <th>Language</th>\n",
       "      <td>0.014023</td>\n",
       "      <td>0.002478</td>\n",
       "      <td>-0.018742</td>\n",
       "      <td>-0.013803</td>\n",
       "      <td>1.000000</td>\n",
       "      <td>-0.008769</td>\n",
       "      <td>0.042376</td>\n",
       "      <td>0.048889</td>\n",
       "      <td>-0.005052</td>\n",
       "      <td>-0.015092</td>\n",
       "      <td>0.016206</td>\n",
       "      <td>-0.001584</td>\n",
       "      <td>-0.241572</td>\n",
       "    </tr>\n",
       "    <tr>\n",
       "      <th>Retweets</th>\n",
       "      <td>-0.021043</td>\n",
       "      <td>0.003210</td>\n",
       "      <td>0.156268</td>\n",
       "      <td>0.814057</td>\n",
       "      <td>-0.008769</td>\n",
       "      <td>1.000000</td>\n",
       "      <td>0.007674</td>\n",
       "      <td>0.012195</td>\n",
       "      <td>-0.023540</td>\n",
       "      <td>-0.007460</td>\n",
       "      <td>-0.012802</td>\n",
       "      <td>0.001306</td>\n",
       "      <td>0.057759</td>\n",
       "    </tr>\n",
       "    <tr>\n",
       "      <th>User Location</th>\n",
       "      <td>-0.018825</td>\n",
       "      <td>-0.022425</td>\n",
       "      <td>-0.057850</td>\n",
       "      <td>0.019988</td>\n",
       "      <td>0.042376</td>\n",
       "      <td>0.007674</td>\n",
       "      <td>1.000000</td>\n",
       "      <td>0.280114</td>\n",
       "      <td>-0.156739</td>\n",
       "      <td>-0.033181</td>\n",
       "      <td>-0.047791</td>\n",
       "      <td>0.011987</td>\n",
       "      <td>-0.109288</td>\n",
       "    </tr>\n",
       "    <tr>\n",
       "      <th>Tweet Origin</th>\n",
       "      <td>0.005228</td>\n",
       "      <td>0.005107</td>\n",
       "      <td>-0.008582</td>\n",
       "      <td>0.016512</td>\n",
       "      <td>0.048889</td>\n",
       "      <td>0.012195</td>\n",
       "      <td>0.280114</td>\n",
       "      <td>1.000000</td>\n",
       "      <td>-0.258247</td>\n",
       "      <td>-0.024029</td>\n",
       "      <td>0.014580</td>\n",
       "      <td>0.013780</td>\n",
       "      <td>-0.087664</td>\n",
       "    </tr>\n",
       "    <tr>\n",
       "      <th>Coordinates</th>\n",
       "      <td>0.031308</td>\n",
       "      <td>-0.039104</td>\n",
       "      <td>0.016381</td>\n",
       "      <td>-0.028794</td>\n",
       "      <td>-0.005052</td>\n",
       "      <td>-0.023540</td>\n",
       "      <td>-0.156739</td>\n",
       "      <td>-0.258247</td>\n",
       "      <td>1.000000</td>\n",
       "      <td>-0.054710</td>\n",
       "      <td>0.435483</td>\n",
       "      <td>-0.004269</td>\n",
       "      <td>0.005632</td>\n",
       "    </tr>\n",
       "    <tr>\n",
       "      <th>District</th>\n",
       "      <td>0.010773</td>\n",
       "      <td>0.586451</td>\n",
       "      <td>-0.010149</td>\n",
       "      <td>-0.007596</td>\n",
       "      <td>-0.015092</td>\n",
       "      <td>-0.007460</td>\n",
       "      <td>-0.033181</td>\n",
       "      <td>-0.024029</td>\n",
       "      <td>-0.054710</td>\n",
       "      <td>1.000000</td>\n",
       "      <td>-0.068545</td>\n",
       "      <td>-0.012432</td>\n",
       "      <td>0.044076</td>\n",
       "    </tr>\n",
       "    <tr>\n",
       "      <th>Province</th>\n",
       "      <td>-0.002113</td>\n",
       "      <td>-0.012555</td>\n",
       "      <td>-0.006957</td>\n",
       "      <td>-0.009250</td>\n",
       "      <td>0.016206</td>\n",
       "      <td>-0.012802</td>\n",
       "      <td>-0.047791</td>\n",
       "      <td>0.014580</td>\n",
       "      <td>0.435483</td>\n",
       "      <td>-0.068545</td>\n",
       "      <td>1.000000</td>\n",
       "      <td>-0.002621</td>\n",
       "      <td>-0.042340</td>\n",
       "    </tr>\n",
       "    <tr>\n",
       "      <th>Number of Attacks</th>\n",
       "      <td>-0.025165</td>\n",
       "      <td>-0.012011</td>\n",
       "      <td>0.017574</td>\n",
       "      <td>0.002397</td>\n",
       "      <td>-0.001584</td>\n",
       "      <td>0.001306</td>\n",
       "      <td>0.011987</td>\n",
       "      <td>0.013780</td>\n",
       "      <td>-0.004269</td>\n",
       "      <td>-0.012432</td>\n",
       "      <td>-0.002621</td>\n",
       "      <td>1.000000</td>\n",
       "      <td>-0.006252</td>\n",
       "    </tr>\n",
       "    <tr>\n",
       "      <th>tweet_len</th>\n",
       "      <td>-0.044104</td>\n",
       "      <td>0.029598</td>\n",
       "      <td>0.097559</td>\n",
       "      <td>0.057435</td>\n",
       "      <td>-0.241572</td>\n",
       "      <td>0.057759</td>\n",
       "      <td>-0.109288</td>\n",
       "      <td>-0.087664</td>\n",
       "      <td>0.005632</td>\n",
       "      <td>0.044076</td>\n",
       "      <td>-0.042340</td>\n",
       "      <td>-0.006252</td>\n",
       "      <td>1.000000</td>\n",
       "    </tr>\n",
       "  </tbody>\n",
       "</table>\n",
       "</div>"
      ],
      "text/plain": [
       "                   TimeCreated  Sentiment     Likes  No of replies  Language  \\\n",
       "TimeCreated           1.000000  -0.009290  0.001348      -0.015909  0.014023   \n",
       "Sentiment            -0.009290   1.000000 -0.014692       0.002578  0.002478   \n",
       "Likes                 0.001348  -0.014692  1.000000       0.119521 -0.018742   \n",
       "No of replies        -0.015909   0.002578  0.119521       1.000000 -0.013803   \n",
       "Language              0.014023   0.002478 -0.018742      -0.013803  1.000000   \n",
       "Retweets             -0.021043   0.003210  0.156268       0.814057 -0.008769   \n",
       "User Location        -0.018825  -0.022425 -0.057850       0.019988  0.042376   \n",
       "Tweet Origin          0.005228   0.005107 -0.008582       0.016512  0.048889   \n",
       "Coordinates           0.031308  -0.039104  0.016381      -0.028794 -0.005052   \n",
       "District              0.010773   0.586451 -0.010149      -0.007596 -0.015092   \n",
       "Province             -0.002113  -0.012555 -0.006957      -0.009250  0.016206   \n",
       "Number of Attacks    -0.025165  -0.012011  0.017574       0.002397 -0.001584   \n",
       "tweet_len            -0.044104   0.029598  0.097559       0.057435 -0.241572   \n",
       "\n",
       "                   Retweets  User Location  Tweet Origin  Coordinates  \\\n",
       "TimeCreated       -0.021043      -0.018825      0.005228     0.031308   \n",
       "Sentiment          0.003210      -0.022425      0.005107    -0.039104   \n",
       "Likes              0.156268      -0.057850     -0.008582     0.016381   \n",
       "No of replies      0.814057       0.019988      0.016512    -0.028794   \n",
       "Language          -0.008769       0.042376      0.048889    -0.005052   \n",
       "Retweets           1.000000       0.007674      0.012195    -0.023540   \n",
       "User Location      0.007674       1.000000      0.280114    -0.156739   \n",
       "Tweet Origin       0.012195       0.280114      1.000000    -0.258247   \n",
       "Coordinates       -0.023540      -0.156739     -0.258247     1.000000   \n",
       "District          -0.007460      -0.033181     -0.024029    -0.054710   \n",
       "Province          -0.012802      -0.047791      0.014580     0.435483   \n",
       "Number of Attacks  0.001306       0.011987      0.013780    -0.004269   \n",
       "tweet_len          0.057759      -0.109288     -0.087664     0.005632   \n",
       "\n",
       "                   District  Province  Number of Attacks  tweet_len  \n",
       "TimeCreated        0.010773 -0.002113          -0.025165  -0.044104  \n",
       "Sentiment          0.586451 -0.012555          -0.012011   0.029598  \n",
       "Likes             -0.010149 -0.006957           0.017574   0.097559  \n",
       "No of replies     -0.007596 -0.009250           0.002397   0.057435  \n",
       "Language          -0.015092  0.016206          -0.001584  -0.241572  \n",
       "Retweets          -0.007460 -0.012802           0.001306   0.057759  \n",
       "User Location     -0.033181 -0.047791           0.011987  -0.109288  \n",
       "Tweet Origin      -0.024029  0.014580           0.013780  -0.087664  \n",
       "Coordinates       -0.054710  0.435483          -0.004269   0.005632  \n",
       "District           1.000000 -0.068545          -0.012432   0.044076  \n",
       "Province          -0.068545  1.000000          -0.002621  -0.042340  \n",
       "Number of Attacks -0.012432 -0.002621           1.000000  -0.006252  \n",
       "tweet_len          0.044076 -0.042340          -0.006252   1.000000  "
      ]
     },
     "execution_count": 161,
     "metadata": {},
     "output_type": "execute_result"
    }
   ],
   "source": [
    "df.corr()"
   ]
  },
  {
   "cell_type": "code",
   "execution_count": 162,
   "id": "90cb7713",
   "metadata": {},
   "outputs": [
    {
     "data": {
      "text/plain": [
       "15771"
      ]
     },
     "execution_count": 162,
     "metadata": {},
     "output_type": "execute_result"
    }
   ],
   "source": [
    "df['CleanedTweet'].nunique()"
   ]
  },
  {
   "cell_type": "code",
   "execution_count": 163,
   "id": "6c270f7d",
   "metadata": {},
   "outputs": [
    {
     "data": {
      "text/plain": [
       "TimeCreated           int32\n",
       "CleanedTweet         object\n",
       "Sentiment             int32\n",
       "Likes                 int32\n",
       "No of replies         int64\n",
       "Language              int32\n",
       "Retweets              int64\n",
       "User Location         int32\n",
       "Tweet Origin          int32\n",
       "Coordinates           int32\n",
       "District              int32\n",
       "Province              int32\n",
       "Number of Attacks     int32\n",
       "tweet_len             int64\n",
       "dtype: object"
      ]
     },
     "execution_count": 163,
     "metadata": {},
     "output_type": "execute_result"
    }
   ],
   "source": [
    "df.dtypes"
   ]
  },
  {
   "cell_type": "code",
   "execution_count": 164,
   "id": "957754d5",
   "metadata": {},
   "outputs": [],
   "source": [
    "from sklearn.ensemble import RandomForestRegressor\n",
    "from sklearn.tree import DecisionTreeRegressor\n",
    "from sklearn.metrics import classification_report,mean_squared_error\n",
    "from sklearn.model_selection import train_test_split\n",
    "import torch\n",
    "from torch import nn\n",
    "import torch.nn.functional as F"
   ]
  },
  {
   "cell_type": "code",
   "execution_count": 165,
   "id": "e2f442e3",
   "metadata": {},
   "outputs": [
    {
     "data": {
      "text/plain": [
       "Index(['TimeCreated', 'CleanedTweet', 'Sentiment', 'Likes', 'No of replies',\n",
       "       'Language', 'Retweets', 'User Location', 'Tweet Origin', 'Coordinates',\n",
       "       'District', 'Province', 'Number of Attacks', 'tweet_len'],\n",
       "      dtype='object')"
      ]
     },
     "execution_count": 165,
     "metadata": {},
     "output_type": "execute_result"
    }
   ],
   "source": [
    "df.columns"
   ]
  },
  {
   "cell_type": "code",
   "execution_count": 166,
   "id": "6fd47475",
   "metadata": {},
   "outputs": [],
   "source": [
    "X  = df.drop(['CleanedTweet','Number of Attacks'],axis=1)\n",
    "y = df['Number of Attacks']"
   ]
  },
  {
   "cell_type": "code",
   "execution_count": 167,
   "id": "014fc48b",
   "metadata": {},
   "outputs": [],
   "source": [
    "X_train,X_test,y_train,y_test = train_test_split(X,y,test_size=0.2,random_state=101)"
   ]
  },
  {
   "cell_type": "code",
   "execution_count": 168,
   "id": "a37d642c",
   "metadata": {},
   "outputs": [
    {
     "name": "stdout",
     "output_type": "stream",
     "text": [
      "0.10227364121897582\n"
     ]
    }
   ],
   "source": [
    "rfc = RandomForestRegressor()\n",
    "rfc.fit(X_train,y_train)\n",
    "forest_predictions = rfc.predict(X_test)\n",
    "print(mean_squared_error(y_test,forest_predictions))"
   ]
  },
  {
   "cell_type": "code",
   "execution_count": 169,
   "id": "abdc866d",
   "metadata": {},
   "outputs": [
    {
     "name": "stdout",
     "output_type": "stream",
     "text": [
      "0.17499214577442665\n"
     ]
    }
   ],
   "source": [
    "dtr = DecisionTreeRegressor()\n",
    "dtr.fit(X_train,y_train)\n",
    "tree_predictions =dtr.predict(X_test)\n",
    "print(mean_squared_error(y_test,tree_predictions))"
   ]
  },
  {
   "cell_type": "code",
   "execution_count": 170,
   "id": "0ac8f2f5",
   "metadata": {},
   "outputs": [
    {
     "name": "stdout",
     "output_type": "stream",
     "text": [
      "[1.   1.   1.02 1.03 1.13 1.   1.   1.02 1.05]\n"
     ]
    }
   ],
   "source": [
    "print(forest_predictions[:9])"
   ]
  },
  {
   "cell_type": "code",
   "execution_count": 171,
   "id": "0810f52b",
   "metadata": {},
   "outputs": [
    {
     "name": "stdout",
     "output_type": "stream",
     "text": [
      "[1. 1. 1. 1. 1. 1. 1. 1. 1. 1. 1. 1. 1. 1. 1. 1. 1. 1. 1. 1. 1. 1. 1. 1.\n",
      " 2. 1. 1. 1. 1. 1. 1. 1. 1. 1. 1. 1. 1. 1. 1. 1. 1. 1. 1. 1. 1. 1. 1. 1.\n",
      " 1. 1. 1. 1. 1. 1. 1. 1. 1. 1. 2. 1. 1. 1. 1. 1. 1. 1. 1. 1. 1. 1. 1. 1.\n",
      " 1. 1. 1. 1. 1. 1. 1. 1.]\n"
     ]
    }
   ],
   "source": [
    "print(np.round(tree_predictions[:80]))"
   ]
  },
  {
   "cell_type": "markdown",
   "id": "eaaece19",
   "metadata": {},
   "source": [
    "# DEEP LEARNING"
   ]
  },
  {
   "cell_type": "code",
   "execution_count": 172,
   "id": "f9129014",
   "metadata": {},
   "outputs": [],
   "source": [
    "from sklearn.preprocessing import MinMaxScaler\n",
    "scaler = MinMaxScaler()"
   ]
  },
  {
   "cell_type": "code",
   "execution_count": 173,
   "id": "5a99f709",
   "metadata": {},
   "outputs": [],
   "source": [
    "X = X.values"
   ]
  },
  {
   "cell_type": "code",
   "execution_count": 174,
   "id": "40522642",
   "metadata": {},
   "outputs": [],
   "source": [
    "y = y.values.reshape(-1,1)"
   ]
  },
  {
   "cell_type": "code",
   "execution_count": 175,
   "id": "d63f608d",
   "metadata": {},
   "outputs": [
    {
     "data": {
      "text/plain": [
       "array([[13488,    21,   250, ...,     6,     2,   104],\n",
       "       [13062,    21,   148, ...,    16,     2,   228],\n",
       "       [12915,    21,   285, ...,    16,     2,   180],\n",
       "       ...,\n",
       "       [ 5397,    59,     2, ...,    31,     2,   113],\n",
       "       [ 3043,    59,    99, ...,    31,     3,   111],\n",
       "       [ 5302,    59,     1, ...,    25,     2,   137]], dtype=int64)"
      ]
     },
     "execution_count": 175,
     "metadata": {},
     "output_type": "execute_result"
    }
   ],
   "source": [
    "X"
   ]
  },
  {
   "cell_type": "code",
   "execution_count": 176,
   "id": "4bfe54ed",
   "metadata": {},
   "outputs": [
    {
     "data": {
      "text/plain": [
       "array([[1],\n",
       "       [1],\n",
       "       [1],\n",
       "       ...,\n",
       "       [1],\n",
       "       [1],\n",
       "       [1]])"
      ]
     },
     "execution_count": 176,
     "metadata": {},
     "output_type": "execute_result"
    }
   ],
   "source": [
    "y"
   ]
  },
  {
   "cell_type": "code",
   "execution_count": 177,
   "id": "5ed2ed6a",
   "metadata": {},
   "outputs": [],
   "source": [
    "X = scaler.fit_transform(X)"
   ]
  },
  {
   "cell_type": "code",
   "execution_count": 178,
   "id": "4faa8f72",
   "metadata": {},
   "outputs": [
    {
     "data": {
      "text/plain": [
       "(15912, 12)"
      ]
     },
     "execution_count": 178,
     "metadata": {},
     "output_type": "execute_result"
    }
   ],
   "source": [
    "X.shape"
   ]
  },
  {
   "cell_type": "code",
   "execution_count": 179,
   "id": "12065fac",
   "metadata": {},
   "outputs": [],
   "source": [
    "y = scaler.fit_transform(y)"
   ]
  },
  {
   "cell_type": "code",
   "execution_count": 180,
   "id": "126dece4",
   "metadata": {},
   "outputs": [],
   "source": [
    "X_trained,X_tested,y_trained,y_tested = train_test_split(X,y,test_size = 0.3,random_state=101)"
   ]
  },
  {
   "cell_type": "code",
   "execution_count": 181,
   "id": "acbc4979",
   "metadata": {},
   "outputs": [],
   "source": [
    "#Convert our scaled data  to tensors\n",
    "X_trained = torch.from_numpy(X_trained).type(torch.Tensor)\n",
    "X_tested= torch.from_numpy (X_tested) .type(torch.Tensor)\n",
    "y_trained = torch.from_numpy(y_trained).type(torch.Tensor)\n",
    "y_tested = torch.from_numpy(y_tested).type(torch.Tensor)"
   ]
  },
  {
   "cell_type": "code",
   "execution_count": 182,
   "id": "6c7a252a",
   "metadata": {},
   "outputs": [
    {
     "data": {
      "text/plain": [
       "numpy.ndarray"
      ]
     },
     "execution_count": 182,
     "metadata": {},
     "output_type": "execute_result"
    }
   ],
   "source": [
    "type(X)"
   ]
  },
  {
   "cell_type": "code",
   "execution_count": 183,
   "id": "ea994028",
   "metadata": {},
   "outputs": [],
   "source": [
    "# We build a model with 12 inputs and 1 output\n",
    " \n",
    "class Xeno(nn.Module):\n",
    "    def __init__(self,input_dim=12,hidden_dim =48,output_dim =1):\n",
    "        super().__init__()\n",
    "        self.linear_layer1 = nn.Linear(input_dim,hidden_dim)\n",
    "        self.linear_layer2 = nn.Linear(hidden_dim,hidden_dim)\n",
    "        self.linear_layer3 = nn.Linear(hidden_dim,hidden_dim)\n",
    "        self.out = nn.Linear(hidden_dim,output_dim)\n",
    "    def forward(self,x):\n",
    "        x = F.relu(x)\n",
    "        x = self.linear_layer1(x)\n",
    "        x = self.linear_layer2(x)\n",
    "        x = self.linear_layer3(x)\n",
    "        x = self.out(x)\n",
    "        return x\n"
   ]
  },
  {
   "cell_type": "code",
   "execution_count": 184,
   "id": "9a538c3e",
   "metadata": {},
   "outputs": [],
   "source": [
    "model = Xeno()\n"
   ]
  },
  {
   "cell_type": "code",
   "execution_count": 185,
   "id": "0e5ceaa0",
   "metadata": {},
   "outputs": [
    {
     "data": {
      "text/plain": [
       "<bound method Module.parameters of Xeno(\n",
       "  (linear_layer1): Linear(in_features=12, out_features=48, bias=True)\n",
       "  (linear_layer2): Linear(in_features=48, out_features=48, bias=True)\n",
       "  (linear_layer3): Linear(in_features=48, out_features=48, bias=True)\n",
       "  (out): Linear(in_features=48, out_features=1, bias=True)\n",
       ")>"
      ]
     },
     "execution_count": 185,
     "metadata": {},
     "output_type": "execute_result"
    }
   ],
   "source": [
    "model.parameters"
   ]
  },
  {
   "cell_type": "code",
   "execution_count": 186,
   "id": "1ba94a1b",
   "metadata": {},
   "outputs": [
    {
     "name": "stdout",
     "output_type": "stream",
     "text": [
      "[[0.28475767]\n",
      " [0.33726758]\n",
      " [0.63255996]\n",
      " ...\n",
      " [0.53554225]\n",
      " [0.52420074]\n",
      " [0.50076705]]\n"
     ]
    }
   ],
   "source": [
    "with torch.inference_mode():\n",
    " predictions= scaler.inverse_transform(model.forward(X_trained).detach().numpy())\n",
    " print(predictions)"
   ]
  },
  {
   "cell_type": "code",
   "execution_count": 195,
   "id": "bddb446e",
   "metadata": {},
   "outputs": [],
   "source": [
    "criterion = nn.MSELoss()\n",
    "optimizer = torch.optim.Adam(model.parameters(),lr=0.01)"
   ]
  },
  {
   "cell_type": "code",
   "execution_count": 196,
   "id": "6e8ab96b",
   "metadata": {},
   "outputs": [
    {
     "name": "stdout",
     "output_type": "stream",
     "text": [
      "The epoch is 0 the training loss is | 0.010521997697651386 and testing_loss is:0.0034221066161990166\n",
      "The epoch is 10 the training loss is | 0.010521997697651386 and testing_loss is:0.0034646105486899614\n",
      "The epoch is 20 the training loss is | 0.010521997697651386 and testing_loss is:0.001335378154180944\n",
      "The epoch is 30 the training loss is | 0.010521997697651386 and testing_loss is:0.001234364346601069\n",
      "The epoch is 40 the training loss is | 0.010521997697651386 and testing_loss is:0.0010775598930194974\n",
      "The epoch is 50 the training loss is | 0.010521997697651386 and testing_loss is:0.0010201550321653485\n",
      "The epoch is 60 the training loss is | 0.010521997697651386 and testing_loss is:0.001011821092106402\n",
      "The epoch is 70 the training loss is | 0.010521997697651386 and testing_loss is:0.0010103549575433135\n",
      "The epoch is 80 the training loss is | 0.010521997697651386 and testing_loss is:0.001009714906103909\n",
      "The epoch is 90 the training loss is | 0.010521997697651386 and testing_loss is:0.0010102109517902136\n",
      "The epoch is 100 the training loss is | 0.010521997697651386 and testing_loss is:0.0010094736935570836\n",
      "The epoch is 110 the training loss is | 0.010521997697651386 and testing_loss is:0.0010094554163515568\n",
      "The epoch is 120 the training loss is | 0.010521997697651386 and testing_loss is:0.0010095805628225207\n",
      "The epoch is 130 the training loss is | 0.010521997697651386 and testing_loss is:0.0010094990720972419\n",
      "The epoch is 140 the training loss is | 0.010521997697651386 and testing_loss is:0.0010094958124682307\n",
      "The epoch is 150 the training loss is | 0.010521997697651386 and testing_loss is:0.0010095159523189068\n",
      "The epoch is 160 the training loss is | 0.010521997697651386 and testing_loss is:0.001009513158351183\n",
      "The epoch is 170 the training loss is | 0.010521997697651386 and testing_loss is:0.0010095096658915281\n",
      "The epoch is 180 the training loss is | 0.010521997697651386 and testing_loss is:0.001009513158351183\n",
      "The epoch is 190 the training loss is | 0.010521997697651386 and testing_loss is:0.0010095180477946997\n"
     ]
    }
   ],
   "source": [
    "# Training and Testing loop\n",
    "epochs  = 200\n",
    "for epoch in range(epochs):\n",
    "    y_pred = model.forward(X_trained)\n",
    "    loss = criterion(y_trained,y_pred)\n",
    "    optimizer.zero_grad()\n",
    "    loss.backward()\n",
    "    optimizer.step()\n",
    "    with torch.inference_mode():\n",
    "        model.eval()\n",
    "        y_pred = model.forward(X_tested)\n",
    "        test_loss = criterion(y_tested,y_pred)\n",
    "        if epoch % 10 == 0:\n",
    "            print(f\"The epoch is {epoch} the training loss is | {training_loss} and testing_loss is:{test_loss}\")\n",
    "        "
   ]
  },
  {
   "cell_type": "code",
   "execution_count": 192,
   "id": "c6961379",
   "metadata": {},
   "outputs": [],
   "source": [
    "# THE END OF THE PROJECT : THANK YOU "
   ]
  },
  {
   "cell_type": "code",
   "execution_count": null,
   "id": "45b86423",
   "metadata": {},
   "outputs": [],
   "source": []
  }
 ],
 "metadata": {
  "kernelspec": {
   "display_name": "Python 3 (ipykernel)",
   "language": "python",
   "name": "python3"
  },
  "language_info": {
   "codemirror_mode": {
    "name": "ipython",
    "version": 3
   },
   "file_extension": ".py",
   "mimetype": "text/x-python",
   "name": "python",
   "nbconvert_exporter": "python",
   "pygments_lexer": "ipython3",
   "version": "3.9.13"
  }
 },
 "nbformat": 4,
 "nbformat_minor": 5
}
