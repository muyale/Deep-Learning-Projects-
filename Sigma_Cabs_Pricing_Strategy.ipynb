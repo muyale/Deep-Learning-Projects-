{
 "cells": [
  {
   "cell_type": "markdown",
   "id": "6fc89c4f",
   "metadata": {},
   "source": [
    " # PROBLEM STATEMENT : \n",
    " A COMPANY ,SIGMA CABS HAS ROLLED OUT ITS CARS TO THE MARKET AND LOOKS TO EXPAND BUT IT LACKS INSIGHTS\n",
    " AS TO HOW TO CHARGE SURGE PRICES . THE FOLLOWING PROJECT AIMS AT SOLVING THIS PROBLEM BY PREDICTING SURGE TYPE PRICE AND DISTANCE BASED ON VARIOUS FACTORS SUCH AS \n",
    "     .Life Style Index\n",
    "     .Confidence Lifestyle index\n",
    "     .Gender\n",
    "     .Cancellations among other factors"
   ]
  },
  {
   "cell_type": "code",
   "execution_count": 1,
   "id": "26f4d024",
   "metadata": {},
   "outputs": [],
   "source": [
    "import pandas as pd\n",
    "import numpy as np\n",
    "import seaborn as sns\n",
    "import matplotlib.pyplot as plt"
   ]
  },
  {
   "cell_type": "code",
   "execution_count": 2,
   "id": "8e4088d9",
   "metadata": {},
   "outputs": [],
   "source": [
    "df = pd.read_csv(\"C:\\Datasets\\sigma_cabs\\sigma_cabs.csv\")"
   ]
  },
  {
   "cell_type": "code",
   "execution_count": 3,
   "id": "2e2d1a3c",
   "metadata": {},
   "outputs": [
    {
     "data": {
      "text/html": [
       "<div>\n",
       "<style scoped>\n",
       "    .dataframe tbody tr th:only-of-type {\n",
       "        vertical-align: middle;\n",
       "    }\n",
       "\n",
       "    .dataframe tbody tr th {\n",
       "        vertical-align: top;\n",
       "    }\n",
       "\n",
       "    .dataframe thead th {\n",
       "        text-align: right;\n",
       "    }\n",
       "</style>\n",
       "<table border=\"1\" class=\"dataframe\">\n",
       "  <thead>\n",
       "    <tr style=\"text-align: right;\">\n",
       "      <th></th>\n",
       "      <th>Trip_ID</th>\n",
       "      <th>Trip_Distance</th>\n",
       "      <th>Type_of_Cab</th>\n",
       "      <th>Customer_Since_Months</th>\n",
       "      <th>Life_Style_Index</th>\n",
       "      <th>Confidence_Life_Style_Index</th>\n",
       "      <th>Destination_Type</th>\n",
       "      <th>Customer_Rating</th>\n",
       "      <th>Cancellation_Last_1Month</th>\n",
       "      <th>Var1</th>\n",
       "      <th>Var2</th>\n",
       "      <th>Var3</th>\n",
       "      <th>Gender</th>\n",
       "      <th>Surge_Pricing_Type</th>\n",
       "    </tr>\n",
       "  </thead>\n",
       "  <tbody>\n",
       "    <tr>\n",
       "      <th>0</th>\n",
       "      <td>T0005689460</td>\n",
       "      <td>6.77</td>\n",
       "      <td>B</td>\n",
       "      <td>1.0</td>\n",
       "      <td>2.42769</td>\n",
       "      <td>A</td>\n",
       "      <td>A</td>\n",
       "      <td>3.90500</td>\n",
       "      <td>0</td>\n",
       "      <td>40.0</td>\n",
       "      <td>46</td>\n",
       "      <td>60</td>\n",
       "      <td>Female</td>\n",
       "      <td>2</td>\n",
       "    </tr>\n",
       "    <tr>\n",
       "      <th>1</th>\n",
       "      <td>T0005689461</td>\n",
       "      <td>29.47</td>\n",
       "      <td>B</td>\n",
       "      <td>10.0</td>\n",
       "      <td>2.78245</td>\n",
       "      <td>B</td>\n",
       "      <td>A</td>\n",
       "      <td>3.45000</td>\n",
       "      <td>0</td>\n",
       "      <td>38.0</td>\n",
       "      <td>56</td>\n",
       "      <td>78</td>\n",
       "      <td>Male</td>\n",
       "      <td>2</td>\n",
       "    </tr>\n",
       "    <tr>\n",
       "      <th>2</th>\n",
       "      <td>T0005689464</td>\n",
       "      <td>41.58</td>\n",
       "      <td>NaN</td>\n",
       "      <td>10.0</td>\n",
       "      <td>NaN</td>\n",
       "      <td>NaN</td>\n",
       "      <td>E</td>\n",
       "      <td>3.50125</td>\n",
       "      <td>2</td>\n",
       "      <td>NaN</td>\n",
       "      <td>56</td>\n",
       "      <td>77</td>\n",
       "      <td>Male</td>\n",
       "      <td>2</td>\n",
       "    </tr>\n",
       "    <tr>\n",
       "      <th>3</th>\n",
       "      <td>T0005689465</td>\n",
       "      <td>61.56</td>\n",
       "      <td>C</td>\n",
       "      <td>10.0</td>\n",
       "      <td>NaN</td>\n",
       "      <td>NaN</td>\n",
       "      <td>A</td>\n",
       "      <td>3.45375</td>\n",
       "      <td>0</td>\n",
       "      <td>NaN</td>\n",
       "      <td>52</td>\n",
       "      <td>74</td>\n",
       "      <td>Male</td>\n",
       "      <td>3</td>\n",
       "    </tr>\n",
       "    <tr>\n",
       "      <th>4</th>\n",
       "      <td>T0005689467</td>\n",
       "      <td>54.95</td>\n",
       "      <td>C</td>\n",
       "      <td>10.0</td>\n",
       "      <td>3.03453</td>\n",
       "      <td>B</td>\n",
       "      <td>A</td>\n",
       "      <td>3.40250</td>\n",
       "      <td>4</td>\n",
       "      <td>51.0</td>\n",
       "      <td>49</td>\n",
       "      <td>102</td>\n",
       "      <td>Male</td>\n",
       "      <td>2</td>\n",
       "    </tr>\n",
       "  </tbody>\n",
       "</table>\n",
       "</div>"
      ],
      "text/plain": [
       "       Trip_ID  Trip_Distance Type_of_Cab  Customer_Since_Months  \\\n",
       "0  T0005689460           6.77           B                    1.0   \n",
       "1  T0005689461          29.47           B                   10.0   \n",
       "2  T0005689464          41.58         NaN                   10.0   \n",
       "3  T0005689465          61.56           C                   10.0   \n",
       "4  T0005689467          54.95           C                   10.0   \n",
       "\n",
       "   Life_Style_Index Confidence_Life_Style_Index Destination_Type  \\\n",
       "0           2.42769                           A                A   \n",
       "1           2.78245                           B                A   \n",
       "2               NaN                         NaN                E   \n",
       "3               NaN                         NaN                A   \n",
       "4           3.03453                           B                A   \n",
       "\n",
       "   Customer_Rating  Cancellation_Last_1Month  Var1  Var2  Var3  Gender  \\\n",
       "0          3.90500                         0  40.0    46    60  Female   \n",
       "1          3.45000                         0  38.0    56    78    Male   \n",
       "2          3.50125                         2   NaN    56    77    Male   \n",
       "3          3.45375                         0   NaN    52    74    Male   \n",
       "4          3.40250                         4  51.0    49   102    Male   \n",
       "\n",
       "   Surge_Pricing_Type  \n",
       "0                   2  \n",
       "1                   2  \n",
       "2                   2  \n",
       "3                   3  \n",
       "4                   2  "
      ]
     },
     "execution_count": 3,
     "metadata": {},
     "output_type": "execute_result"
    }
   ],
   "source": [
    "df.head()"
   ]
  },
  {
   "cell_type": "code",
   "execution_count": 4,
   "id": "582b0cc4",
   "metadata": {},
   "outputs": [],
   "source": [
    "df.drop(['Trip_ID','Var1'],axis=1,inplace=True)"
   ]
  },
  {
   "cell_type": "code",
   "execution_count": 5,
   "id": "6fd55894",
   "metadata": {},
   "outputs": [
    {
     "data": {
      "text/html": [
       "<div>\n",
       "<style scoped>\n",
       "    .dataframe tbody tr th:only-of-type {\n",
       "        vertical-align: middle;\n",
       "    }\n",
       "\n",
       "    .dataframe tbody tr th {\n",
       "        vertical-align: top;\n",
       "    }\n",
       "\n",
       "    .dataframe thead th {\n",
       "        text-align: right;\n",
       "    }\n",
       "</style>\n",
       "<table border=\"1\" class=\"dataframe\">\n",
       "  <thead>\n",
       "    <tr style=\"text-align: right;\">\n",
       "      <th></th>\n",
       "      <th>Trip_Distance</th>\n",
       "      <th>Type_of_Cab</th>\n",
       "      <th>Customer_Since_Months</th>\n",
       "      <th>Life_Style_Index</th>\n",
       "      <th>Confidence_Life_Style_Index</th>\n",
       "      <th>Destination_Type</th>\n",
       "      <th>Customer_Rating</th>\n",
       "      <th>Cancellation_Last_1Month</th>\n",
       "      <th>Var2</th>\n",
       "      <th>Var3</th>\n",
       "      <th>Gender</th>\n",
       "      <th>Surge_Pricing_Type</th>\n",
       "    </tr>\n",
       "  </thead>\n",
       "  <tbody>\n",
       "    <tr>\n",
       "      <th>0</th>\n",
       "      <td>6.77</td>\n",
       "      <td>B</td>\n",
       "      <td>1.0</td>\n",
       "      <td>2.42769</td>\n",
       "      <td>A</td>\n",
       "      <td>A</td>\n",
       "      <td>3.90500</td>\n",
       "      <td>0</td>\n",
       "      <td>46</td>\n",
       "      <td>60</td>\n",
       "      <td>Female</td>\n",
       "      <td>2</td>\n",
       "    </tr>\n",
       "    <tr>\n",
       "      <th>1</th>\n",
       "      <td>29.47</td>\n",
       "      <td>B</td>\n",
       "      <td>10.0</td>\n",
       "      <td>2.78245</td>\n",
       "      <td>B</td>\n",
       "      <td>A</td>\n",
       "      <td>3.45000</td>\n",
       "      <td>0</td>\n",
       "      <td>56</td>\n",
       "      <td>78</td>\n",
       "      <td>Male</td>\n",
       "      <td>2</td>\n",
       "    </tr>\n",
       "    <tr>\n",
       "      <th>2</th>\n",
       "      <td>41.58</td>\n",
       "      <td>NaN</td>\n",
       "      <td>10.0</td>\n",
       "      <td>NaN</td>\n",
       "      <td>NaN</td>\n",
       "      <td>E</td>\n",
       "      <td>3.50125</td>\n",
       "      <td>2</td>\n",
       "      <td>56</td>\n",
       "      <td>77</td>\n",
       "      <td>Male</td>\n",
       "      <td>2</td>\n",
       "    </tr>\n",
       "    <tr>\n",
       "      <th>3</th>\n",
       "      <td>61.56</td>\n",
       "      <td>C</td>\n",
       "      <td>10.0</td>\n",
       "      <td>NaN</td>\n",
       "      <td>NaN</td>\n",
       "      <td>A</td>\n",
       "      <td>3.45375</td>\n",
       "      <td>0</td>\n",
       "      <td>52</td>\n",
       "      <td>74</td>\n",
       "      <td>Male</td>\n",
       "      <td>3</td>\n",
       "    </tr>\n",
       "    <tr>\n",
       "      <th>4</th>\n",
       "      <td>54.95</td>\n",
       "      <td>C</td>\n",
       "      <td>10.0</td>\n",
       "      <td>3.03453</td>\n",
       "      <td>B</td>\n",
       "      <td>A</td>\n",
       "      <td>3.40250</td>\n",
       "      <td>4</td>\n",
       "      <td>49</td>\n",
       "      <td>102</td>\n",
       "      <td>Male</td>\n",
       "      <td>2</td>\n",
       "    </tr>\n",
       "  </tbody>\n",
       "</table>\n",
       "</div>"
      ],
      "text/plain": [
       "   Trip_Distance Type_of_Cab  Customer_Since_Months  Life_Style_Index  \\\n",
       "0           6.77           B                    1.0           2.42769   \n",
       "1          29.47           B                   10.0           2.78245   \n",
       "2          41.58         NaN                   10.0               NaN   \n",
       "3          61.56           C                   10.0               NaN   \n",
       "4          54.95           C                   10.0           3.03453   \n",
       "\n",
       "  Confidence_Life_Style_Index Destination_Type  Customer_Rating  \\\n",
       "0                           A                A          3.90500   \n",
       "1                           B                A          3.45000   \n",
       "2                         NaN                E          3.50125   \n",
       "3                         NaN                A          3.45375   \n",
       "4                           B                A          3.40250   \n",
       "\n",
       "   Cancellation_Last_1Month  Var2  Var3  Gender  Surge_Pricing_Type  \n",
       "0                         0    46    60  Female                   2  \n",
       "1                         0    56    78    Male                   2  \n",
       "2                         2    56    77    Male                   2  \n",
       "3                         0    52    74    Male                   3  \n",
       "4                         4    49   102    Male                   2  "
      ]
     },
     "execution_count": 5,
     "metadata": {},
     "output_type": "execute_result"
    }
   ],
   "source": [
    "df.head()"
   ]
  },
  {
   "cell_type": "code",
   "execution_count": 6,
   "id": "648f2a81",
   "metadata": {},
   "outputs": [
    {
     "data": {
      "text/plain": [
       "Trip_Distance                      0\n",
       "Type_of_Cab                    20210\n",
       "Customer_Since_Months           5920\n",
       "Life_Style_Index               20193\n",
       "Confidence_Life_Style_Index    20193\n",
       "Destination_Type                   0\n",
       "Customer_Rating                    0\n",
       "Cancellation_Last_1Month           0\n",
       "Var2                               0\n",
       "Var3                               0\n",
       "Gender                             0\n",
       "Surge_Pricing_Type                 0\n",
       "dtype: int64"
      ]
     },
     "execution_count": 6,
     "metadata": {},
     "output_type": "execute_result"
    }
   ],
   "source": [
    "df.isnull().sum()"
   ]
  },
  {
   "cell_type": "code",
   "execution_count": 7,
   "id": "ffa3011e",
   "metadata": {},
   "outputs": [
    {
     "data": {
      "text/plain": [
       "B    31136\n",
       "C    28122\n",
       "A    21569\n",
       "D    18991\n",
       "E    11634\n",
       "Name: Type_of_Cab, dtype: int64"
      ]
     },
     "execution_count": 7,
     "metadata": {},
     "output_type": "execute_result"
    }
   ],
   "source": [
    "df['Type_of_Cab'].value_counts().head(10)"
   ]
  },
  {
   "cell_type": "code",
   "execution_count": 8,
   "id": "b12d636b",
   "metadata": {},
   "outputs": [],
   "source": [
    "df['Type_of_Cab'] = df['Type_of_Cab'].fillna('F')"
   ]
  },
  {
   "cell_type": "code",
   "execution_count": 9,
   "id": "fa1e083f",
   "metadata": {},
   "outputs": [
    {
     "data": {
      "text/plain": [
       "Trip_Distance                      0\n",
       "Type_of_Cab                        0\n",
       "Customer_Since_Months           5920\n",
       "Life_Style_Index               20193\n",
       "Confidence_Life_Style_Index    20193\n",
       "Destination_Type                   0\n",
       "Customer_Rating                    0\n",
       "Cancellation_Last_1Month           0\n",
       "Var2                               0\n",
       "Var3                               0\n",
       "Gender                             0\n",
       "Surge_Pricing_Type                 0\n",
       "dtype: int64"
      ]
     },
     "execution_count": 9,
     "metadata": {},
     "output_type": "execute_result"
    }
   ],
   "source": [
    "df.isnull().sum()"
   ]
  },
  {
   "cell_type": "code",
   "execution_count": 10,
   "id": "a83f1c01",
   "metadata": {},
   "outputs": [
    {
     "data": {
      "text/plain": [
       "2.70697    14\n",
       "2.77608    14\n",
       "2.78465    13\n",
       "2.78388    12\n",
       "2.77447    12\n",
       "2.69489    12\n",
       "2.77256    12\n",
       "2.78127    12\n",
       "2.90294    11\n",
       "2.77533    11\n",
       "Name: Life_Style_Index, dtype: int64"
      ]
     },
     "execution_count": 10,
     "metadata": {},
     "output_type": "execute_result"
    }
   ],
   "source": [
    "df['Life_Style_Index'].value_counts().head(10)"
   ]
  },
  {
   "cell_type": "code",
   "execution_count": 11,
   "id": "5ad56342",
   "metadata": {},
   "outputs": [],
   "source": [
    "df['Life_Style_Index'] = df['Life_Style_Index'].fillna(df['Life_Style_Index'].mean())\n",
    "df['Confidence_Life_Style_Index'] = df['Confidence_Life_Style_Index'].fillna('B')"
   ]
  },
  {
   "cell_type": "code",
   "execution_count": 12,
   "id": "d35d432a",
   "metadata": {},
   "outputs": [
    {
     "data": {
      "text/plain": [
       "B    60548\n",
       "C    35967\n",
       "A    35147\n",
       "Name: Confidence_Life_Style_Index, dtype: int64"
      ]
     },
     "execution_count": 12,
     "metadata": {},
     "output_type": "execute_result"
    }
   ],
   "source": [
    "df['Confidence_Life_Style_Index'].value_counts().head(10)"
   ]
  },
  {
   "cell_type": "code",
   "execution_count": 13,
   "id": "7c7d515e",
   "metadata": {},
   "outputs": [],
   "source": [
    "df['Customer_Since_Months'] = df['Customer_Since_Months'].fillna(0)"
   ]
  },
  {
   "cell_type": "code",
   "execution_count": 14,
   "id": "a8ebdf5e",
   "metadata": {},
   "outputs": [],
   "source": [
    "df['Customer_Rating'] = np.round(df['Customer_Rating'])"
   ]
  },
  {
   "cell_type": "code",
   "execution_count": 15,
   "id": "27006538",
   "metadata": {},
   "outputs": [
    {
     "data": {
      "text/plain": [
       "Trip_Distance                  0\n",
       "Type_of_Cab                    0\n",
       "Customer_Since_Months          0\n",
       "Life_Style_Index               0\n",
       "Confidence_Life_Style_Index    0\n",
       "Destination_Type               0\n",
       "Customer_Rating                0\n",
       "Cancellation_Last_1Month       0\n",
       "Var2                           0\n",
       "Var3                           0\n",
       "Gender                         0\n",
       "Surge_Pricing_Type             0\n",
       "dtype: int64"
      ]
     },
     "execution_count": 15,
     "metadata": {},
     "output_type": "execute_result"
    }
   ],
   "source": [
    "df.isnull().sum()"
   ]
  },
  {
   "cell_type": "code",
   "execution_count": 16,
   "id": "808a9780",
   "metadata": {},
   "outputs": [
    {
     "data": {
      "text/plain": [
       "Trip_Distance                  float64\n",
       "Type_of_Cab                     object\n",
       "Customer_Since_Months          float64\n",
       "Life_Style_Index               float64\n",
       "Confidence_Life_Style_Index     object\n",
       "Destination_Type                object\n",
       "Customer_Rating                float64\n",
       "Cancellation_Last_1Month         int64\n",
       "Var2                             int64\n",
       "Var3                             int64\n",
       "Gender                          object\n",
       "Surge_Pricing_Type               int64\n",
       "dtype: object"
      ]
     },
     "execution_count": 16,
     "metadata": {},
     "output_type": "execute_result"
    }
   ],
   "source": [
    "df.dtypes"
   ]
  },
  {
   "cell_type": "markdown",
   "id": "2cf2c4fa",
   "metadata": {},
   "source": [
    "# DATA ANALYSIS"
   ]
  },
  {
   "cell_type": "code",
   "execution_count": 17,
   "id": "49d06ec1",
   "metadata": {},
   "outputs": [
    {
     "data": {
      "image/png": "[encoded data removed]",
      "text/plain": [
       "<Figure size 1500x800 with 1 Axes>"
      ]
     },
     "metadata": {},
     "output_type": "display_data"
    }
   ],
   "source": [
    "# Distribution of distance\n",
    "fig = plt.figure(figsize=(15,8))\n",
    "fig.suptitle('The Distribution of Distance travelled by Customers',size=20)\n",
    "sns.histplot(x='Trip_Distance',data=df,color='mediumseagreen')\n",
    "plt.ylabel('Total')\n",
    "plt.show()\n",
    "# A majority of customers travel 30 miles ,t"
   ]
  },
  {
   "cell_type": "code",
   "execution_count": 18,
   "id": "89640f54",
   "metadata": {},
   "outputs": [
    {
     "data": {
      "text/plain": [
       "Index(['Trip_Distance', 'Type_of_Cab', 'Customer_Since_Months',\n",
       "       'Life_Style_Index', 'Confidence_Life_Style_Index', 'Destination_Type',\n",
       "       'Customer_Rating', 'Cancellation_Last_1Month', 'Var2', 'Var3', 'Gender',\n",
       "       'Surge_Pricing_Type'],\n",
       "      dtype='object')"
      ]
     },
     "execution_count": 18,
     "metadata": {},
     "output_type": "execute_result"
    }
   ],
   "source": [
    "df.columns"
   ]
  },
  {
   "cell_type": "code",
   "execution_count": 19,
   "id": "30d8c4c3",
   "metadata": {},
   "outputs": [
    {
     "data": {
      "image/png": "[encoded data removed]",
      "text/plain": [
       "<Figure size 1500x800 with 1 Axes>"
      ]
     },
     "metadata": {},
     "output_type": "display_data"
    }
   ],
   "source": [
    "plt.figure(figsize=(15,8))\n",
    "sns.countplot(x='Customer_Rating',data=df)\n",
    "plt.ylabel('Total_Number')\n",
    "plt.title('Ratings by Customers')\n",
    "plt.show()\n",
    "# A good number rated the cabs as 3/5 ,due to novelty??"
   ]
  },
  {
   "cell_type": "code",
   "execution_count": 20,
   "id": "22714417",
   "metadata": {},
   "outputs": [
    {
     "data": {
      "text/plain": [
       "A    77597\n",
       "B    29555\n",
       "C     7484\n",
       "D     6588\n",
       "E     2717\n",
       "Name: Destination_Type, dtype: int64"
      ]
     },
     "execution_count": 20,
     "metadata": {},
     "output_type": "execute_result"
    }
   ],
   "source": [
    "df['Destination_Type'].value_counts().head()"
   ]
  },
  {
   "cell_type": "code",
   "execution_count": 21,
   "id": "af2fc142",
   "metadata": {},
   "outputs": [
    {
     "data": {
      "text/plain": [
       "Destination_Type\n",
       "A    2.761730\n",
       "B    2.810827\n",
       "C    3.199091\n",
       "D    3.050091\n",
       "E    3.311005\n",
       "F    3.300000\n",
       "G    3.395567\n",
       "H    2.984921\n",
       "I    3.137761\n",
       "J    3.008633\n",
       "K    3.229412\n",
       "L    3.311042\n",
       "M    3.247312\n",
       "N    3.530612\n",
       "Name: Customer_Rating, dtype: float64"
      ]
     },
     "execution_count": 21,
     "metadata": {},
     "output_type": "execute_result"
    }
   ],
   "source": [
    "df.groupby('Destination_Type')['Customer_Rating'].agg('mean')\n",
    "# The 3 Most common destination gave a 3 star rating"
   ]
  },
  {
   "cell_type": "code",
   "execution_count": 22,
   "id": "daf7bb91",
   "metadata": {},
   "outputs": [
    {
     "data": {
      "text/plain": [
       "Destination_Type\n",
       "A    46.635770\n",
       "B    45.517439\n",
       "C    42.962588\n",
       "D    29.641900\n",
       "E    32.003544\n",
       "F    46.445538\n",
       "G    25.405561\n",
       "H    27.206849\n",
       "I    22.498647\n",
       "J    19.405079\n",
       "K    32.805941\n",
       "L    46.542830\n",
       "M    34.750860\n",
       "N    18.638776\n",
       "Name: Trip_Distance, dtype: float64"
      ]
     },
     "execution_count": 22,
     "metadata": {},
     "output_type": "execute_result"
    }
   ],
   "source": [
    "df.groupby('Destination_Type')['Trip_Distance'].agg('mean')\n",
    "# For destination N,we can assume that since it is a shorter distance it has received more rating 4:"
   ]
  },
  {
   "cell_type": "code",
   "execution_count": 23,
   "id": "bc8c8bba",
   "metadata": {},
   "outputs": [
    {
     "data": {
      "text/plain": [
       "Destination_Type\n",
       "A    59706\n",
       "B    20794\n",
       "C     7457\n",
       "D     5432\n",
       "E     2470\n",
       "F     1996\n",
       "G     1224\n",
       "H     1022\n",
       "I      721\n",
       "J      568\n",
       "K      644\n",
       "L      857\n",
       "M       86\n",
       "N       93\n",
       "Name: Cancellation_Last_1Month, dtype: int64"
      ]
     },
     "execution_count": 23,
     "metadata": {},
     "output_type": "execute_result"
    }
   ],
   "source": [
    "# Which destinations tend to cancel a lot of their trips??\n",
    "df.groupby('Destination_Type')['Cancellation_Last_1Month'].agg('sum')\n",
    "# A lot  of trip cancellations from destination A ,could it be because of the rating?\n"
   ]
  },
  {
   "cell_type": "code",
   "execution_count": 24,
   "id": "8cccba52",
   "metadata": {},
   "outputs": [
    {
     "data": {
      "text/plain": [
       "Male      55373\n",
       "Female    22224\n",
       "Name: Gender, dtype: int64"
      ]
     },
     "execution_count": 24,
     "metadata": {},
     "output_type": "execute_result"
    }
   ],
   "source": [
    "# Which gender is in what destination? I will focus on the 3 most popular destination ; A,B and C\n",
    "df[df['Destination_Type']=='A']['Gender'].value_counts()"
   ]
  },
  {
   "cell_type": "code",
   "execution_count": 25,
   "id": "6ea95e48",
   "metadata": {},
   "outputs": [
    {
     "data": {
      "text/plain": [
       "Male      21022\n",
       "Female     8533\n",
       "Name: Gender, dtype: int64"
      ]
     },
     "execution_count": 25,
     "metadata": {},
     "output_type": "execute_result"
    }
   ],
   "source": [
    "df[df['Destination_Type']=='B']['Gender'].value_counts()"
   ]
  },
  {
   "cell_type": "code",
   "execution_count": 26,
   "id": "04095327",
   "metadata": {},
   "outputs": [
    {
     "data": {
      "text/plain": [
       "Male      5410\n",
       "Female    2074\n",
       "Name: Gender, dtype: int64"
      ]
     },
     "execution_count": 26,
     "metadata": {},
     "output_type": "execute_result"
    }
   ],
   "source": [
    "df[df['Destination_Type']=='C']['Gender'].value_counts()"
   ]
  },
  {
   "cell_type": "code",
   "execution_count": 27,
   "id": "5393ef9d",
   "metadata": {},
   "outputs": [],
   "source": [
    "# In all the three destinations ,the main clients are male .Destination A seems to be the main client base "
   ]
  },
  {
   "cell_type": "markdown",
   "id": "5b2308f6",
   "metadata": {},
   "source": [
    "# Gender as a factor"
   ]
  },
  {
   "cell_type": "code",
   "execution_count": 28,
   "id": "15d2cccb",
   "metadata": {},
   "outputs": [
    {
     "data": {
      "image/png": "[encoded data removed]",
      "text/plain": [
       "<Figure size 2000x800 with 2 Axes>"
      ]
     },
     "metadata": {},
     "output_type": "display_data"
    }
   ],
   "source": [
    "fig = plt.figure(figsize=(20,8))\n",
    "plt.subplot(2,2,1)\n",
    "sns.countplot(x='Gender',data=df)\n",
    "plt.title('Total number of clients by Gender')\n",
    "plt.subplot(2,2,2)\n",
    "sns.countplot(x='Gender',data=df,hue='Customer_Rating')\n",
    "plt.title('Total number of clients by Gender hued by ratings')\n",
    "plt.show()\n",
    "# Sigma cabs has more male than female clients .Both sexes had a majority rating of 3 stars"
   ]
  },
  {
   "cell_type": "code",
   "execution_count": 29,
   "id": "8f1d9d3a",
   "metadata": {},
   "outputs": [
    {
     "data": {
      "text/plain": [
       "Gender\n",
       "Female    216765.0\n",
       "Male      539782.0\n",
       "Name: Customer_Since_Months, dtype: float64"
      ]
     },
     "execution_count": 29,
     "metadata": {},
     "output_type": "execute_result"
    }
   ],
   "source": [
    "# Which gender has been a customer for a long time\n",
    "df.groupby('Gender')['Customer_Since_Months'].agg('sum')\n",
    "# Males have been sigma cabs main clients in comparison to females"
   ]
  },
  {
   "cell_type": "code",
   "execution_count": 30,
   "id": "1af99ede",
   "metadata": {},
   "outputs": [
    {
     "data": {
      "text/plain": [
       "Gender\n",
       "Female    5.740294\n",
       "Male      5.748477\n",
       "Name: Customer_Since_Months, dtype: float64"
      ]
     },
     "execution_count": 30,
     "metadata": {},
     "output_type": "execute_result"
    }
   ],
   "source": [
    "df.groupby('Gender')['Customer_Since_Months'].agg('mean')\n",
    "# Both sexes average six months as clients"
   ]
  },
  {
   "cell_type": "code",
   "execution_count": 31,
   "id": "91b7efcb",
   "metadata": {},
   "outputs": [
    {
     "data": {
      "text/plain": [
       "Gender\n",
       "Female    29419\n",
       "Male      73651\n",
       "Name: Cancellation_Last_1Month, dtype: int64"
      ]
     },
     "execution_count": 31,
     "metadata": {},
     "output_type": "execute_result"
    }
   ],
   "source": [
    "# Who is most likely to cancel their trips \n",
    "df.groupby('Gender')['Cancellation_Last_1Month'].agg('sum')\n",
    "# Males are most likely to cancel their trips,from destination A as with our previous findings"
   ]
  },
  {
   "cell_type": "markdown",
   "id": "edcf34b9",
   "metadata": {},
   "source": [
    "# Surge Pricing Type : Indepth insights"
   ]
  },
  {
   "cell_type": "code",
   "execution_count": 32,
   "id": "15f34202",
   "metadata": {},
   "outputs": [
    {
     "data": {
      "text/plain": [
       "Index(['Trip_Distance', 'Type_of_Cab', 'Customer_Since_Months',\n",
       "       'Life_Style_Index', 'Confidence_Life_Style_Index', 'Destination_Type',\n",
       "       'Customer_Rating', 'Cancellation_Last_1Month', 'Var2', 'Var3', 'Gender',\n",
       "       'Surge_Pricing_Type'],\n",
       "      dtype='object')"
      ]
     },
     "execution_count": 32,
     "metadata": {},
     "output_type": "execute_result"
    }
   ],
   "source": [
    "df.columns"
   ]
  },
  {
   "cell_type": "code",
   "execution_count": 33,
   "id": "1468f7e0",
   "metadata": {},
   "outputs": [
    {
     "data": {
      "text/plain": [
       "2    56728\n",
       "3    47720\n",
       "1    27214\n",
       "Name: Surge_Pricing_Type, dtype: int64"
      ]
     },
     "execution_count": 33,
     "metadata": {},
     "output_type": "execute_result"
    }
   ],
   "source": [
    "df['Surge_Pricing_Type'].value_counts().head()"
   ]
  },
  {
   "cell_type": "code",
   "execution_count": 34,
   "id": "92b96d5f",
   "metadata": {},
   "outputs": [
    {
     "data": {
      "image/png": "[encoded data removed]",
      "text/plain": [
       "<Figure size 2000x800 with 1 Axes>"
      ]
     },
     "metadata": {},
     "output_type": "display_data"
    }
   ],
   "source": [
    "plt.figure(figsize=(20,8))\n",
    "sns.countplot(x='Surge_Pricing_Type',data=df)\n",
    "plt.title('Different Surge Prices')\n",
    "plt.show()"
   ]
  },
  {
   "cell_type": "code",
   "execution_count": 35,
   "id": "1f6862ef",
   "metadata": {},
   "outputs": [
    {
     "data": {
      "text/plain": [
       "Surge_Pricing_Type\n",
       "3    48822\n",
       "2    40199\n",
       "1    14049\n",
       "Name: Cancellation_Last_1Month, dtype: int64"
      ]
     },
     "execution_count": 35,
     "metadata": {},
     "output_type": "execute_result"
    }
   ],
   "source": [
    "df.groupby('Surge_Pricing_Type')['Cancellation_Last_1Month'].agg('sum').sort_values(ascending=False)\n",
    "# A whole of the cancelled trips were those on Surge Pricing strategy 3"
   ]
  },
  {
   "cell_type": "code",
   "execution_count": 36,
   "id": "c467ece7",
   "metadata": {},
   "outputs": [
    {
     "data": {
      "text/plain": [
       "Surge_Pricing_Type  Destination_Type\n",
       "1                   A                   13752\n",
       "                    B                    8477\n",
       "                    C                    1778\n",
       "                    D                     860\n",
       "                    E                     820\n",
       "                    G                     529\n",
       "                    F                     263\n",
       "                    H                     178\n",
       "                    K                     164\n",
       "                    L                     131\n",
       "                    J                     113\n",
       "                    I                      99\n",
       "                    N                      31\n",
       "                    M                      19\n",
       "2                   A                   33913\n",
       "                    B                   13681\n",
       "                    C                    3093\n",
       "                    D                    2260\n",
       "                    E                    1101\n",
       "                    F                     626\n",
       "                    G                     597\n",
       "                    H                     468\n",
       "                    I                     248\n",
       "                    J                     235\n",
       "                    K                     226\n",
       "                    L                     195\n",
       "                    N                      59\n",
       "                    M                      26\n",
       "3                   A                   29932\n",
       "                    B                    7397\n",
       "                    D                    3468\n",
       "                    C                    2613\n",
       "                    F                    1061\n",
       "                    E                     796\n",
       "                    H                     614\n",
       "                    I                     466\n",
       "                    G                     363\n",
       "                    J                     347\n",
       "                    L                     317\n",
       "                    K                     290\n",
       "                    M                      48\n",
       "                    N                       8\n",
       "Name: Destination_Type, dtype: int64"
      ]
     },
     "execution_count": 36,
     "metadata": {},
     "output_type": "execute_result"
    }
   ],
   "source": [
    "df.groupby('Surge_Pricing_Type')['Destination_Type'].value_counts()\n",
    "# Destination A has surge pricing 2 as a commonality ? What could it mean??"
   ]
  },
  {
   "cell_type": "code",
   "execution_count": 37,
   "id": "3ee0f2d5",
   "metadata": {},
   "outputs": [
    {
     "data": {
      "text/plain": [
       "Surge_Pricing_Type\n",
       "3    49.476234\n",
       "2    41.269265\n",
       "1    41.061633\n",
       "Name: Trip_Distance, dtype: float64"
      ]
     },
     "execution_count": 37,
     "metadata": {},
     "output_type": "execute_result"
    }
   ],
   "source": [
    "df.groupby('Surge_Pricing_Type')['Trip_Distance'].agg('mean').sort_values(ascending=False)\n",
    "#  Surge pricing could be distance specific"
   ]
  },
  {
   "cell_type": "markdown",
   "id": "2c6bfdd9",
   "metadata": {},
   "source": [
    "# Label encoding ,Correlation and pre-modelling"
   ]
  },
  {
   "cell_type": "code",
   "execution_count": 38,
   "id": "0bbd4404",
   "metadata": {},
   "outputs": [
    {
     "name": "stdout",
     "output_type": "stream",
     "text": [
      "The total number of data points in:Trip_Distance  is| 10326\n",
      "The total number of data points in:Type_of_Cab  is| 6\n",
      "The total number of data points in:Customer_Since_Months  is| 11\n",
      "The total number of data points in:Life_Style_Index  is| 55979\n",
      "The total number of data points in:Confidence_Life_Style_Index  is| 3\n",
      "The total number of data points in:Destination_Type  is| 14\n",
      "The total number of data points in:Customer_Rating  is| 6\n",
      "The total number of data points in:Cancellation_Last_1Month  is| 9\n",
      "The total number of data points in:Var2  is| 58\n",
      "The total number of data points in:Var3  is| 96\n",
      "The total number of data points in:Gender  is| 2\n",
      "The total number of data points in:Surge_Pricing_Type  is| 3\n"
     ]
    }
   ],
   "source": [
    "# It will be a  good thing to know the continous and categorical variables\n",
    "# The categorical variables will be all those with fewer data points\n",
    "for column in df.columns:\n",
    "    print(f\"The total number of data points in:{column}  is| {df[column].nunique()}\")"
   ]
  },
  {
   "cell_type": "code",
   "execution_count": 39,
   "id": "4bb92a83",
   "metadata": {},
   "outputs": [],
   "source": [
    "cat_features = ['Type_of_Cab','Customer_Since_Months','Confidence_Life_Style_Index','Destination_Type','Gender']"
   ]
  },
  {
   "cell_type": "code",
   "execution_count": 40,
   "id": "0f1c6283",
   "metadata": {},
   "outputs": [],
   "source": [
    "from sklearn.preprocessing import LabelEncoder\n",
    "lbl_encoder = {}\n",
    "for features in cat_features:\n",
    "    lbl_encoder[features] = LabelEncoder()\n",
    "    df[features] = lbl_encoder[features].fit_transform(df[features])"
   ]
  },
  {
   "cell_type": "code",
   "execution_count": 41,
   "id": "74ab658c",
   "metadata": {},
   "outputs": [
    {
     "data": {
      "text/plain": [
       "Trip_Distance                  float64\n",
       "Type_of_Cab                      int32\n",
       "Customer_Since_Months            int64\n",
       "Life_Style_Index               float64\n",
       "Confidence_Life_Style_Index      int32\n",
       "Destination_Type                 int32\n",
       "Customer_Rating                float64\n",
       "Cancellation_Last_1Month         int64\n",
       "Var2                             int64\n",
       "Var3                             int64\n",
       "Gender                           int32\n",
       "Surge_Pricing_Type               int64\n",
       "dtype: object"
      ]
     },
     "execution_count": 41,
     "metadata": {},
     "output_type": "execute_result"
    }
   ],
   "source": [
    "df.dtypes"
   ]
  },
  {
   "cell_type": "code",
   "execution_count": 42,
   "id": "3807bd68",
   "metadata": {},
   "outputs": [
    {
     "data": {
      "text/html": [
       "<div>\n",
       "<style scoped>\n",
       "    .dataframe tbody tr th:only-of-type {\n",
       "        vertical-align: middle;\n",
       "    }\n",
       "\n",
       "    .dataframe tbody tr th {\n",
       "        vertical-align: top;\n",
       "    }\n",
       "\n",
       "    .dataframe thead th {\n",
       "        text-align: right;\n",
       "    }\n",
       "</style>\n",
       "<table border=\"1\" class=\"dataframe\">\n",
       "  <thead>\n",
       "    <tr style=\"text-align: right;\">\n",
       "      <th></th>\n",
       "      <th>Trip_Distance</th>\n",
       "      <th>Type_of_Cab</th>\n",
       "      <th>Customer_Since_Months</th>\n",
       "      <th>Life_Style_Index</th>\n",
       "      <th>Confidence_Life_Style_Index</th>\n",
       "      <th>Destination_Type</th>\n",
       "      <th>Customer_Rating</th>\n",
       "      <th>Cancellation_Last_1Month</th>\n",
       "      <th>Var2</th>\n",
       "      <th>Var3</th>\n",
       "      <th>Gender</th>\n",
       "      <th>Surge_Pricing_Type</th>\n",
       "    </tr>\n",
       "  </thead>\n",
       "  <tbody>\n",
       "    <tr>\n",
       "      <th>Trip_Distance</th>\n",
       "      <td>1.000000</td>\n",
       "      <td>0.047838</td>\n",
       "      <td>0.132611</td>\n",
       "      <td>0.468367</td>\n",
       "      <td>0.224798</td>\n",
       "      <td>-0.171064</td>\n",
       "      <td>-0.053943</td>\n",
       "      <td>-0.007686</td>\n",
       "      <td>0.200456</td>\n",
       "      <td>0.231706</td>\n",
       "      <td>0.002173</td>\n",
       "      <td>0.135928</td>\n",
       "    </tr>\n",
       "    <tr>\n",
       "      <th>Type_of_Cab</th>\n",
       "      <td>0.047838</td>\n",
       "      <td>1.000000</td>\n",
       "      <td>0.004863</td>\n",
       "      <td>-0.031677</td>\n",
       "      <td>0.059270</td>\n",
       "      <td>-0.000140</td>\n",
       "      <td>-0.064007</td>\n",
       "      <td>0.066166</td>\n",
       "      <td>-0.001421</td>\n",
       "      <td>-0.017322</td>\n",
       "      <td>0.000845</td>\n",
       "      <td>0.359014</td>\n",
       "    </tr>\n",
       "    <tr>\n",
       "      <th>Customer_Since_Months</th>\n",
       "      <td>0.132611</td>\n",
       "      <td>0.004863</td>\n",
       "      <td>1.000000</td>\n",
       "      <td>0.163024</td>\n",
       "      <td>0.021318</td>\n",
       "      <td>-0.055147</td>\n",
       "      <td>-0.033658</td>\n",
       "      <td>-0.003417</td>\n",
       "      <td>0.055878</td>\n",
       "      <td>0.111716</td>\n",
       "      <td>0.000985</td>\n",
       "      <td>0.022959</td>\n",
       "    </tr>\n",
       "    <tr>\n",
       "      <th>Life_Style_Index</th>\n",
       "      <td>0.468367</td>\n",
       "      <td>-0.031677</td>\n",
       "      <td>0.163024</td>\n",
       "      <td>1.000000</td>\n",
       "      <td>0.119489</td>\n",
       "      <td>-0.022695</td>\n",
       "      <td>0.181595</td>\n",
       "      <td>0.068176</td>\n",
       "      <td>0.215921</td>\n",
       "      <td>0.303296</td>\n",
       "      <td>0.000653</td>\n",
       "      <td>-0.073682</td>\n",
       "    </tr>\n",
       "    <tr>\n",
       "      <th>Confidence_Life_Style_Index</th>\n",
       "      <td>0.224798</td>\n",
       "      <td>0.059270</td>\n",
       "      <td>0.021318</td>\n",
       "      <td>0.119489</td>\n",
       "      <td>1.000000</td>\n",
       "      <td>-0.039013</td>\n",
       "      <td>-0.059462</td>\n",
       "      <td>0.028031</td>\n",
       "      <td>0.044439</td>\n",
       "      <td>0.055519</td>\n",
       "      <td>0.005123</td>\n",
       "      <td>0.115344</td>\n",
       "    </tr>\n",
       "    <tr>\n",
       "      <th>Destination_Type</th>\n",
       "      <td>-0.171064</td>\n",
       "      <td>-0.000140</td>\n",
       "      <td>-0.055147</td>\n",
       "      <td>-0.022695</td>\n",
       "      <td>-0.039013</td>\n",
       "      <td>1.000000</td>\n",
       "      <td>0.130118</td>\n",
       "      <td>0.047085</td>\n",
       "      <td>-0.093573</td>\n",
       "      <td>-0.079056</td>\n",
       "      <td>-0.003070</td>\n",
       "      <td>0.012152</td>\n",
       "    </tr>\n",
       "    <tr>\n",
       "      <th>Customer_Rating</th>\n",
       "      <td>-0.053943</td>\n",
       "      <td>-0.064007</td>\n",
       "      <td>-0.033658</td>\n",
       "      <td>0.181595</td>\n",
       "      <td>-0.059462</td>\n",
       "      <td>0.130118</td>\n",
       "      <td>1.000000</td>\n",
       "      <td>0.004513</td>\n",
       "      <td>-0.290762</td>\n",
       "      <td>-0.218017</td>\n",
       "      <td>0.001061</td>\n",
       "      <td>-0.150138</td>\n",
       "    </tr>\n",
       "    <tr>\n",
       "      <th>Cancellation_Last_1Month</th>\n",
       "      <td>-0.007686</td>\n",
       "      <td>0.066166</td>\n",
       "      <td>-0.003417</td>\n",
       "      <td>0.068176</td>\n",
       "      <td>0.028031</td>\n",
       "      <td>0.047085</td>\n",
       "      <td>0.004513</td>\n",
       "      <td>1.000000</td>\n",
       "      <td>0.095830</td>\n",
       "      <td>0.128686</td>\n",
       "      <td>0.002307</td>\n",
       "      <td>0.185646</td>\n",
       "    </tr>\n",
       "    <tr>\n",
       "      <th>Var2</th>\n",
       "      <td>0.200456</td>\n",
       "      <td>-0.001421</td>\n",
       "      <td>0.055878</td>\n",
       "      <td>0.215921</td>\n",
       "      <td>0.044439</td>\n",
       "      <td>-0.093573</td>\n",
       "      <td>-0.290762</td>\n",
       "      <td>0.095830</td>\n",
       "      <td>1.000000</td>\n",
       "      <td>0.683437</td>\n",
       "      <td>0.003183</td>\n",
       "      <td>0.003437</td>\n",
       "    </tr>\n",
       "    <tr>\n",
       "      <th>Var3</th>\n",
       "      <td>0.231706</td>\n",
       "      <td>-0.017322</td>\n",
       "      <td>0.111716</td>\n",
       "      <td>0.303296</td>\n",
       "      <td>0.055519</td>\n",
       "      <td>-0.079056</td>\n",
       "      <td>-0.218017</td>\n",
       "      <td>0.128686</td>\n",
       "      <td>0.683437</td>\n",
       "      <td>1.000000</td>\n",
       "      <td>0.003520</td>\n",
       "      <td>-0.039309</td>\n",
       "    </tr>\n",
       "    <tr>\n",
       "      <th>Gender</th>\n",
       "      <td>0.002173</td>\n",
       "      <td>0.000845</td>\n",
       "      <td>0.000985</td>\n",
       "      <td>0.000653</td>\n",
       "      <td>0.005123</td>\n",
       "      <td>-0.003070</td>\n",
       "      <td>0.001061</td>\n",
       "      <td>0.002307</td>\n",
       "      <td>0.003183</td>\n",
       "      <td>0.003520</td>\n",
       "      <td>1.000000</td>\n",
       "      <td>0.000872</td>\n",
       "    </tr>\n",
       "    <tr>\n",
       "      <th>Surge_Pricing_Type</th>\n",
       "      <td>0.135928</td>\n",
       "      <td>0.359014</td>\n",
       "      <td>0.022959</td>\n",
       "      <td>-0.073682</td>\n",
       "      <td>0.115344</td>\n",
       "      <td>0.012152</td>\n",
       "      <td>-0.150138</td>\n",
       "      <td>0.185646</td>\n",
       "      <td>0.003437</td>\n",
       "      <td>-0.039309</td>\n",
       "      <td>0.000872</td>\n",
       "      <td>1.000000</td>\n",
       "    </tr>\n",
       "  </tbody>\n",
       "</table>\n",
       "</div>"
      ],
      "text/plain": [
       "                             Trip_Distance  Type_of_Cab  \\\n",
       "Trip_Distance                     1.000000     0.047838   \n",
       "Type_of_Cab                       0.047838     1.000000   \n",
       "Customer_Since_Months             0.132611     0.004863   \n",
       "Life_Style_Index                  0.468367    -0.031677   \n",
       "Confidence_Life_Style_Index       0.224798     0.059270   \n",
       "Destination_Type                 -0.171064    -0.000140   \n",
       "Customer_Rating                  -0.053943    -0.064007   \n",
       "Cancellation_Last_1Month         -0.007686     0.066166   \n",
       "Var2                              0.200456    -0.001421   \n",
       "Var3                              0.231706    -0.017322   \n",
       "Gender                            0.002173     0.000845   \n",
       "Surge_Pricing_Type                0.135928     0.359014   \n",
       "\n",
       "                             Customer_Since_Months  Life_Style_Index  \\\n",
       "Trip_Distance                             0.132611          0.468367   \n",
       "Type_of_Cab                               0.004863         -0.031677   \n",
       "Customer_Since_Months                     1.000000          0.163024   \n",
       "Life_Style_Index                          0.163024          1.000000   \n",
       "Confidence_Life_Style_Index               0.021318          0.119489   \n",
       "Destination_Type                         -0.055147         -0.022695   \n",
       "Customer_Rating                          -0.033658          0.181595   \n",
       "Cancellation_Last_1Month                 -0.003417          0.068176   \n",
       "Var2                                      0.055878          0.215921   \n",
       "Var3                                      0.111716          0.303296   \n",
       "Gender                                    0.000985          0.000653   \n",
       "Surge_Pricing_Type                        0.022959         -0.073682   \n",
       "\n",
       "                             Confidence_Life_Style_Index  Destination_Type  \\\n",
       "Trip_Distance                                   0.224798         -0.171064   \n",
       "Type_of_Cab                                     0.059270         -0.000140   \n",
       "Customer_Since_Months                           0.021318         -0.055147   \n",
       "Life_Style_Index                                0.119489         -0.022695   \n",
       "Confidence_Life_Style_Index                     1.000000         -0.039013   \n",
       "Destination_Type                               -0.039013          1.000000   \n",
       "Customer_Rating                                -0.059462          0.130118   \n",
       "Cancellation_Last_1Month                        0.028031          0.047085   \n",
       "Var2                                            0.044439         -0.093573   \n",
       "Var3                                            0.055519         -0.079056   \n",
       "Gender                                          0.005123         -0.003070   \n",
       "Surge_Pricing_Type                              0.115344          0.012152   \n",
       "\n",
       "                             Customer_Rating  Cancellation_Last_1Month  \\\n",
       "Trip_Distance                      -0.053943                 -0.007686   \n",
       "Type_of_Cab                        -0.064007                  0.066166   \n",
       "Customer_Since_Months              -0.033658                 -0.003417   \n",
       "Life_Style_Index                    0.181595                  0.068176   \n",
       "Confidence_Life_Style_Index        -0.059462                  0.028031   \n",
       "Destination_Type                    0.130118                  0.047085   \n",
       "Customer_Rating                     1.000000                  0.004513   \n",
       "Cancellation_Last_1Month            0.004513                  1.000000   \n",
       "Var2                               -0.290762                  0.095830   \n",
       "Var3                               -0.218017                  0.128686   \n",
       "Gender                              0.001061                  0.002307   \n",
       "Surge_Pricing_Type                 -0.150138                  0.185646   \n",
       "\n",
       "                                 Var2      Var3    Gender  Surge_Pricing_Type  \n",
       "Trip_Distance                0.200456  0.231706  0.002173            0.135928  \n",
       "Type_of_Cab                 -0.001421 -0.017322  0.000845            0.359014  \n",
       "Customer_Since_Months        0.055878  0.111716  0.000985            0.022959  \n",
       "Life_Style_Index             0.215921  0.303296  0.000653           -0.073682  \n",
       "Confidence_Life_Style_Index  0.044439  0.055519  0.005123            0.115344  \n",
       "Destination_Type            -0.093573 -0.079056 -0.003070            0.012152  \n",
       "Customer_Rating             -0.290762 -0.218017  0.001061           -0.150138  \n",
       "Cancellation_Last_1Month     0.095830  0.128686  0.002307            0.185646  \n",
       "Var2                         1.000000  0.683437  0.003183            0.003437  \n",
       "Var3                         0.683437  1.000000  0.003520           -0.039309  \n",
       "Gender                       0.003183  0.003520  1.000000            0.000872  \n",
       "Surge_Pricing_Type           0.003437 -0.039309  0.000872            1.000000  "
      ]
     },
     "execution_count": 42,
     "metadata": {},
     "output_type": "execute_result"
    }
   ],
   "source": [
    "df.corr()"
   ]
  },
  {
   "cell_type": "markdown",
   "id": "f645d276",
   "metadata": {},
   "source": [
    "# ARTIFICIAL INTELLIGENCE : MACHINE AND DEEP LEARNING THROUGH EMBEDDINGS"
   ]
  },
  {
   "cell_type": "markdown",
   "id": "0ec5089e",
   "metadata": {},
   "source": [
    "# Machine Learning::"
   ]
  },
  {
   "cell_type": "code",
   "execution_count": 43,
   "id": "9994603b",
   "metadata": {},
   "outputs": [
    {
     "data": {
      "text/plain": [
       "Index(['Trip_Distance', 'Type_of_Cab', 'Customer_Since_Months',\n",
       "       'Life_Style_Index', 'Confidence_Life_Style_Index', 'Destination_Type',\n",
       "       'Customer_Rating', 'Cancellation_Last_1Month', 'Var2', 'Var3', 'Gender',\n",
       "       'Surge_Pricing_Type'],\n",
       "      dtype='object')"
      ]
     },
     "execution_count": 43,
     "metadata": {},
     "output_type": "execute_result"
    }
   ],
   "source": [
    "df.columns"
   ]
  },
  {
   "cell_type": "code",
   "execution_count": 44,
   "id": "7c263617",
   "metadata": {},
   "outputs": [],
   "source": [
    "X = df.drop(['Surge_Pricing_Type'],axis=1)\n",
    "y = df['Surge_Pricing_Type']"
   ]
  },
  {
   "cell_type": "code",
   "execution_count": 45,
   "id": "f7c27d81",
   "metadata": {},
   "outputs": [],
   "source": [
    "from sklearn.model_selection import train_test_split\n",
    "X_train,X_test,y_train,y_test = train_test_split(X,y,test_size=0.2,random_state=42,shuffle=True)"
   ]
  },
  {
   "cell_type": "code",
   "execution_count": 46,
   "id": "c3bbe5c1",
   "metadata": {},
   "outputs": [
    {
     "name": "stdout",
     "output_type": "stream",
     "text": [
      "The classification report is:              precision    recall  f1-score   support\n",
      "\n",
      "           1       0.72      0.56      0.63      5405\n",
      "           2       0.67      0.77      0.72     11385\n",
      "           3       0.70      0.66      0.68      9543\n",
      "\n",
      "    accuracy                           0.69     26333\n",
      "   macro avg       0.70      0.67      0.68     26333\n",
      "weighted avg       0.69      0.69      0.69     26333\n",
      "\n",
      "====================================================================\n"
     ]
    }
   ],
   "source": [
    "from sklearn.ensemble import RandomForestClassifier,RandomForestRegressor\n",
    "from sklearn.tree import DecisionTreeClassifier\n",
    "from sklearn.metrics import classification_report,mean_squared_error\n",
    "rfc = RandomForestClassifier()\n",
    "rfc.fit(X_train,y_train)\n",
    "rf_predict  = rfc.predict(X_test)\n",
    "print(f\"The classification report is:{classification_report(y_test,rf_predict)}\")\n",
    "print(\"====================================================================\")"
   ]
  },
  {
   "cell_type": "code",
   "execution_count": 47,
   "id": "c2ca8261",
   "metadata": {},
   "outputs": [
    {
     "name": "stdout",
     "output_type": "stream",
     "text": [
      "0.4585121330649755\n"
     ]
    }
   ],
   "source": [
    "rfr = RandomForestRegressor()\n",
    "rfr.fit(X_train,y_train)\n",
    "rfr_predict  = rfc.predict(X_test)\n",
    "print(mean_squared_error(y_test,rfr_predict))"
   ]
  },
  {
   "cell_type": "code",
   "execution_count": 48,
   "id": "399d4396",
   "metadata": {},
   "outputs": [
    {
     "name": "stdout",
     "output_type": "stream",
     "text": [
      "The classification report is:              precision    recall  f1-score   support\n",
      "\n",
      "           1       0.49      0.51      0.50      5405\n",
      "           2       0.60      0.59      0.59     11385\n",
      "           3       0.59      0.59      0.59      9543\n",
      "\n",
      "    accuracy                           0.57     26333\n",
      "   macro avg       0.56      0.56      0.56     26333\n",
      "weighted avg       0.57      0.57      0.57     26333\n",
      "\n",
      "====================================================================\n"
     ]
    }
   ],
   "source": [
    "dfc = DecisionTreeClassifier()\n",
    "dfc.fit(X_train,y_train)\n",
    "dfc_predict  = dfc.predict(X_test)\n",
    "print(f\"The classification report is:{classification_report(y_test,dfc_predict)}\")\n",
    "print(\"====================================================================\")"
   ]
  },
  {
   "cell_type": "code",
   "execution_count": 49,
   "id": "6377f47b",
   "metadata": {},
   "outputs": [
    {
     "name": "stdout",
     "output_type": "stream",
     "text": [
      "[3 1 2 3 3 3 3 2 2 2]\n",
      "[3 1 2 3 3 3 3 2 2 2]\n",
      "[3 2 2 1 2 1 3 3 2 3]\n"
     ]
    }
   ],
   "source": [
    "print(rf_predict[:10])\n",
    "print(rfr_predict[:10])\n",
    "print(dfc_predict[:10])"
   ]
  },
  {
   "cell_type": "markdown",
   "id": "b2bc0bc7",
   "metadata": {},
   "source": [
    "# DEEP LEARNING ,LINEAR LAYER ,EMBEDDING LAYER"
   ]
  },
  {
   "cell_type": "code",
   "execution_count": 50,
   "id": "c1f3bb64",
   "metadata": {},
   "outputs": [],
   "source": [
    "import torch\n",
    "from torch import nn\n",
    "import torch.nn.functional as F"
   ]
  },
  {
   "cell_type": "code",
   "execution_count": 51,
   "id": "447ad73f",
   "metadata": {},
   "outputs": [
    {
     "data": {
      "text/plain": [
       "(131662, 11)"
      ]
     },
     "execution_count": 51,
     "metadata": {},
     "output_type": "execute_result"
    }
   ],
   "source": [
    "X.shape"
   ]
  },
  {
   "cell_type": "code",
   "execution_count": 52,
   "id": "19501e09",
   "metadata": {},
   "outputs": [
    {
     "data": {
      "text/plain": [
       "(131662,)"
      ]
     },
     "execution_count": 52,
     "metadata": {},
     "output_type": "execute_result"
    }
   ],
   "source": [
    "y.shape"
   ]
  },
  {
   "cell_type": "code",
   "execution_count": 53,
   "id": "5f0a501d",
   "metadata": {},
   "outputs": [],
   "source": [
    "X = X.values\n",
    "y = y.values.reshape(-1,1)"
   ]
  },
  {
   "cell_type": "code",
   "execution_count": 54,
   "id": "73aa6060",
   "metadata": {},
   "outputs": [
    {
     "data": {
      "text/plain": [
       "array([[ 6.77,  1.  ,  1.  , ..., 46.  , 60.  ,  0.  ],\n",
       "       [29.47,  1.  , 10.  , ..., 56.  , 78.  ,  1.  ],\n",
       "       [41.58,  5.  , 10.  , ..., 56.  , 77.  ,  1.  ],\n",
       "       ...,\n",
       "       [40.17,  2.  , 10.  , ..., 48.  , 75.  ,  0.  ],\n",
       "       [46.88,  1.  ,  4.  , ..., 54.  , 79.  ,  1.  ],\n",
       "       [31.96,  0.  ,  7.  , ..., 57.  , 85.  ,  1.  ]])"
      ]
     },
     "execution_count": 54,
     "metadata": {},
     "output_type": "execute_result"
    }
   ],
   "source": [
    "X"
   ]
  },
  {
   "cell_type": "code",
   "execution_count": 55,
   "id": "3d87992b",
   "metadata": {},
   "outputs": [
    {
     "data": {
      "text/plain": [
       "array([[2],\n",
       "       [2],\n",
       "       [2],\n",
       "       ...,\n",
       "       [2],\n",
       "       [2],\n",
       "       [1]], dtype=int64)"
      ]
     },
     "execution_count": 55,
     "metadata": {},
     "output_type": "execute_result"
    }
   ],
   "source": [
    "y"
   ]
  },
  {
   "cell_type": "code",
   "execution_count": 102,
   "id": "dda5fd51",
   "metadata": {},
   "outputs": [],
   "source": [
    "class Sigma(nn.Module):\n",
    "    def __init__(self,input_dim=11,hidden_dim=22,output_dim=3):\n",
    "        super().__init__()\n",
    "        self.linear_layer1 = nn.Linear(input_dim,hidden_dim)\n",
    "        self.linear_layer2 = nn.Linear(hidden_dim,hidden_dim)\n",
    "        self.linear_3 = nn.LazyLinear(hidden_dim,hidden_dim)\n",
    "        self.out = nn.Linear(hidden_dim,output_dim)\n",
    "        \n",
    "        \n",
    "    def forward(self,x:torch.tensor):\n",
    "        x = self.linear_layer1(x)\n",
    "        x= self.linear_layer2(x)\n",
    "        x = self.linear_3(x)\n",
    "        x= self.out(x)\n",
    "        return x"
   ]
  },
  {
   "cell_type": "code",
   "execution_count": 103,
   "id": "a8992e2d",
   "metadata": {},
   "outputs": [],
   "source": [
    "X_train,X_test,y_train,y_test = train_test_split(X,y,random_state=101,shuffle=True)"
   ]
  },
  {
   "cell_type": "code",
   "execution_count": 104,
   "id": "dc763885",
   "metadata": {},
   "outputs": [
    {
     "data": {
      "text/plain": [
       "array([[49.48    ,  3.      ,  0.      ,  2.56718 ,  1.      ,  0.      ,\n",
       "         1.      ,  1.      , 46.      , 69.      ,  1.      ],\n",
       "       [16.88    ,  5.      , 10.      ,  2.802064,  1.      ,  9.      ,\n",
       "         4.      ,  2.      , 57.      , 83.      ,  1.      ],\n",
       "       [48.98    ,  5.      ,  1.      ,  2.97536 ,  1.      ,  1.      ,\n",
       "         3.      ,  0.      , 51.      , 78.      ,  1.      ],\n",
       "       [16.3     ,  4.      ,  2.      ,  2.63349 ,  2.      ,  0.      ,\n",
       "         3.      ,  0.      , 46.      , 65.      ,  0.      ]])"
      ]
     },
     "execution_count": 104,
     "metadata": {},
     "output_type": "execute_result"
    }
   ],
   "source": [
    "X_train[:4]"
   ]
  },
  {
   "cell_type": "code",
   "execution_count": 105,
   "id": "0b8d5883",
   "metadata": {},
   "outputs": [],
   "source": [
    "X_train = torch.from_numpy(X_train).type(torch.Tensor)\n",
    "X_test = torch.from_numpy(X_test).type(torch.Tensor)\n",
    "y_train = torch.from_numpy(y_train).type(torch.LongTensor)\n",
    "y_test = torch.from_numpy(y_test).type(torch.LongTensor)"
   ]
  },
  {
   "cell_type": "code",
   "execution_count": 106,
   "id": "6b93b2da",
   "metadata": {},
   "outputs": [
    {
     "data": {
      "text/plain": [
       "tensor([[49.4800,  3.0000,  0.0000,  ..., 46.0000, 69.0000,  1.0000],\n",
       "        [16.8800,  5.0000, 10.0000,  ..., 57.0000, 83.0000,  1.0000],\n",
       "        [48.9800,  5.0000,  1.0000,  ..., 51.0000, 78.0000,  1.0000],\n",
       "        ...,\n",
       "        [76.2100,  0.0000, 10.0000,  ..., 49.0000, 70.0000,  1.0000],\n",
       "        [68.2000,  5.0000,  7.0000,  ..., 49.0000, 73.0000,  1.0000],\n",
       "        [23.3300,  4.0000,  5.0000,  ..., 51.0000, 84.0000,  1.0000]])"
      ]
     },
     "execution_count": 106,
     "metadata": {},
     "output_type": "execute_result"
    }
   ],
   "source": [
    "X_train"
   ]
  },
  {
   "cell_type": "code",
   "execution_count": 107,
   "id": "aff78b14",
   "metadata": {},
   "outputs": [
    {
     "data": {
      "text/plain": [
       "tensor([[3],\n",
       "        [1],\n",
       "        [1],\n",
       "        ...,\n",
       "        [3],\n",
       "        [2],\n",
       "        [3]])"
      ]
     },
     "execution_count": 107,
     "metadata": {},
     "output_type": "execute_result"
    }
   ],
   "source": [
    "y_train"
   ]
  },
  {
   "cell_type": "code",
   "execution_count": 108,
   "id": "e8ff6add",
   "metadata": {},
   "outputs": [],
   "source": [
    "model = Sigma()"
   ]
  },
  {
   "cell_type": "code",
   "execution_count": 109,
   "id": "a9cc089d",
   "metadata": {},
   "outputs": [
    {
     "name": "stdout",
     "output_type": "stream",
     "text": [
      "tensor([[5.5387, 3.2656, 0.3814],\n",
      "        [5.4253, 3.5891, 0.4418],\n",
      "        [2.2474, 2.0951, 0.0658],\n",
      "        ...,\n",
      "        [2.7155, 2.0580, 0.1491],\n",
      "        [3.4918, 2.4232, 0.1594],\n",
      "        [3.5790, 2.7051, 0.0173]])\n"
     ]
    }
   ],
   "source": [
    "with torch.inference_mode():\n",
    "    predictions = model.forward(X_test)\n",
    "    print(predictions)"
   ]
  },
  {
   "cell_type": "code",
   "execution_count": null,
   "id": "7fb65b3c",
   "metadata": {},
   "outputs": [],
   "source": [
    "# Training and testing loop"
   ]
  },
  {
   "cell_type": "code",
   "execution_count": null,
   "id": "6cbdc770",
   "metadata": {},
   "outputs": [],
   "source": [
    "loss = nn.MSELoss()\n",
    "optimizer = torch.optim.SGD(model.parameters(),lr=0.01)"
   ]
  },
  {
   "cell_type": "code",
   "execution_count": null,
   "id": "e4ba3da9",
   "metadata": {},
   "outputs": [],
   "source": [
    "epochs = 200\n",
    "\n",
    "for epoch in range (epochs):\n",
    "    y_pred = model.forward(X_train)\n",
    "    loss= criterion(y_train,y_pred)\n",
    "    optimizer.zero_grad()\n",
    "    loss.backward()\n",
    "    optimizer.step()\n",
    "    with torch.inference_mode():\n",
    "        model.eval()\n",
    "        y_pred = model.forward(X_train)\n",
    "        tra_loss = criterion(y_train,y_pred)\n",
    "        if epoch % 10 == 0 :\n",
    "            print(f\"The epoch is {epoch},the train loss is {train_loss} and test_loss is{test_loss}\")"
   ]
  },
  {
   "cell_type": "code",
   "execution_count": null,
   "id": "95013a1b",
   "metadata": {},
   "outputs": [],
   "source": []
  },
  {
   "cell_type": "code",
   "execution_count": null,
   "id": "f308bf46",
   "metadata": {},
   "outputs": [],
   "source": []
  }
 ],
 "metadata": {
  "kernelspec": {
   "display_name": "Python 3 (ipykernel)",
   "language": "python",
   "name": "python3"
  },
  "language_info": {
   "codemirror_mode": {
    "name": "ipython",
    "version": 3
   },
   "file_extension": ".py",
   "mimetype": "text/x-python",
   "name": "python",
   "nbconvert_exporter": "python",
   "pygments_lexer": "ipython3",
   "version": "3.9.13"
  }
 },
 "nbformat": 4,
 "nbformat_minor": 5
}
